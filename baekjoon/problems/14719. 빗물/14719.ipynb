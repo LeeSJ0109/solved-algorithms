{
 "cells": [
  {
   "cell_type": "markdown",
   "metadata": {},
   "source": [
    "## 문제\n",
    "2차원 세계에 블록이 쌓여있다. 비가 오면 블록 사이에 빗물이 고인다.\n",
    "\n",
    "<center>\n",
    "<img src=\"../../images/14719-1.png\"> <img src=\"../../images/14719-2.png\">\n",
    "</center>\n",
    "\n",
    "비는 충분히 많이 온다. 고이는 빗물의 총량은 얼마일까?\n",
    "\n",
    "## 입력\n",
    "첫 번째 줄에는 2차원 세계의 세로 길이 H과 2차원 세계의 가로 길이 W가 주어진다. (1 ≤ H, W ≤ 500)\n",
    "\n",
    "두 번째 줄에는 블록이 쌓인 높이를 의미하는 0이상 H이하의 정수가 2차원 세계의 맨 왼쪽 위치부터 차례대로 W개 주어진다.\n",
    "\n",
    "따라서 블록 내부의 빈 공간이 생길 수 없다. 또 2차원 세계의 바닥은 항상 막혀있다고 가정하여도 좋다.\n",
    "\n",
    "## 출력\n",
    "2차원 세계에서는 한 칸의 용량은 1이다. 고이는 빗물의 총량을 출력하여라.\n",
    "\n",
    "빗물이 전혀 고이지 않을 경우 0을 출력하여라."
   ]
  },
  {
   "cell_type": "code",
   "execution_count": 3,
   "metadata": {},
   "outputs": [
    {
     "name": "stdout",
     "output_type": "stream",
     "text": [
      "5\n"
     ]
    }
   ],
   "source": [
    "H, W = map(int, input().split())\n",
    "block = list(map(int, input().split()))\n",
    "\n",
    "before = sum(block)\n",
    "top = block.index(max(block))\n",
    "\n",
    "left_top = 0\n",
    "for i in range(top):\n",
    "    if left_top < block[i]:\n",
    "        left_top = block[i]\n",
    "    block[i] = left_top\n",
    "\n",
    "right_top = 0\n",
    "for i in range(W - 1, top, -1):\n",
    "    if right_top < block[i]:\n",
    "        right_top = block[i]\n",
    "    block[i] = right_top\n",
    "\n",
    "after = sum(block)\n",
    "\n",
    "print(after - before)"
   ]
  }
 ],
 "metadata": {
  "kernelspec": {
   "display_name": "venv",
   "language": "python",
   "name": "venv"
  },
  "language_info": {
   "codemirror_mode": {
    "name": "ipython",
    "version": 3
   },
   "file_extension": ".py",
   "mimetype": "text/x-python",
   "name": "python",
   "nbconvert_exporter": "python",
   "pygments_lexer": "ipython3",
   "version": "3.11.2"
  }
 },
 "nbformat": 4,
 "nbformat_minor": 2
}
