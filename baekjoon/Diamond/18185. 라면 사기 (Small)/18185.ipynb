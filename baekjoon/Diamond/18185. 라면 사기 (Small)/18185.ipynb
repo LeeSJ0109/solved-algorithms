{
 "cells": [
  {
   "cell_type": "markdown",
   "metadata": {},
   "source": [
    "## 문제\n",
    "라면매니아 교준이네 집 주변에는 N개의 라면 공장이 있다. 각 공장은 1번부터 N번까지 차례대로 번호가 부여되어 있다. 교준이는 i번 공장에서 정확하게 Ai개의 라면을 구매하고자 한다(1 ≤ i ≤ N).\n",
    "\n",
    "교준이는 아래의 세 가지 방법으로 라면을 구매할 수 있다.\n",
    "\n",
    "1. i번 공장에서 라면을 하나 구매한다(1 ≤ i ≤ N). 이 경우 비용은 3원이 든다.\n",
    "2. i번 공장과 (i+1)번 공장에서 각각 라면을 하나씩 구매한다(1 ≤ i ≤ N-1). 이 경우 비용은 5원이 든다.\n",
    "3. i번 공장과 (i+1)번 공장, (i+2)번 공장에서 각각 라면을 하나씩 구매한다(1 ≤ i ≤ N-2). 이 경우 비용은 7원이 든다.\n",
    "\n",
    "최소의 비용으로 라면을 구매하고자 할 때, 교준이가 필요한 금액을 출력하는 프로그램을 작성하시오.\n",
    "\n",
    "## 입력\n",
    "첫 번째 줄에 라면 공장의 개수를 의미하는 자연수 N가 주어진다.\n",
    "\n",
    "두번째 줄에 N개의 정수 A1, ···, AN가 사이에 공백을 두고 주어진다.\n",
    "\n",
    "## 출력\n",
    "첫 번째 줄에 교준이가 필요한 최소 금액을 출력한다.\n",
    "\n",
    "## 제한\n",
    "모든 입력 데이터는 다음 조건을 만족한다.\n",
    "\n",
    "- 3 ≤ N ≤ 104\n",
    "- 0 ≤ Ai ≤ 104 (1 ≤ i ≤ N)\n"
   ]
  },
  {
   "cell_type": "code",
   "execution_count": 55,
   "metadata": {},
   "outputs": [],
   "source": [
    "def buy_ramyeon(N):\n",
    "    ramyeon_list = list(map(int, input().split())) + [0, 0]\n",
    "    cost = 0\n",
    "    \n",
    "    for i in range(N):\n",
    "        if ramyeon_list[i + 1] > ramyeon_list[i + 2]:\n",
    "            case2_count = min(ramyeon_list[i], ramyeon_list[i + 1] - ramyeon_list[i + 2])\n",
    "            ramyeon_list[i:i+2] = [x - case2_count for x in ramyeon_list[i:i+2]]\n",
    "            cost += case2_count * 5\n",
    "                \n",
    "            case3_count = min(ramyeon_list[i: i+3])\n",
    "            ramyeon_list[i:i+3] = [x - case3_count for x in ramyeon_list[i:i+3]]\n",
    "            cost += case3_count * 7\n",
    "            \n",
    "        else:\n",
    "            case3_count = min(ramyeon_list[i: i+3])\n",
    "            ramyeon_list[i:i+3] = [x - case3_count for x in ramyeon_list[i:i+3]]\n",
    "            cost += case3_count * 7\n",
    "            \n",
    "            case2_count = min(ramyeon_list[i], ramyeon_list[i + 1])\n",
    "            ramyeon_list[i:i+2] = [x - case2_count for x in ramyeon_list[i:i+2]]\n",
    "            cost += case2_count * 5\n",
    "       \n",
    "        cost += (ramyeon_list[i] * 3)\n",
    "    return cost"
   ]
  },
  {
   "cell_type": "code",
   "execution_count": 56,
   "metadata": {},
   "outputs": [
    {
     "name": "stdout",
     "output_type": "stream",
     "text": [
      "31\n"
     ]
    }
   ],
   "source": [
    "N = int(input())\n",
    "\n",
    "print(buy_ramyeon(N))"
   ]
  }
 ],
 "metadata": {
  "kernelspec": {
   "display_name": "venv",
   "language": "python",
   "name": "venv"
  },
  "language_info": {
   "codemirror_mode": {
    "name": "ipython",
    "version": 3
   },
   "file_extension": ".py",
   "mimetype": "text/x-python",
   "name": "python",
   "nbconvert_exporter": "python",
   "pygments_lexer": "ipython3",
   "version": "3.11.2"
  }
 },
 "nbformat": 4,
 "nbformat_minor": 2
}
