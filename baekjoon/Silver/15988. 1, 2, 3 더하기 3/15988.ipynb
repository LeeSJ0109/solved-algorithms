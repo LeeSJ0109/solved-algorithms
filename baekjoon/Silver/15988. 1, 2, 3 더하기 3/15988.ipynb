{
 "cells": [
  {
   "cell_type": "markdown",
   "metadata": {},
   "source": [
    "## 문제\n",
    "정수 4를 1, 2, 3의 합으로 나타내는 방법은 총 7가지가 있다. 합을 나타낼 때는 수를 1개 이상 사용해야 한다.\n",
    "\n",
    "- 1+1+1+1\n",
    "- 1+1+2\n",
    "- 1+2+1\n",
    "- 2+1+1\n",
    "- 2+2\n",
    "- 1+3\n",
    "- 3+1\n",
    "\n",
    "정수 n이 주어졌을 때, n을 1, 2, 3의 합으로 나타내는 방법의 수를 구하는 프로그램을 작성하시오.\n",
    "\n",
    "## 입력\n",
    "첫째 줄에 테스트 케이스의 개수 T가 주어진다. 각 테스트 케이스는 한 줄로 이루어져 있고, 정수 n이 주어진다. n은 양수이며 1,000,000보다 작거나 같다.\n",
    "\n",
    "## 출력\n",
    "각 테스트 케이스마다, n을 1, 2, 3의 합으로 나타내는 방법의 수를 1,000,000,009로 나눈 나머지를 출력한다.\n"
   ]
  },
  {
   "cell_type": "code",
   "execution_count": 15,
   "metadata": {},
   "outputs": [
    {
     "name": "stdout",
     "output_type": "stream",
     "text": [
      "7\n",
      "44\n",
      "274\n"
     ]
    }
   ],
   "source": [
    "sum_way = [0] * 1000001\n",
    "\n",
    "for i in range(1000001):\n",
    "    if i < 3:\n",
    "        sum_way[i] = i\n",
    "    elif i == 3:\n",
    "        sum_way[i] = 4\n",
    "    else:\n",
    "        sum_way[i] = (sum_way[i-3] + sum_way[i-2] + sum_way[i-1]) % 1000000009\n",
    "      \n",
    "T = int(input())\n",
    "for _ in range(T):\n",
    "    print(sum_way[int(input())])"
   ]
  }
 ],
 "metadata": {
  "kernelspec": {
   "display_name": "venv",
   "language": "python",
   "name": "venv"
  },
  "language_info": {
   "codemirror_mode": {
    "name": "ipython",
    "version": 3
   },
   "file_extension": ".py",
   "mimetype": "text/x-python",
   "name": "python",
   "nbconvert_exporter": "python",
   "pygments_lexer": "ipython3",
   "version": "3.11.2"
  }
 },
 "nbformat": 4,
 "nbformat_minor": 2
}
