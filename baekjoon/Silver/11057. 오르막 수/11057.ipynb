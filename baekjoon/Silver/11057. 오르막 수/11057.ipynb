{
 "cells": [
  {
   "cell_type": "markdown",
   "metadata": {},
   "source": [
    "## 문제\n",
    "오르막 수는 수의 자리가 오름차순을 이루는 수를 말한다. 이때, 인접한 수가 같아도 오름차순으로 친다.\n",
    "\n",
    "예를 들어, 2234와 3678, 11119는 오르막 수이지만, 2232, 3676, 91111은 오르막 수가 아니다.\n",
    "\n",
    "수의 길이 N이 주어졌을 때, 오르막 수의 개수를 구하는 프로그램을 작성하시오. 수는 0으로 시작할 수 있다.\n",
    "\n",
    "## 입력\n",
    "첫째 줄에 N (1 ≤ N ≤ 1,000)이 주어진다.\n",
    "\n",
    "## 출력\n",
    "첫째 줄에 길이가 N인 오르막 수의 개수를 10,007로 나눈 나머지를 출력한다.\n"
   ]
  },
  {
   "cell_type": "code",
   "execution_count": 20,
   "metadata": {},
   "outputs": [
    {
     "name": "stdout",
     "output_type": "stream",
     "text": [
      "220\n"
     ]
    }
   ],
   "source": [
    "N = int(input())\n",
    "up_num = [[0] * 10 for _ in range(N + 1)]\n",
    "\n",
    "for i in range(1, N+1):\n",
    "    for j in range(10):\n",
    "        if i == 1:\n",
    "            up_num[i] = [1] * 10\n",
    "        else:\n",
    "            up_num[i][j] = sum(up_num[i-1][:j+1])\n",
    "\n",
    "print(sum(up_num[N]) % 10007)"
   ]
  }
 ],
 "metadata": {
  "kernelspec": {
   "display_name": "venv",
   "language": "python",
   "name": "venv"
  },
  "language_info": {
   "codemirror_mode": {
    "name": "ipython",
    "version": 3
   },
   "file_extension": ".py",
   "mimetype": "text/x-python",
   "name": "python",
   "nbconvert_exporter": "python",
   "pygments_lexer": "ipython3",
   "version": "3.11.2"
  }
 },
 "nbformat": 4,
 "nbformat_minor": 2
}
