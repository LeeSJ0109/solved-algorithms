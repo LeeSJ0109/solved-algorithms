{
 "cells": [
  {
   "cell_type": "markdown",
   "metadata": {},
   "source": [
    "## 문제\n",
    "정수 X에 사용할 수 있는 연산은 다음과 같이 세 가지 이다.\n",
    "\n",
    "1. X가 3으로 나누어 떨어지면, 3으로 나눈다.\n",
    "2. X가 2로 나누어 떨어지면, 2로 나눈다.\n",
    "3. 1을 뺀다.\n",
    "\n",
    "정수 N이 주어졌을 때, 위와 같은 연산 세 개를 적절히 사용해서 1을 만들려고 한다. 연산을 사용하는 횟수의 최솟값을 출력하시오.\n",
    "\n",
    "## 입력\n",
    "첫째 줄에 1보다 크거나 같고, 10^6보다 작거나 같은 정수 N이 주어진다.\n",
    "\n",
    "## 출력\n",
    "첫째 줄에 연산을 하는 횟수의 최솟값을 출력한다.\n"
   ]
  },
  {
   "cell_type": "code",
   "execution_count": 1,
   "metadata": {},
   "outputs": [],
   "source": [
    "def get_min_cal(N):\n",
    "    min_cal_list = [0] * (N + 1)\n",
    "    \n",
    "    for i in range(2, N + 1):\n",
    "        min_cal_list[i] = min_cal_list[i - 1] + 1\n",
    "        # 1을 뺀 경우\n",
    "        if i % 2 == 0:\n",
    "            min_cal_list[i] = min(min_cal_list[i], min_cal_list[i // 2] + 1)\n",
    "            # 2로 나누는 경우\n",
    "        if i % 3 == 0:\n",
    "            min_cal_list[i] = min(min_cal_list[i], min_cal_list[i // 3] + 1)\n",
    "            # 3으로 나누는 경우\n",
    "\n",
    "    return min_cal_list[N]"
   ]
  },
  {
   "cell_type": "code",
   "execution_count": 2,
   "metadata": {},
   "outputs": [
    {
     "name": "stdout",
     "output_type": "stream",
     "text": [
      "3\n"
     ]
    }
   ],
   "source": [
    "X = int(input())\n",
    "\n",
    "print(get_min_cal(X))"
   ]
  }
 ],
 "metadata": {
  "kernelspec": {
   "display_name": "venv",
   "language": "python",
   "name": "venv"
  },
  "language_info": {
   "codemirror_mode": {
    "name": "ipython",
    "version": 3
   },
   "file_extension": ".py",
   "mimetype": "text/x-python",
   "name": "python",
   "nbconvert_exporter": "python",
   "pygments_lexer": "ipython3",
   "version": "3.11.2"
  }
 },
 "nbformat": 4,
 "nbformat_minor": 2
}
