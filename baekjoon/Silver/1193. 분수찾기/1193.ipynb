{
 "cells": [
  {
   "cell_type": "markdown",
   "metadata": {},
   "source": [
    "## 문제\n",
    "무한히 큰 배열에 다음과 같이 분수들이 적혀있다.\n",
    "\n",
    "<img src=\"../Image/1193.png\">\n",
    "\n",
    "이와 같이 나열된 분수들을 1/1 → 1/2 → 2/1 → 3/1 → 2/2 → … 과 같은 지그재그 순서로 차례대로 1번, 2번, 3번, 4번, 5번, … 분수라고 하자.\n",
    "\n",
    "X가 주어졌을 때, X번째 분수를 구하는 프로그램을 작성하시오.\n",
    "\n",
    "## 입력\n",
    "첫째 줄에 X(1 ≤ X ≤ 10,000,000)가 주어진다.\n",
    "\n",
    "## 출력\n",
    "첫째 줄에 분수를 출력한다.\n"
   ]
  },
  {
   "cell_type": "code",
   "execution_count": 15,
   "metadata": {},
   "outputs": [
    {
     "name": "stdout",
     "output_type": "stream",
     "text": [
      "2/4\n"
     ]
    }
   ],
   "source": [
    "X = int(input())\n",
    "line = 1\n",
    "\n",
    "while X > line:\n",
    "    X -= line\n",
    "    line += 1\n",
    "    \n",
    "if line % 2 == 0:\n",
    "    numerator = X\n",
    "    denominator = line - X + 1\n",
    "else:\n",
    "    numerator = line - X + 1\n",
    "    denominator = X\n",
    "    \n",
    "print(numerator, '/', denominator, sep='')"
   ]
  }
 ],
 "metadata": {
  "kernelspec": {
   "display_name": "venv",
   "language": "python",
   "name": "venv"
  },
  "language_info": {
   "codemirror_mode": {
    "name": "ipython",
    "version": 3
   },
   "file_extension": ".py",
   "mimetype": "text/x-python",
   "name": "python",
   "nbconvert_exporter": "python",
   "pygments_lexer": "ipython3",
   "version": "3.11.2"
  }
 },
 "nbformat": 4,
 "nbformat_minor": 2
}
