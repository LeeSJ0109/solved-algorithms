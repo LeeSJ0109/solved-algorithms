{
 "cells": [
  {
   "cell_type": "markdown",
   "metadata": {},
   "source": [
    "## 문제\n",
    "N+1개의 <code>I</code>와 N개의 <code>O</code>로 이루어져 있으면, <code>I</code>와 <code>O</code>이 교대로 나오는 문자열을 P<sub>N</sub>이라고 한다.\n",
    "\n",
    "- P<sub>1</sub> <code>IOI</code>\n",
    "- P<sub>2</sub> <code>IOIOI</code>\n",
    "- P<sub>3</sub> <code>IOIOIOI</code>\n",
    "- P<sub>N</sub> <code>IOIOI...OI</code> (<code>O</code>가 N개)\n",
    "\n",
    "<code>I</code>와 <code>O</code>로만 이루어진 문자열 S와 정수 N이 주어졌을 때, S안에 P<sub>N</sub>이 몇 군데 포함되어 있는지 구하는 프로그램을 작성하시오.\n",
    "\n",
    "## 입력\n",
    "첫째 줄에 N이 주어진다. 둘째 줄에는 S의 길이 M이 주어지며, 셋째 줄에 S가 주어진다.\n",
    "\n",
    "## 출력\n",
    "S에 P<sub>N</sub>이 몇 군데 포함되어 있는지 출력한다.\n",
    "\n",
    "## 제한\n",
    "1 ≤ N ≤ 1,000,000\n",
    "2N+1 ≤ M ≤ 1,000,000\n",
    "S는 <code>I</code>와 <code>O</code>로만 이루어져 있다."
   ]
  },
  {
   "cell_type": "code",
   "execution_count": 11,
   "metadata": {},
   "outputs": [
    {
     "name": "stdout",
     "output_type": "stream",
     "text": [
      "2\n"
     ]
    }
   ],
   "source": [
    "N = int(input())\n",
    "M = int(input())\n",
    "S = input()\n",
    "\n",
    "answer, i, count = 0, 0, 0\n",
    "\n",
    "while i < (M - 1):\n",
    "    if S[i:i+3] == 'IOI':\n",
    "        i += 2\n",
    "        count += 1\n",
    "        if count == N:\n",
    "            answer += 1\n",
    "            count -= 1\n",
    "    else:\n",
    "        i += 1\n",
    "        count = 0\n",
    "\n",
    "print(answer)"
   ]
  }
 ],
 "metadata": {
  "kernelspec": {
   "display_name": "venv",
   "language": "python",
   "name": "venv"
  },
  "language_info": {
   "codemirror_mode": {
    "name": "ipython",
    "version": 3
   },
   "file_extension": ".py",
   "mimetype": "text/x-python",
   "name": "python",
   "nbconvert_exporter": "python",
   "pygments_lexer": "ipython3",
   "version": "3.11.2"
  }
 },
 "nbformat": 4,
 "nbformat_minor": 2
}
