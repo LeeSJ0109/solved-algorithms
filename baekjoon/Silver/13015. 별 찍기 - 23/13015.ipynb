{
 "cells": [
  {
   "cell_type": "markdown",
   "metadata": {},
   "source": [
    "## 문제\n",
    "예제를 보고 규칙을 유추한 뒤에 별을 찍어 보세요.\n",
    "\n",
    "## 입력\n",
    "첫째 줄에 N(2 ≤ N ≤ 100)이 주어진다.\n",
    "\n",
    "## 출력\n",
    "규칙대로 별을 출력한다.\n"
   ]
  },
  {
   "cell_type": "code",
   "execution_count": 61,
   "metadata": {},
   "outputs": [
    {
     "name": "stdout",
     "output_type": "stream",
     "text": [
      "*****       *****\n",
      " *   *     *   *\n",
      "  *   *   *   *\n",
      "   *   * *   *\n",
      "    *   *   *\n",
      "   *   * *   *\n",
      "  *   *   *   *\n",
      " *   *     *   *\n",
      "*****       *****\n"
     ]
    }
   ],
   "source": [
    "N = int(input())\n",
    "\n",
    "print('*' * N + ' ' * (2*N-3) + '*' * N)\n",
    "\n",
    "for i in range(N-2):\n",
    "    print(' ' * (i+1) + '*' + ' ' * (N-2) + '*' + ' ' * (2*N-3-(2*(i+1))) + '*' + ' ' * (N-2) + '*')\n",
    "    \n",
    "print(' ' * (N-1) + '*' + ' ' * (N-2) + '*' + ' ' * (N-2) + '*')   \n",
    "    \n",
    "for i in range(N-3, -1, -1):\n",
    "    print(' ' * (i+1) + '*' + ' ' * (N-2) + '*' + ' ' * (2*N-3-(2*(i+1))) + '*' + ' ' * (N-2) + '*')\n",
    "\n",
    "print('*' * N + ' ' * (2*N-3) + '*' * N)"
   ]
  }
 ],
 "metadata": {
  "kernelspec": {
   "display_name": "venv",
   "language": "python",
   "name": "venv"
  },
  "language_info": {
   "codemirror_mode": {
    "name": "ipython",
    "version": 3
   },
   "file_extension": ".py",
   "mimetype": "text/x-python",
   "name": "python",
   "nbconvert_exporter": "python",
   "pygments_lexer": "ipython3",
   "version": "3.11.2"
  }
 },
 "nbformat": 4,
 "nbformat_minor": 2
}
