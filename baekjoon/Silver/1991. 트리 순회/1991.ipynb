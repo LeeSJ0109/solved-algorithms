{
 "cells": [
  {
   "cell_type": "markdown",
   "metadata": {},
   "source": [
    "## 문제\n",
    "이진 트리를 입력받아 전위 순회(preorder traversal), 중위 순회(inorder traversal), 후위 순회(postorder traversal)한 결과를 출력하는 프로그램을 작성하시오.\n",
    "\n",
    "<img src=\"../../images/1991.png\">\n",
    "\n",
    "예를 들어 위와 같은 이진 트리가 입력되면,\n",
    "\n",
    "- 전위 순회한 결과 : ABDCEFG // (루트) (왼쪽 자식) (오른쪽 자식)\n",
    "- 중위 순회한 결과 : DBAECFG // (왼쪽 자식) (루트) (오른쪽 자식)\n",
    "- 후위 순회한 결과 : DBEGFCA // (왼쪽 자식) (오른쪽 자식) (루트)\n",
    "\n",
    "가 된다.\n",
    "\n",
    "## 입력\n",
    "첫째 줄에는 이진 트리의 노드의 개수 N(1 ≤ N ≤ 26)이 주어진다. 둘째 줄부터 N개의 줄에 걸쳐 각 노드와 그의 왼쪽 자식 노드, 오른쪽 자식 노드가 주어진다. 노드의 이름은 A부터 차례대로 알파벳 대문자로 매겨지며, 항상 A가 루트 노드가 된다. 자식 노드가 없는 경우에는 .으로 표현한다.\n",
    "\n",
    "## 출력\n",
    "첫째 줄에 전위 순회, 둘째 줄에 중위 순회, 셋째 줄에 후위 순회한 결과를 출력한다. 각 줄에 N개의 알파벳을 공백 없이 출력하면 된다."
   ]
  },
  {
   "cell_type": "code",
   "execution_count": 41,
   "metadata": {},
   "outputs": [],
   "source": [
    "class Tree:\n",
    "    def __init__(self, tree):\n",
    "        self.tree = tree\n",
    "        \n",
    "    def node(self, node):\n",
    "        return self.tree.get(node)\n",
    "        \n",
    "    # 전위 순회: Root -> Left Node -> Right Node\n",
    "    def preorder(self, node = 'A'):\n",
    "        if node != '.':\n",
    "            print(node, end='')\n",
    "            self.preorder(self.node(node)[0])\n",
    "            self.preorder(self.node(node)[1])\n",
    "    \n",
    "    # 중위 순회: Left Node -> Root -> Right Node\n",
    "    def inorder(self, node = 'A'):\n",
    "        if node != '.':\n",
    "            self.inorder(self.node(node)[0])\n",
    "            print(node, end='')\n",
    "            self.inorder(self.node(node)[1])\n",
    "    \n",
    "    # 후위 순회: Left Node -> Right Node -> Root\n",
    "    def postorder(self, node = 'A'):\n",
    "        if node != '.':\n",
    "            self.postorder(self.node(node)[0])\n",
    "            self.postorder(self.node(node)[1])\n",
    "            print(node, end='')\n",
    "            \n",
    "    def traversal(self):\n",
    "        self.preorder()\n",
    "        print()\n",
    "        self.inorder()\n",
    "        print()\n",
    "        self.postorder()"
   ]
  },
  {
   "cell_type": "code",
   "execution_count": 42,
   "metadata": {},
   "outputs": [
    {
     "name": "stdout",
     "output_type": "stream",
     "text": [
      "ABDCEFG\n",
      "DBAECFG\n",
      "DBEGFCA"
     ]
    }
   ],
   "source": [
    "N = int(input())\n",
    "\n",
    "tree = {}\n",
    "for i in range(N):\n",
    "    node = input().split()\n",
    "    tree[node[0]] = [node[1], node[2]]\n",
    "    \n",
    "tree = Tree(tree)\n",
    "tree.traversal()"
   ]
  }
 ],
 "metadata": {
  "kernelspec": {
   "display_name": "venv",
   "language": "python",
   "name": "venv"
  },
  "language_info": {
   "codemirror_mode": {
    "name": "ipython",
    "version": 3
   },
   "file_extension": ".py",
   "mimetype": "text/x-python",
   "name": "python",
   "nbconvert_exporter": "python",
   "pygments_lexer": "ipython3",
   "version": "3.11.2"
  }
 },
 "nbformat": 4,
 "nbformat_minor": 2
}
