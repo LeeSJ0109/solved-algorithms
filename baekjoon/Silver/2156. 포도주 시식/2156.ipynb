{
 "cells": [
  {
   "cell_type": "markdown",
   "metadata": {},
   "source": [
    "## 문제\n",
    "효주는 포도주 시식회에 갔다. 그 곳에 갔더니, 테이블 위에 다양한 포도주가 들어있는 포도주 잔이 일렬로 놓여 있었다. 효주는 포도주 시식을 하려고 하는데, 여기에는 다음과 같은 두 가지 규칙이 있다.\n",
    "1. 포도주 잔을 선택하면 그 잔에 들어있는 포도주는 모두 마셔야 하고, 마신 후에는 원래 위치에 다시 놓아야 한다.\n",
    "2. 연속으로 놓여 있는 3잔을 모두 마실 수는 없다.\n",
    "\n",
    "효주는 될 수 있는 대로 많은 양의 포도주를 맛보기 위해서 어떤 포도주 잔을 선택해야 할지 고민하고 있다. 1부터 n까지의 번호가 붙어 있는 n개의 포도주 잔이 순서대로 테이블 위에 놓여 있고, 각 포도주 잔에 들어있는 포도주의 양이 주어졌을 때, 효주를 도와 가장 많은 양의 포도주를 마실 수 있도록 하는 프로그램을 작성하시오. \n",
    "\n",
    "예를 들어 6개의 포도주 잔이 있고, 각각의 잔에 순서대로 6, 10, 13, 9, 8, 1 만큼의 포도주가 들어 있을 때, 첫 번째, 두 번째, 네 번째, 다섯 번째 포도주 잔을 선택하면 총 포도주 양이 33으로 최대로 마실 수 있다.\n",
    "\n",
    "## 입력\n",
    "첫째 줄에 포도주 잔의 개수 n이 주어진다. (1 ≤ n ≤ 10,000) 둘째 줄부터 n+1번째 줄까지 포도주 잔에 들어있는 포도주의 양이 순서대로 주어진다. 포도주의 양은 1,000 이하의 음이 아닌 정수이다.\n",
    "\n",
    "## 출력\n",
    "첫째 줄에 최대로 마실 수 있는 포도주의 양을 출력한다.\n",
    "\n",
    "## 풀이"
   ]
  },
  {
   "cell_type": "markdown",
   "metadata": {},
   "source": [
    "d(1) = a(1)\n",
    "\n",
    "d(2) = d(1) + a(2)\n",
    "\n",
    "d(3) = max(\n",
    "        \n",
    "        a(2) + a(3),\n",
    "        \n",
    "        d(2),\n",
    "        \n",
    "        d(1) + a(3)\n",
    "        \n",
    "        )\n",
    "        \n",
    "d(4) = max(\n",
    "        \n",
    "        d(1) + a(3) + a(4),\n",
    "        \n",
    "        d(3),\n",
    "        \n",
    "        d(2) + a(4)\n",
    "        \n",
    "        )\n",
    "\n",
    "d(5) = max(\n",
    "        \n",
    "        d(2) + a(4) + a(5),\n",
    "        \n",
    "        d(4),\n",
    "        \n",
    "        d(3) + a(5)\n",
    "        \n",
    "        )\n",
    "\n",
    "        .\n",
    "        .\n",
    "        .\n",
    "\n",
    "d(n) = max(\n",
    "\n",
    "        d(n-3) + a(n-1) + a(n),\n",
    "\n",
    "        d(n-1),\n",
    "\n",
    "        d(n-2) + a(n)\n",
    "        \n",
    "        )\n",
    "\n",
    "∴ 포도잔의 개수가 n개일 때, 최대로 마실 수 있는 포도주의 양은 \n",
    "\n",
    "   n-3번째까지 마신 포도주 양의 최댓값 + n-1번째 포도주의 양 + n번째 포도주의 양,\n",
    "\n",
    "   n-1번째까지 마신 포도주 양의 최댓값,\n",
    "\n",
    "   n-2번째까지 마신 포도주 양의 최댓값 + n번째 포도주의 양\n",
    "   \n",
    "   셋 중 최댓값이 된다.\n",
    "   "
   ]
  },
  {
   "cell_type": "code",
   "execution_count": 1,
   "metadata": {},
   "outputs": [],
   "source": [
    "def get_maxDrink(wine_list, maxDrink_list):\n",
    "    if len(maxDrink_list) < 2:\n",
    "        return sum(wine_list[:len(maxDrink_list) + 1])\n",
    "    elif len(maxDrink_list) == 2:\n",
    "        return max(maxDrink_list[1], wine_list[0] + wine_list[2], wine_list[1] + wine_list[2])\n",
    "    else:\n",
    "        return max(\n",
    "                    maxDrink_list[len(maxDrink_list) - 3] + wine_list[len(maxDrink_list) - 1] + wine_list[len(maxDrink_list)],\n",
    "                    # n-3번째까지 마신 포도주 양의 최댓값 + n-1번째 포도주의 양 + n번째 포도주의 양,\n",
    "                    maxDrink_list[len(maxDrink_list) - 1],\n",
    "                    # n-1번째까지 마신 포도주 양의 최댓값\n",
    "                    maxDrink_list[len(maxDrink_list) - 2] + wine_list[len(maxDrink_list)]\n",
    "                    # n-2번째까지 마신 포도주 양의 최댓값 + n번째 포도주의 양\n",
    "                )"
   ]
  },
  {
   "cell_type": "code",
   "execution_count": 2,
   "metadata": {},
   "outputs": [
    {
     "name": "stdout",
     "output_type": "stream",
     "text": [
      "33\n"
     ]
    }
   ],
   "source": [
    "N = int(input())\n",
    "wine_list = []\n",
    "\n",
    "while N > 0:\n",
    "    wine_list.append(int(input()))\n",
    "    N = N - 1\n",
    "    \n",
    "maxDrink_list = []\n",
    "\n",
    "while len(maxDrink_list) < len(wine_list):\n",
    "    maxDrink_list.append(get_maxDrink(wine_list, maxDrink_list))\n",
    "    \n",
    "print(maxDrink_list[-1])"
   ]
  }
 ],
 "metadata": {
  "kernelspec": {
   "display_name": "venv",
   "language": "python",
   "name": "venv"
  },
  "language_info": {
   "codemirror_mode": {
    "name": "ipython",
    "version": 3
   },
   "file_extension": ".py",
   "mimetype": "text/x-python",
   "name": "python",
   "nbconvert_exporter": "python",
   "pygments_lexer": "ipython3",
   "version": "3.11.2"
  }
 },
 "nbformat": 4,
 "nbformat_minor": 2
}
