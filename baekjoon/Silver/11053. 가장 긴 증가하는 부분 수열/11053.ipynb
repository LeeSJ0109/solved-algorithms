{
 "cells": [
  {
   "cell_type": "markdown",
   "metadata": {},
   "source": [
    "## 문제\n",
    "수열 A가 주어졌을 때, 가장 긴 증가하는 부분 수열을 구하는 프로그램을 작성하시오.\n",
    "\n",
    "예를 들어, 수열 A = {10, 20, 10, 30, 20, 50} 인 경우에 가장 긴 증가하는 부분 수열은 A = {**10**, **20**, 10, **30**, 20, **50**} 이고, 길이는 4이다.\n",
    "\n",
    "## 입력\n",
    "첫째 줄에 수열 A의 크기 N (1 ≤ N ≤ 1,000)이 주어진다.\n",
    "\n",
    "둘째 줄에는 수열 A를 이루고 있는 Ai가 주어진다. (1 ≤ Ai ≤ 1,000)\n",
    "\n",
    "## 출력\n",
    "첫째 줄에 수열 A의 가장 긴 증가하는 부분 수열의 길이를 출력한다.\n"
   ]
  },
  {
   "cell_type": "code",
   "execution_count": 56,
   "metadata": {},
   "outputs": [
    {
     "name": "stdout",
     "output_type": "stream",
     "text": [
      "8\n"
     ]
    }
   ],
   "source": [
    "N = int(input())\n",
    "A = list(map(int, input().split()))\n",
    "\n",
    "subsequence = [1] * N\n",
    "\n",
    "for i in range(1, N):\n",
    "    for j in range(i):\n",
    "        if A[i] > A[j]:\n",
    "            subsequence[i] = max(subsequence[i], subsequence[j] + 1)\n",
    "            \n",
    "print(max(subsequence))"
   ]
  }
 ],
 "metadata": {
  "kernelspec": {
   "display_name": "venv",
   "language": "python",
   "name": "venv"
  },
  "language_info": {
   "codemirror_mode": {
    "name": "ipython",
    "version": 3
   },
   "file_extension": ".py",
   "mimetype": "text/x-python",
   "name": "python",
   "nbconvert_exporter": "python",
   "pygments_lexer": "ipython3",
   "version": "3.11.2"
  }
 },
 "nbformat": 4,
 "nbformat_minor": 2
}
