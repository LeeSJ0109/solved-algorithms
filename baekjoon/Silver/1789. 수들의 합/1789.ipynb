{
 "cells": [
  {
   "cell_type": "markdown",
   "metadata": {},
   "source": [
    "## 문제\n",
    "서로 다른 N개의 자연수의 합이 S라고 한다. S를 알 때, 자연수 N의 최댓값은 얼마일까?\n",
    "\n",
    "## 입력\n",
    "첫째 줄에 자연수 S(1 ≤ S ≤ 4,294,967,295)가 주어진다.\n",
    "\n",
    "## 출력\n",
    "첫째 줄에 자연수 N의 최댓값을 출력한다.\n"
   ]
  },
  {
   "cell_type": "code",
   "execution_count": 14,
   "metadata": {},
   "outputs": [
    {
     "name": "stdout",
     "output_type": "stream",
     "text": [
      "19\n"
     ]
    }
   ],
   "source": [
    "N = int((input()))\n",
    "S = 0\n",
    "\n",
    "for i in range(N):\n",
    "    S += i\n",
    "    if S + i + 1 > N:\n",
    "        break\n",
    "    \n",
    "if i == 0:\n",
    "    i = 1\n",
    "    \n",
    "print(i)"
   ]
  }
 ],
 "metadata": {
  "kernelspec": {
   "display_name": "venv",
   "language": "python",
   "name": "venv"
  },
  "language_info": {
   "codemirror_mode": {
    "name": "ipython",
    "version": 3
   },
   "file_extension": ".py",
   "mimetype": "text/x-python",
   "name": "python",
   "nbconvert_exporter": "python",
   "pygments_lexer": "ipython3",
   "version": "3.11.2"
  }
 },
 "nbformat": 4,
 "nbformat_minor": 2
}
