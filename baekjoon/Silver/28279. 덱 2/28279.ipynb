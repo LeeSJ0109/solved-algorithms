{
 "cells": [
  {
   "cell_type": "markdown",
   "metadata": {},
   "source": [
    "## 문제\n",
    "정수를 저장하는 덱을 구현한 다음, 입력으로 주어지는 명령을 처리하는 프로그램을 작성하시오.\n",
    "\n",
    "명령은 총 여덟 가지이다.\n",
    "\n",
    "1. <span style=\"color: red\">1 X</span>: 정수 X를 덱의 앞에 넣는다. (1 ≤ X ≤ 100,000)\n",
    "2. <span style=\"color: red\">2 X</span>: 정수 X를 덱의 뒤에 넣는다. (1 ≤ X ≤ 100,000)\n",
    "3. <span style=\"color: red\">3</span>: 덱에 정수가 있다면 맨 앞의 정수를 빼고 출력한다. 없다면 <span style=\"color: red\">-1</span>을 대신 출력한다.\n",
    "4. <span style=\"color: red\">4</span>: 덱에 정수가 있다면 맨 뒤의 정수를 빼고 출력한다. 없다면 <span style=\"color: red\">-1</span>을 대신 출력한다.\n",
    "5. <span style=\"color: red\">5</span>: 덱에 들어있는 정수의 개수를 출력한다.\n",
    "6. <span style=\"color: red\">6</span>: 덱이 비어있으면 <span style=\"color: red\">1</span>, 아니면 <span style=\"color: red\">0</span>을 출력한다.\n",
    "7. <span style=\"color: red\">7</span>: 덱에 정수가 있다면 맨 앞의 정수를 출력한다. 없다면 <span style=\"color: red\">-1</span>을 대신 출력한다.\n",
    "8. <span style=\"color: red\">8</span>: 덱에 정수가 있다면 맨 뒤의 정수를 출력한다. 없다면 <span style=\"color: red\">-1</span>을 대신 출력한다.\n",
    "\n",
    "## 입력\n",
    "첫째 줄에 명령의 수 N이 주어진다. (1 ≤ N ≤ 1,000,000)\n",
    "\n",
    "둘째 줄부터 N개 줄에 명령이 하나씩 주어진다.\n",
    "\n",
    "출력을 요구하는 명령은 하나 이상 주어진다.\n",
    "\n",
    "## 출력\n",
    "출력을 요구하는 명령이 주어질 때마다 명령의 결과를 한 줄에 하나씩 출력한다.\n"
   ]
  },
  {
   "cell_type": "code",
   "execution_count": 1,
   "metadata": {},
   "outputs": [
    {
     "name": "stdout",
     "output_type": "stream",
     "text": [
      "1\n",
      "8\n",
      "3\n",
      "8\n",
      "3\n",
      "5\n",
      "3\n"
     ]
    }
   ],
   "source": [
    "N = int(input())\n",
    "deque = {}\n",
    "front, end = 1, 1\n",
    "\n",
    "for _ in range(N):\n",
    "    command = list(map(int, input().split()))\n",
    "    \n",
    "    if command[0] == 1:\n",
    "        front -= 1\n",
    "        deque[front] = command[1]\n",
    "    elif command[0] == 2:\n",
    "        deque[end] = command[1]\n",
    "        end += 1\n",
    "    elif command[0] == 3:\n",
    "        if len(deque) == 0:\n",
    "            print(-1)\n",
    "        else:\n",
    "            print(deque.pop(front))\n",
    "            front += 1\n",
    "    elif command[0] == 4:\n",
    "        if len(deque) == 0:\n",
    "            print(-1)\n",
    "        else:\n",
    "            end -= 1\n",
    "            print(deque.pop(end))\n",
    "    elif command[0] == 5:\n",
    "        print(len(deque))\n",
    "    elif command[0] == 6:\n",
    "        if len(deque) == 0:\n",
    "            print(1)\n",
    "        else:\n",
    "            print(0)\n",
    "    elif command[0] == 7:\n",
    "        print(deque.get(front, -1))\n",
    "    elif command[0] == 8:\n",
    "        print(deque.get(end - 1, -1))"
   ]
  }
 ],
 "metadata": {
  "kernelspec": {
   "display_name": "venv",
   "language": "python",
   "name": "venv"
  },
  "language_info": {
   "codemirror_mode": {
    "name": "ipython",
    "version": 3
   },
   "file_extension": ".py",
   "mimetype": "text/x-python",
   "name": "python",
   "nbconvert_exporter": "python",
   "pygments_lexer": "ipython3",
   "version": "3.11.2"
  }
 },
 "nbformat": 4,
 "nbformat_minor": 2
}
