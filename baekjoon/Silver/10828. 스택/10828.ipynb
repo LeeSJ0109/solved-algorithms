{
 "cells": [
  {
   "cell_type": "markdown",
   "metadata": {},
   "source": [
    "## 문제\n",
    "정수를 저장하는 스택을 구현한 다음, 입력으로 주어지는 명령을 처리하는 프로그램을 작성하시오.\n",
    "\n",
    "명령은 총 다섯 가지이다.\n",
    "\n",
    "- push X: 정수 X를 스택에 넣는 연산이다.\n",
    "- pop: 스택에서 가장 위에 있는 정수를 빼고, 그 수를 출력한다. 만약 스택에 들어있는 정수가 없는 경우에는 -1을 출력한다.\n",
    "- size: 스택에 들어있는 정수의 개수를 출력한다.\n",
    "- empty: 스택이 비어있으면 1, 아니면 0을 출력한다.\n",
    "- top: 스택의 가장 위에 있는 정수를 출력한다. 만약 스택에 들어있는 정수가 없는 경우에는 -1을 출력한다.\n",
    "\n",
    "## 입력\n",
    "첫째 줄에 주어지는 명령의 수 N (1 ≤ N ≤ 10,000)이 주어진다. 둘째 줄부터 N개의 줄에는 명령이 하나씩 주어진다. 주어지는 정수는 1보다 크거나 같고, 100,000보다 작거나 같다. 문제에 나와있지 않은 명령이 주어지는 경우는 없다.\n",
    "\n",
    "## 출력\n",
    "출력해야하는 명령이 주어질 때마다, 한 줄에 하나씩 출력한다.\n"
   ]
  },
  {
   "cell_type": "code",
   "execution_count": 1,
   "metadata": {},
   "outputs": [],
   "source": [
    "#import sys\n",
    "#input=sys.stdin.readline\n",
    "# jupyter 에서는 stdin 이 제대로 구성되어 있지 않기 때문에 stdin.readline() 을 실행하면 입력을 받지 못하고 항상 빈 문자열이 반환\n",
    "\n",
    "def stack_command(N):\n",
    "    stack = []\n",
    "    \n",
    "    while N > 0:\n",
    "        command = input().split()\n",
    "\n",
    "        if len(command) == 2:\n",
    "            command[1] = int(command[1])\n",
    "            \n",
    "        if command[0] == 'push':\n",
    "            stack.append(command[1])\n",
    "            \n",
    "        elif command[0] == 'pop':\n",
    "            if len(stack) != 0:\n",
    "                print(stack.pop())\n",
    "            else: print(-1)\n",
    "            \n",
    "        elif command[0] == 'size':\n",
    "            print(len(stack))\n",
    "            \n",
    "        elif command[0] == 'empty':\n",
    "            if len(stack) == 0:\n",
    "                print(1)\n",
    "            else: print(0)\n",
    "            \n",
    "        elif command[0] == 'top':\n",
    "            if len(stack) == 0:\n",
    "                print(-1)\n",
    "            else: print(stack[-1])\n",
    "            \n",
    "        N = N - 1\n",
    "    "
   ]
  },
  {
   "cell_type": "code",
   "execution_count": 2,
   "metadata": {},
   "outputs": [
    {
     "name": "stdout",
     "output_type": "stream",
     "text": [
      "-1\n",
      "-1\n",
      "123\n",
      "123\n",
      "-1\n",
      "-1\n"
     ]
    }
   ],
   "source": [
    "N = int(input())\n",
    "\n",
    "stack_command(N)"
   ]
  }
 ],
 "metadata": {
  "kernelspec": {
   "display_name": "venv",
   "language": "python",
   "name": "venv"
  },
  "language_info": {
   "codemirror_mode": {
    "name": "ipython",
    "version": 3
   },
   "file_extension": ".py",
   "mimetype": "text/x-python",
   "name": "python",
   "nbconvert_exporter": "python",
   "pygments_lexer": "ipython3",
   "version": "3.11.2"
  }
 },
 "nbformat": 4,
 "nbformat_minor": 2
}
