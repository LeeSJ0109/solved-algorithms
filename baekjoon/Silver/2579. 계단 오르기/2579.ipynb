{
 "cells": [
  {
   "cell_type": "markdown",
   "metadata": {},
   "source": [
    "## 문제\n",
    "계단 오르기 게임은 계단 아래 시작점부터 계단 꼭대기에 위치한 도착점까지 가는 게임이다. <그림 1>과 같이 각각의 계단에는 일정한 점수가 쓰여 있는데 계단을 밟으면 그 계단에 쓰여 있는 점수를 얻게 된다.\n",
    "\n",
    "<center><img src=\"../../images/2579-1.png\" width=\"80%\"></center>\n",
    "\n",
    "<center><그림 1></center>\n",
    "\n",
    "예를 들어 <그림 2>와 같이 시작점에서부터 첫 번째, 두 번째, 네 번째, 여섯 번째 계단을 밟아 도착점에 도달하면 총 점수는 10 + 20 + 25 + 20 = 75점이 된다.\n",
    "\n",
    "<center><img src=\"../../images/2579-2.png\" width=\"80%\"></center>\n",
    "\n",
    "<center><그림 2></center>\n",
    "\n",
    "계단 오르는 데는 다음과 같은 규칙이 있다.\n",
    "\n",
    "1. 계단은 한 번에 한 계단씩 또는 두 계단씩 오를 수 있다. 즉, 한 계단을 밟으면서 이어서 다음 계단이나, 다음 다음 계단으로 오를 수 있다.\n",
    "2. 연속된 세 개의 계단을 모두 밟아서는 안 된다. 단, 시작점은 계단에 포함되지 않는다.\n",
    "3. 마지막 도착 계단은 반드시 밟아야 한다.\n",
    "\n",
    "따라서 첫 번째 계단을 밟고 이어 두 번째 계단이나, 세 번째 계단으로 오를 수 있다. 하지만, 첫 번째 계단을 밟고 이어 네 번째 계단으로 올라가거나, 첫 번째, 두 번째, 세 번째 계단을 연속해서 모두 밟을 수는 없다.\n",
    "\n",
    "각 계단에 쓰여 있는 점수가 주어질 때 이 게임에서 얻을 수 있는 총 점수의 최댓값을 구하는 프로그램을 작성하시오.\n",
    "\n",
    "## 입력\n",
    "입력의 첫째 줄에 계단의 개수가 주어진다.\n",
    "\n",
    "둘째 줄부터 한 줄에 하나씩 제일 아래에 놓인 계단부터 순서대로 각 계단에 쓰여 있는 점수가 주어진다. 계단의 개수는 300이하의 자연수이고, 계단에 쓰여 있는 점수는 10,000이하의 자연수이다.\n",
    "\n",
    "## 출력\n",
    "첫째 줄에 계단 오르기 게임에서 얻을 수 있는 총 점수의 최댓값을 출력한다.\n"
   ]
  },
  {
   "cell_type": "code",
   "execution_count": 40,
   "metadata": {},
   "outputs": [],
   "source": [
    "def Climbing_stairs(stairs_score):\n",
    "    length = len(stairs_score)\n",
    "    if length < 3:\n",
    "        return sum(stairs_score[:length])\n",
    "    \n",
    "    max_score = [0] * length\n",
    "    max_score[0] = stairs_score[0]\n",
    "    max_score[1] = stairs_score[0] + stairs_score[1]\n",
    "\n",
    "    for i in range(2, length):\n",
    "        max_score[i] = max(max_score[i - 2] + stairs_score[i],\n",
    "                           # n - 2번 까지의 최댓값 + n번째 계단의 점수\n",
    "                           max_score[i - 3] + stairs_score[i - 1] + stairs_score[i])\n",
    "                           # n - 3번 까지의 최댓값 + n - 1번째 계단의 점수 + n번째 계단의 점수\n",
    "    \n",
    "    return max_score[-1]"
   ]
  },
  {
   "cell_type": "code",
   "execution_count": 41,
   "metadata": {},
   "outputs": [
    {
     "name": "stdout",
     "output_type": "stream",
     "text": [
      "75\n"
     ]
    }
   ],
   "source": [
    "N = int(input())\n",
    "\n",
    "stairs_score = []\n",
    "for _ in range(N):\n",
    "    stairs_score.append(int(input()))\n",
    "    \n",
    "print(Climbing_stairs(stairs_score))"
   ]
  }
 ],
 "metadata": {
  "kernelspec": {
   "display_name": "venv",
   "language": "python",
   "name": "venv"
  },
  "language_info": {
   "codemirror_mode": {
    "name": "ipython",
    "version": 3
   },
   "file_extension": ".py",
   "mimetype": "text/x-python",
   "name": "python",
   "nbconvert_exporter": "python",
   "pygments_lexer": "ipython3",
   "version": "3.11.2"
  }
 },
 "nbformat": 4,
 "nbformat_minor": 2
}
