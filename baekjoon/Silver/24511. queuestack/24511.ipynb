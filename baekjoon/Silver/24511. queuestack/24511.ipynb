{
 "cells": [
  {
   "cell_type": "markdown",
   "metadata": {},
   "source": [
    "## 문제\n",
    "한가롭게 방학에 놀고 있던 도현이는 갑자기 재밌는 자료구조를 생각해냈다. 그 자료구조의 이름은 queuestack이다.\n",
    "\n",
    "queuestack의 구조는 다음과 같다. \n",
    "$1$번, \n",
    "$2$번, ... , \n",
    "$N$번의 자료구조(queue 혹은 stack)가 나열되어있으며, 각각의 자료구조에는 한 개의 원소가 들어있다.\n",
    "\n",
    "queuestack의 작동은 다음과 같다.\n",
    "\n",
    " \n",
    "- $x_0$을 입력받는다.\n",
    " \n",
    "- $x_0$을 \n",
    "$1$번 자료구조에 삽입한 뒤 \n",
    "$1$번 자료구조에서 원소를 pop한다. 그때 pop된 원소를 \n",
    "$x_1$이라 한다.\n",
    " \n",
    "- $x_1$을 \n",
    "$2$번 자료구조에 삽입한 뒤 \n",
    "$2$번 자료구조에서 원소를 pop한다. 그때 pop된 원소를 \n",
    "$x_2$이라 한다.\n",
    "- ...\n",
    " \n",
    "- $x_{N-1}$을 \n",
    "$N$번 자료구조에 삽입한 뒤 \n",
    "$N$번 자료구조에서 원소를 pop한다. 그때 pop된 원소를 \n",
    "$x_N$이라 한다.\n",
    " \n",
    "- $x_N$을 리턴한다.\n",
    "\n",
    "도현이는 길이 \n",
    "$M$의 수열 \n",
    "$C$를 가져와서 수열의 원소를 앞에서부터 차례대로 queuestack에 삽입할 것이다. 이전에 삽입한 결과는 남아 있다. (예제 \n",
    "$1$ 참고)\n",
    "\n",
    "queuestack에 넣을 원소들이 주어졌을 때, 해당 원소를 넣은 리턴값을 출력하는 프로그램을 작성해보자.\n",
    "\n",
    "## 입력\n",
    "첫째 줄에 queuestack을 구성하는 자료구조의 개수 \n",
    "$N$이 주어진다. (\n",
    "$1 \\leq N \\leq 100\\,000$)\n",
    "\n",
    "둘째 줄에 길이 \n",
    "$N$의 수열 \n",
    "$A$가 주어진다. \n",
    "$i$번 자료구조가 큐라면 \n",
    "$A_i = 0$, 스택이라면 \n",
    "$A_i = 1$이다.\n",
    "\n",
    "셋째 줄에 길이 \n",
    "$N$의 수열 \n",
    "$B$가 주어진다. \n",
    "$B_i$는 \n",
    "$i$번 자료구조에 들어 있는 원소이다. (\n",
    "$1 \\leq B_i \\leq 1\\,000\\,000\\,000$)\n",
    "\n",
    "넷째 줄에 삽입할 수열의 길이 \n",
    "$M$이 주어진다. (\n",
    "$1 \\leq M \\leq 100\\,000$)\n",
    "\n",
    "다섯째 줄에 queuestack에 삽입할 원소를 담고 있는 길이 \n",
    "$M$의 수열 \n",
    "$C$가 주어진다. (\n",
    "$1 \\leq C_i \\leq 1\\,000\\,000\\,000$)\n",
    "\n",
    "입력으로 주어지는 모든 수는 정수이다.\n",
    "\n",
    "## 출력\n",
    "수열 \n",
    "$C$의 원소를 차례대로 queuestack에 삽입했을 때의 리턴값을 공백으로 구분하여 출력한다.\n"
   ]
  },
  {
   "cell_type": "code",
   "execution_count": 7,
   "metadata": {},
   "outputs": [
    {
     "name": "stdout",
     "output_type": "stream",
     "text": [
      "5 4 3\n"
     ]
    }
   ],
   "source": [
    "N = int(input())\n",
    "A, B = list(map(int, input().split()))[::-1], list(map(int, input().split()))[::-1]\n",
    "M = int(input())\n",
    "C = list(map(int, input().split()))\n",
    "\n",
    "result = []\n",
    "for i in range(N):\n",
    "    if not A[i]:\n",
    "        result.append(B[i])\n",
    "    if len(result) == M:\n",
    "        break\n",
    "\n",
    "for i in range(M - len(result)):\n",
    "    result.append(C[i])\n",
    "    \n",
    "print(*result)"
   ]
  }
 ],
 "metadata": {
  "kernelspec": {
   "display_name": "venv",
   "language": "python",
   "name": "venv"
  },
  "language_info": {
   "codemirror_mode": {
    "name": "ipython",
    "version": 3
   },
   "file_extension": ".py",
   "mimetype": "text/x-python",
   "name": "python",
   "nbconvert_exporter": "python",
   "pygments_lexer": "ipython3",
   "version": "3.11.2"
  }
 },
 "nbformat": 4,
 "nbformat_minor": 2
}
