{
 "cells": [
  {
   "cell_type": "markdown",
   "metadata": {},
   "source": [
    "## 문제\n",
    "세준이는 정수 S와 K가 주어졌을 때, 합이 S인 K개의 양의 정수를 찾으려고 한다. 만약 여러개일 경우 그 곱을 가능한 최대로 하려고 한다.\n",
    "\n",
    "가능한 최대의 곱을 출력한다.\n",
    "\n",
    "만약 S=10, K=3이면, 3,3,4는 곱이 36으로 최대이다.\n",
    "\n",
    "## 입력\n",
    "첫째 줄에 두 수 S와 K가 주어진다. K는 20보다 작거나 같고, S는 100보다 작거나 같으며 K보다 크거나 같다.\n",
    "\n",
    "## 출력\n",
    "첫째 줄에 정답을 출력한다. 답은 9223372036854775807보다 작다.\n"
   ]
  },
  {
   "cell_type": "code",
   "execution_count": 6,
   "metadata": {},
   "outputs": [
    {
     "name": "stdout",
     "output_type": "stream",
     "text": [
      "12\n"
     ]
    }
   ],
   "source": [
    "S, K = map(int, input().split())\n",
    "num = [S // K for _ in range(K)]\n",
    "\n",
    "for i in range(S % K):\n",
    "    num[i] += 1\n",
    "\n",
    "max_multiple = 1\n",
    "for n in num:\n",
    "    max_multiple *= n\n",
    "    \n",
    "print(max_multiple)"
   ]
  }
 ],
 "metadata": {
  "kernelspec": {
   "display_name": "venv",
   "language": "python",
   "name": "venv"
  },
  "language_info": {
   "codemirror_mode": {
    "name": "ipython",
    "version": 3
   },
   "file_extension": ".py",
   "mimetype": "text/x-python",
   "name": "python",
   "nbconvert_exporter": "python",
   "pygments_lexer": "ipython3",
   "version": "3.11.2"
  }
 },
 "nbformat": 4,
 "nbformat_minor": 2
}
