{
 "cells": [
  {
   "cell_type": "markdown",
   "metadata": {},
   "source": [
    "## 문제\n",
    "45656이란 수를 보자.\n",
    "\n",
    "이 수는 인접한 모든 자리의 차이가 1이다. 이런 수를 계단 수라고 한다.\n",
    "\n",
    "N이 주어질 때, 길이가 N인 계단 수가 총 몇 개 있는지 구해보자. 0으로 시작하는 수는 계단수가 아니다.\n",
    "\n",
    "## 입력\n",
    "첫째 줄에 N이 주어진다. N은 1보다 크거나 같고, 100보다 작거나 같은 자연수이다.\n",
    "\n",
    "## 출력\n",
    "첫째 줄에 정답을 1,000,000,000으로 나눈 나머지를 출력한다.\n"
   ]
  },
  {
   "cell_type": "code",
   "execution_count": 24,
   "metadata": {},
   "outputs": [
    {
     "name": "stdout",
     "output_type": "stream",
     "text": [
      "18404112\n"
     ]
    }
   ],
   "source": [
    "N = int(input())\n",
    "\n",
    "stair_num = [[0] * 10 for _ in range(N + 1)]\n",
    "\n",
    "for i in range(1, N + 1):\n",
    "    for j in range(10):\n",
    "        if i == 1:\n",
    "            stair_num[i] = [0] + [1] * 9\n",
    "            break\n",
    "        else:\n",
    "            if j == 0:\n",
    "                stair_num[i][j] = stair_num[i-1][j+1]\n",
    "            elif j == 9:\n",
    "                stair_num[i][j] = stair_num[i-1][j-1]\n",
    "            else:\n",
    "                stair_num[i][j] = stair_num[i-1][j-1] + stair_num[i-1][j+1]\n",
    "            \n",
    "print(sum(stair_num[N]) % 1000000000)"
   ]
  }
 ],
 "metadata": {
  "kernelspec": {
   "display_name": "venv",
   "language": "python",
   "name": "venv"
  },
  "language_info": {
   "codemirror_mode": {
    "name": "ipython",
    "version": 3
   },
   "file_extension": ".py",
   "mimetype": "text/x-python",
   "name": "python",
   "nbconvert_exporter": "python",
   "pygments_lexer": "ipython3",
   "version": "3.11.2"
  }
 },
 "nbformat": 4,
 "nbformat_minor": 2
}
