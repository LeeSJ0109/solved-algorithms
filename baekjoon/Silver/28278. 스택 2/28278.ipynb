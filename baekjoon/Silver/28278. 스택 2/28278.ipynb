{
 "cells": [
  {
   "cell_type": "markdown",
   "metadata": {},
   "source": [
    "## 문제\n",
    "정수를 저장하는 스택을 구현한 다음, 입력으로 주어지는 명령을 처리하는 프로그램을 작성하시오.\n",
    "\n",
    "명령은 총 다섯 가지이다.\n",
    "\n",
    "1. 1 X: 정수 X를 스택에 넣는다. (1 ≤ X ≤ 100,000)\n",
    "2. 2: 스택에 정수가 있다면 맨 위의 정수를 빼고 출력한다. 없다면 -1을 대신 출력한다.\n",
    "3. 3: 스택에 들어있는 정수의 개수를 출력한다.\n",
    "4. 4: 스택이 비어있으면 1, 아니면 0을 출력한다.\n",
    "5. 5: 스택에 정수가 있다면 맨 위의 정수를 출력한다. 없다면 -1을 대신 출력한다.\n",
    "\n",
    "## 입력\n",
    "첫째 줄에 명령의 수 N이 주어진다. (1 ≤ N ≤ 1,000,000)\n",
    "\n",
    "둘째 줄부터 N개 줄에 명령이 하나씩 주어진다.\n",
    "\n",
    "출력을 요구하는 명령은 하나 이상 주어진다.\n",
    "\n",
    "## 출력\n",
    "출력을 요구하는 명령이 주어질 때마다 명령의 결과를 한 줄에 하나씩 출력한다.\n"
   ]
  },
  {
   "cell_type": "code",
   "execution_count": 2,
   "metadata": {},
   "outputs": [
    {
     "name": "stdout",
     "output_type": "stream",
     "text": [
      "1\n",
      "2\n",
      "5\n",
      "3\n",
      "3\n",
      "-1\n",
      "-1\n"
     ]
    }
   ],
   "source": [
    "N = int(input())\n",
    "\n",
    "stack = []\n",
    "for _ in range(N):\n",
    "    command = list(map(int, input().split()))\n",
    "    if command[0] == 1:\n",
    "        stack.append(command[1])\n",
    "    elif command[0] == 2:\n",
    "        if len(stack) == 0:\n",
    "            print(-1)\n",
    "        else:\n",
    "            print(stack.pop())\n",
    "    elif command[0] == 3:\n",
    "        print(len(stack))\n",
    "    elif command[0] == 4:\n",
    "        if len(stack) == 0:\n",
    "            print(1)\n",
    "        else:\n",
    "            print(0)\n",
    "    elif command[0] == 5:\n",
    "        if len(stack) == 0:\n",
    "            print(-1)\n",
    "        else:\n",
    "            print(stack[-1])"
   ]
  }
 ],
 "metadata": {
  "kernelspec": {
   "display_name": "venv",
   "language": "python",
   "name": "venv"
  },
  "language_info": {
   "codemirror_mode": {
    "name": "ipython",
    "version": 3
   },
   "file_extension": ".py",
   "mimetype": "text/x-python",
   "name": "python",
   "nbconvert_exporter": "python",
   "pygments_lexer": "ipython3",
   "version": "3.11.2"
  }
 },
 "nbformat": 4,
 "nbformat_minor": 2
}
