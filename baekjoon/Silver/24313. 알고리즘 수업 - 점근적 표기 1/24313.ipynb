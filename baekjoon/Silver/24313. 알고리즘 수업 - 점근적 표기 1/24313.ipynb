{
 "cells": [
  {
   "cell_type": "markdown",
   "metadata": {},
   "source": [
    "## 문제\n",
    "오늘도 서준이는 점근적 표기 수업 조교를 하고 있다. 아빠가 수업한 내용을 학생들이 잘 이해했는지 문제를 통해서 확인해보자.\n",
    "\n",
    "알고리즘의 소요 시간을 나타내는 O-표기법(빅-오)을 다음과 같이 정의하자.\n",
    "\n",
    "O(g(n)) = {f(n) | 모든 n ≥ n0에 대하여 f(n) ≤ c × g(n)인 양의 상수 c와 n0가 존재한다}\n",
    "\n",
    "함수 f(n) = a1n + a0, 양의 정수 c, n0가 주어질 경우 O(n) 정의를 만족하는지 알아보자.\n",
    "\n",
    "## 입력\n",
    "첫째 줄에 함수 f(n)을 나타내는 정수 a1, a0가 주어진다. (0 ≤ |ai| ≤ 100)\n",
    "\n",
    "다음 줄에 양의 정수 c가 주어진다. (1 ≤ c ≤ 100)\n",
    "\n",
    "다음 줄에 양의 정수 n0가 주어진다. (1 ≤ n0 ≤ 100)\n",
    "\n",
    "## 출력\n",
    "f(n), c, n0가 O(n) 정의를 만족하면 1, 아니면 0을 출력한다.\n"
   ]
  },
  {
   "cell_type": "code",
   "execution_count": 5,
   "metadata": {},
   "outputs": [
    {
     "name": "stdout",
     "output_type": "stream",
     "text": [
      "1\n"
     ]
    }
   ],
   "source": [
    "a1, a0 = map(int, input().split())\n",
    "c = int(input())\n",
    "n0 = int(input())\n",
    "\n",
    "def f(n):\n",
    "    return a1 * n + a0\n",
    "\n",
    "def g(n):\n",
    "    return n\n",
    "\n",
    "\n",
    "for n in range(n0, 101):\n",
    "    if f(n) > c * g(n):\n",
    "        print(0)\n",
    "        break\n",
    "    \n",
    "    if n == 100:\n",
    "        print(1)"
   ]
  }
 ],
 "metadata": {
  "kernelspec": {
   "display_name": "venv",
   "language": "python",
   "name": "venv"
  },
  "language_info": {
   "codemirror_mode": {
    "name": "ipython",
    "version": 3
   },
   "file_extension": ".py",
   "mimetype": "text/x-python",
   "name": "python",
   "nbconvert_exporter": "python",
   "pygments_lexer": "ipython3",
   "version": "3.11.2"
  }
 },
 "nbformat": 4,
 "nbformat_minor": 2
}
