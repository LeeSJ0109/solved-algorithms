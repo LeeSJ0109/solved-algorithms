{
 "cells": [
  {
   "cell_type": "markdown",
   "metadata": {},
   "source": [
    "## 문제\n",
    "총총이는 친구 곰곰이의 소개로 **제2회 곰곰컵**에 출연할 기회를 얻었다!\n",
    "\n",
    "총총이는 자신의 묘기인 <strong><span style=\"color:darkviolet\">무</span><span style=\"color:deepskyblue\">지</span><span style=\"color:tomato\">개</span><span style=\"color:orange\">댄</span><span style=\"color:lime\">스</span></strong>를 선보여, 여러분의 환심을 사려 한다. 이 댄스는 중독성이 강하기 때문에, 한번 보게 된 사람은 모두 따라 하게 돼버린다.\n",
    "\n",
    "사람들이 만난 기록이 시간 순서대로 \n",
    "$N$개 주어진다. (총총이는 토끼이지만 이 문제에서는 편의상 사람이라고 가정한다.)\n",
    "\n",
    "무지개 댄스를 추지 않고 있던 사람이 무지개 댄스를 추고 있던 사람을 만나게 된다면, 만난 시점 이후로 무지개 댄스를 추게 된다.\n",
    "\n",
    "기록이 시작되기 이전 무지개 댄스를 추고 있는 사람은 총총이 뿐이라고 할 때, 마지막 기록 이후 무지개 댄스를 추는 사람이 몇 명인지 구해보자!\n",
    "\n",
    "## 입력\n",
    "첫번째 줄에는 사람들이 만난 기록의 수 \n",
    "$N\\ (1 \\le N \\le 1\\ 000)$이 주어진다.\n",
    "\n",
    "두번째 줄부터 \n",
    "$N$개의 줄에 걸쳐 사람들이 만난 기록이 주어진다. \n",
    "$i + 1$번째 줄에는 \n",
    "$i$번째로 만난 사람들의 이름 \n",
    "$A_i$와 \n",
    "$B_i$가 공백을 사이에 두고 주어진다. \n",
    "$A_i$와 \n",
    "$B_i$는 숫자와 영문 대소문자로 이루어진 최대 길이 \n",
    "$20$의 문자열이며, 서로 같지 않다.\n",
    "\n",
    "총총이의 이름은 <span style=\"color:red\">ChongChong</span>으로 주어지며, **기록에서 1회 이상 주어진다.**\n",
    "\n",
    "동명이인은 없으며, 사람의 이름은 대소문자를 구분한다. (<span style=\"color:red\">ChongChong</span>과 <span style=\"color:red\">chongchong</span>은 다른 이름이다.)\n",
    "\n",
    "## 출력\n",
    "마지막 기록 이후 무지개 댄스를 추는 사람의 수를 출력하라.\n"
   ]
  },
  {
   "cell_type": "code",
   "execution_count": 20,
   "metadata": {},
   "outputs": [
    {
     "name": "stdout",
     "output_type": "stream",
     "text": [
      "10\n"
     ]
    }
   ],
   "source": [
    "N = int(input())\n",
    "\n",
    "dance = {}\n",
    "for _ in range(N):\n",
    "    A, B = input().split()\n",
    "\n",
    "    if A == 'ChongChong' or B == 'ChongChong':\n",
    "        dance[A], dance[B] = 1, 1\n",
    "    elif dance.get(A, 0) == 1 or dance.get(B, 0) == 1:\n",
    "        dance[A], dance[B] = 1, 1\n",
    "    else:\n",
    "        dance[A], dance[B] = 0, 0\n",
    "        \n",
    "count = sum([*dance.values()])\n",
    "print(count)"
   ]
  }
 ],
 "metadata": {
  "kernelspec": {
   "display_name": "venv",
   "language": "python",
   "name": "venv"
  },
  "language_info": {
   "codemirror_mode": {
    "name": "ipython",
    "version": 3
   },
   "file_extension": ".py",
   "mimetype": "text/x-python",
   "name": "python",
   "nbconvert_exporter": "python",
   "pygments_lexer": "ipython3",
   "version": "3.11.2"
  }
 },
 "nbformat": 4,
 "nbformat_minor": 2
}
