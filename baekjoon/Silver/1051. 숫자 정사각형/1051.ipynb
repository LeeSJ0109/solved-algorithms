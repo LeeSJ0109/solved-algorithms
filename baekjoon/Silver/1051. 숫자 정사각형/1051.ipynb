{
 "cells": [
  {
   "cell_type": "markdown",
   "metadata": {},
   "source": [
    "## 문제\n",
    "N×M크기의 직사각형이 있다. 각 칸에는 한 자리 숫자가 적혀 있다. 이 직사각형에서 꼭짓점에 쓰여 있는 수가 모두 같은 가장 큰 정사각형을 찾는 프로그램을 작성하시오. 이때, 정사각형은 행 또는 열에 평행해야 한다.\n",
    "\n",
    "## 입력\n",
    "첫째 줄에 N과 M이 주어진다. N과 M은 50보다 작거나 같은 자연수이다. 둘째 줄부터 N개의 줄에 수가 주어진다.\n",
    "\n",
    "## 출력\n",
    "첫째 줄에 정답 정사각형의 크기를 출력한다.\n"
   ]
  },
  {
   "cell_type": "code",
   "execution_count": 15,
   "metadata": {},
   "outputs": [
    {
     "name": "stdout",
     "output_type": "stream",
     "text": [
      "9\n"
     ]
    }
   ],
   "source": [
    "N, M = map(int, input().split())\n",
    "size, maximum = 0, min(N, M)\n",
    "\n",
    "square = []\n",
    "for _ in range(N):\n",
    "    square.append(input())\n",
    "\n",
    "for m in range(maximum, 0, -1):\n",
    "    if size != 0:\n",
    "        break\n",
    "    for i in range(N - m + 1):\n",
    "        if size != 0:\n",
    "            break\n",
    "        for j in range(M - m + 1):\n",
    "            if square[i][j] == square[i][j + m - 1] == square[i + m - 1][j] == square[i + m - 1][j + m - 1]:\n",
    "                    size = m ** 2\n",
    "                    break\n",
    "                \n",
    "print(size)"
   ]
  }
 ],
 "metadata": {
  "kernelspec": {
   "display_name": "venv",
   "language": "python",
   "name": "venv"
  },
  "language_info": {
   "codemirror_mode": {
    "name": "ipython",
    "version": 3
   },
   "file_extension": ".py",
   "mimetype": "text/x-python",
   "name": "python",
   "nbconvert_exporter": "python",
   "pygments_lexer": "ipython3",
   "version": "3.11.2"
  }
 },
 "nbformat": 4,
 "nbformat_minor": 2
}
