{
 "cells": [
  {
   "cell_type": "markdown",
   "metadata": {},
   "source": [
    "## 문제\n",
    "상근이는 자신의 결혼식에 학교 동기 중 자신의 친구와 친구의 친구를 초대하기로 했다. 상근이의 동기는 모두 N명이고, 이 학생들의 학번은 모두 1부터 N까지이다. 상근이의 학번은 1이다.\n",
    "\n",
    "상근이는 동기들의 친구 관계를 모두 조사한 리스트를 가지고 있다. 이 리스트를 바탕으로 결혼식에 초대할 사람의 수를 구하는 프로그램을 작성하시오.\n",
    "\n",
    "## 입력\n",
    "첫째 줄에 상근이의 동기의 수 n (2 ≤ n ≤ 500)이 주어진다. 둘째 줄에는 리스트의 길이 m (1 ≤ m ≤ 10000)이 주어진다. 다음 줄부터 m개 줄에는 친구 관계 $a_i$ $b_i$가 주어진다. (1 ≤ $a_i$ < $b_i$ ≤ n) $a_i$와 $b_i$가 친구라는 뜻이며, $b_i$와 $a_i$도 친구관계이다. \n",
    "\n",
    "## 출력\n",
    "첫째 줄에 상근이의 결혼식에 초대하는 동기의 수를 출력한다."
   ]
  },
  {
   "cell_type": "code",
   "execution_count": 1,
   "metadata": {},
   "outputs": [
    {
     "name": "stdout",
     "output_type": "stream",
     "text": [
      "0\n"
     ]
    }
   ],
   "source": [
    "n, m = int(input()), int(input())\n",
    "f1, f2 = set(), set()\n",
    "\n",
    "stack = []\n",
    "for _ in range(m):\n",
    "    a, b = map(int, input().split())\n",
    "    if a == 1 or b == 1: f1.add(a+b-1)\n",
    "    else: stack.append([a, b])\n",
    "\n",
    "while stack:\n",
    "    a, b = stack.pop()\n",
    "    if a in f1: f2.add(b)\n",
    "    if b in f1: f2.add(a)\n",
    "\n",
    "print(len(f1.union(f2)))"
   ]
  }
 ],
 "metadata": {
  "kernelspec": {
   "display_name": "venv",
   "language": "python",
   "name": "venv"
  },
  "language_info": {
   "codemirror_mode": {
    "name": "ipython",
    "version": 3
   },
   "file_extension": ".py",
   "mimetype": "text/x-python",
   "name": "python",
   "nbconvert_exporter": "python",
   "pygments_lexer": "ipython3",
   "version": "3.11.2"
  }
 },
 "nbformat": 4,
 "nbformat_minor": 2
}
