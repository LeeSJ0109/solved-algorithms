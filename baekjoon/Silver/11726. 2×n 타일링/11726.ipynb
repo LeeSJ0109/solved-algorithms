{
 "cells": [
  {
   "cell_type": "markdown",
   "metadata": {},
   "source": [
    "## 문제\n",
    "2×n 크기의 직사각형을 1×2, 2×1 타일로 채우는 방법의 수를 구하는 프로그램을 작성하시오.\n",
    "\n",
    "<img src=\"../Image/11726.png\" width=\"50%\">\n",
    "\n",
    "아래 그림은 2×5 크기의 직사각형을 채운 한 가지 방법의 예이다.\n",
    "\n",
    "## 입력\n",
    "첫째 줄에 n이 주어진다. (1 ≤ n ≤ 1,000)\n",
    "\n",
    "## 출력\n",
    "첫째 줄에 2×n 크기의 직사각형을 채우는 방법의 수를 10,007로 나눈 나머지를 출력한다.\n",
    "\n",
    "# 풀이\n",
    "        d(1) = 1H1\n",
    "             = 1C1 = 1\n",
    "\n",
    "        d(2) = 1H2 + 2H0\n",
    "             = 2C2 + 1C0\n",
    "             = 1 + 1 = 2\n",
    "\n",
    "        d(3) = 1H3 + 2H1\n",
    "             = 3C3 + 2C1\n",
    "             = 1 + 2 = 3\n",
    "\n",
    "        d(4) = 1H4 + 2H2 + 3H0\n",
    "\t        = 4C4 + 3C2 + 2C0\n",
    "\t        = 1 + 3 + 1 = 5\n",
    "\n",
    "        d(5) = 1H5 + 2H3 + 3H1\n",
    "\t        = 5C5 + 4C3 + 3C1\n",
    "\t        = 1 + 4 + 3 = 8\n",
    "\n",
    "        d(6) = 1H6 + 2H4 + 3H2 + 4H0\n",
    "\t        = 6C6 + 5C4 + 4C2 + 3C0\n",
    "\t        = 1 + 5 + 6 + 1 = 13\n",
    "\t\n",
    "        d(7) = 1H7 + 2H5 + 3H3 + 4H1\n",
    "\t        = 7C7 + 6C5 + 5C2 + 4C1\n",
    "\t        = 1 + 6 + 10 + 4 = 21\n",
    "\n",
    "                .\n",
    "                .\n",
    "                .\n",
    "\n",
    "        d(n) = d(n - 2) + d(n - 1)\n",
    "        "
   ]
  },
  {
   "cell_type": "code",
   "execution_count": 3,
   "metadata": {},
   "outputs": [
    {
     "name": "stdout",
     "output_type": "stream",
     "text": [
      "55\n"
     ]
    }
   ],
   "source": [
    "n = int(input())\n",
    "\n",
    "method = [0] * (n + 1)\n",
    "\n",
    "for i in range(1, n + 1):\n",
    "    if i == 1 or i == 2:\n",
    "        method[i] = i\n",
    "    else:\n",
    "        method[i] = method[i - 2] + method[i - 1]\n",
    "        \n",
    "print(method[-1] % 10007)"
   ]
  }
 ],
 "metadata": {
  "kernelspec": {
   "display_name": "venv",
   "language": "python",
   "name": "venv"
  },
  "language_info": {
   "codemirror_mode": {
    "name": "ipython",
    "version": 3
   },
   "file_extension": ".py",
   "mimetype": "text/x-python",
   "name": "python",
   "nbconvert_exporter": "python",
   "pygments_lexer": "ipython3",
   "version": "3.11.2"
  }
 },
 "nbformat": 4,
 "nbformat_minor": 2
}
