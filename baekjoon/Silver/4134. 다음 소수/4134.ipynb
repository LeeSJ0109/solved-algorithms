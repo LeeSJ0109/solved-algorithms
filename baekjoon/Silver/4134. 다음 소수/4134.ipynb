{
 "cells": [
  {
   "cell_type": "markdown",
   "metadata": {},
   "source": [
    "## 문제\n",
    "정수 $n(0 ≤ n ≤ 4*10^9)$가 주어졌을 때, $n$보다 크거나 같은 소수 중 가장 작은 소수 찾는 프로그램을 작성하시오.\n",
    "\n",
    "## 입력\n",
    "첫째 줄에 테스트 케이스의 개수가 주어진다. 각 테스트 케이스는 한 줄로 이루어져 있고, 정수 $n$이 주어진다.\n",
    "\n",
    "## 출력\n",
    "각각의 테스트 케이스에 대해서 $n$보다 크거나 같은 소수 중 가장 작은 소수를 한 줄에 하나씩 출력한다.\n"
   ]
  },
  {
   "cell_type": "code",
   "execution_count": 23,
   "metadata": {},
   "outputs": [],
   "source": [
    "def is_prime(N):\n",
    "    if N < 2:\n",
    "        return False\n",
    "    for i in range(2, int(N**0.5) + 1):\n",
    "        if N % i == 0:\n",
    "            return False\n",
    "    return True"
   ]
  },
  {
   "cell_type": "code",
   "execution_count": 25,
   "metadata": {},
   "outputs": [
    {
     "name": "stdout",
     "output_type": "stream",
     "text": [
      "7\n",
      "23\n",
      "101\n"
     ]
    }
   ],
   "source": [
    "T = int(input())\n",
    "\n",
    "for _ in range(T):\n",
    "    num = int(input())\n",
    "    while True:\n",
    "        if is_prime(num):\n",
    "            print(num)\n",
    "            break\n",
    "        num += 1"
   ]
  }
 ],
 "metadata": {
  "kernelspec": {
   "display_name": "venv",
   "language": "python",
   "name": "venv"
  },
  "language_info": {
   "codemirror_mode": {
    "name": "ipython",
    "version": 3
   },
   "file_extension": ".py",
   "mimetype": "text/x-python",
   "name": "python",
   "nbconvert_exporter": "python",
   "pygments_lexer": "ipython3",
   "version": "3.11.2"
  }
 },
 "nbformat": 4,
 "nbformat_minor": 2
}
