{
 "cells": [
  {
   "cell_type": "markdown",
   "metadata": {},
   "source": [
    "## 문제\n",
    "예제를 보고 규칙을 유추한 뒤에 별을 찍어 보세요.\n",
    "\n",
    "## 입력\n",
    "첫째 줄에 N(1 ≤ N ≤ 10)이 주어진다.\n",
    "\n",
    "## 출력\n",
    "첫째 줄부터 차례대로 별을 출력한다.\n"
   ]
  },
  {
   "cell_type": "code",
   "execution_count": 148,
   "metadata": {},
   "outputs": [],
   "source": [
    "def create_pattern(N):\n",
    "    if N == 1:\n",
    "        return '*'\n",
    "    if N == 2:\n",
    "        return '*****\\n ***\\n  *'\n",
    "        \n",
    "    pattern = create_pattern(N-1)\n",
    "    pattern_list = []\n",
    "    \n",
    "    space = 2**(N-1) - 1\n",
    "    count = 0\n",
    "    \n",
    "    if N % 2 == 0:\n",
    "        count = 1\n",
    "        pattern_list.append('*' * (2**(N+1) - 3))\n",
    "        for i in pattern.splitlines():\n",
    "            pattern_list.append(' ' * count + '*' + ' ' * (space - 1) + i + ' ' * (2 * space - 2) + '*')\n",
    "            space -= 1\n",
    "            count += 1\n",
    "        for i in range(2**(N-1) - 2, -1, -1):\n",
    "            if i == 0:\n",
    "                pattern_list.append(' '* (count) + '*')\n",
    "            else:\n",
    "                pattern_list.append(' '* (count) + '*' + ' ' * (i * 2 - 1) + '*')\n",
    "            count += 1\n",
    "                \n",
    "    elif N % 2 != 0:\n",
    "        for i in range(2**(N-1) - 1):\n",
    "            if i == 0:\n",
    "                pattern_list.append(' ' * (2 * space) + '*')\n",
    "            else:\n",
    "                pattern_list.append(' ' * (2 * space - i) + '*' + ' ' * (2 * i - 1) + '*')\n",
    "        for i in pattern.splitlines():\n",
    "            pattern_list.append(' ' * space + '*' + ' ' * count + i + ' ' * (2 * count) + '*')\n",
    "            space -= 1\n",
    "            count += 1\n",
    "        pattern_list.append('*' * (2**(N+1) - 3))\n",
    "        \n",
    "    \n",
    "    return '\\n'.join(pattern_list)"
   ]
  },
  {
   "cell_type": "code",
   "execution_count": 151,
   "metadata": {},
   "outputs": [
    {
     "name": "stdout",
     "output_type": "stream",
     "text": [
      "*****************************\n",
      " *            *            *\n",
      "  *          * *          *\n",
      "   *        *   *        *\n",
      "    *      *******      *\n",
      "     *    *  ***  *    *\n",
      "      *  *    *    *  *\n",
      "       ***************\n",
      "        *           *\n",
      "         *         *\n",
      "          *       *\n",
      "           *     *\n",
      "            *   *\n",
      "             * *\n",
      "              *\n"
     ]
    }
   ],
   "source": [
    "N = int(input())\n",
    "\n",
    "print(create_pattern(N))"
   ]
  }
 ],
 "metadata": {
  "kernelspec": {
   "display_name": "venv",
   "language": "python",
   "name": "venv"
  },
  "language_info": {
   "codemirror_mode": {
    "name": "ipython",
    "version": 3
   },
   "file_extension": ".py",
   "mimetype": "text/x-python",
   "name": "python",
   "nbconvert_exporter": "python",
   "pygments_lexer": "ipython3",
   "version": "3.11.2"
  }
 },
 "nbformat": 4,
 "nbformat_minor": 2
}
