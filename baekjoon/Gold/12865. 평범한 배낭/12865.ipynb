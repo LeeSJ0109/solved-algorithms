{
 "cells": [
  {
   "cell_type": "markdown",
   "metadata": {},
   "source": [
    "## 문제\n",
    "이 문제는 아주 평범한 배낭에 관한 문제이다.\n",
    "\n",
    "한 달 후면 국가의 부름을 받게 되는 준서는 여행을 가려고 한다. 세상과의 단절을 슬퍼하며 최대한 즐기기 위한 여행이기 때문에, 가지고 다닐 배낭 또한 최대한 가치 있게 싸려고 한다.\n",
    "\n",
    "준서가 여행에 필요하다고 생각하는 N개의 물건이 있다. 각 물건은 무게 W와 가치 V를 가지는데, 해당 물건을 배낭에 넣어서 가면 준서가 V만큼 즐길 수 있다. 아직 행군을 해본 적이 없는 준서는 최대 K만큼의 무게만을 넣을 수 있는 배낭만 들고 다닐 수 있다. 준서가 최대한 즐거운 여행을 하기 위해 배낭에 넣을 수 있는 물건들의 가치의 최댓값을 알려주자.\n",
    "\n",
    "## 입력\n",
    "첫 줄에 물품의 수 N(1 ≤ N ≤ 100)과 준서가 버틸 수 있는 무게 K(1 ≤ K ≤ 100,000)가 주어진다. 두 번째 줄부터 N개의 줄에 거쳐 각 물건의 무게 W(1 ≤ W ≤ 100,000)와 해당 물건의 가치 V(0 ≤ V ≤ 1,000)가 주어진다.\n",
    "\n",
    "입력으로 주어지는 모든 수는 정수이다.\n",
    "\n",
    "## 출력\n",
    "한 줄에 배낭에 넣을 수 있는 물건들의 가치합의 최댓값을 출력한다.\n"
   ]
  },
  {
   "cell_type": "code",
   "execution_count": 4,
   "metadata": {},
   "outputs": [
    {
     "name": "stdout",
     "output_type": "stream",
     "text": [
      "14\n"
     ]
    }
   ],
   "source": [
    "N, K = map(int, input().split())\n",
    "\n",
    "stuff = [[0, 0]]\n",
    "knapsack = [[0 for _ in range(K + 1)] for _ in range(N + 1)]\n",
    "\n",
    "for _ in range(N):\n",
    "    stuff.append(list(map(int, input().split())))\n",
    "    \n",
    "for i in range(1, N + 1):\n",
    "    for j in range(1, K + 1):\n",
    "        weight = stuff[i][0]\n",
    "        value = stuff[i][1]\n",
    "        \n",
    "        if j < weight:\n",
    "            knapsack[i][j] = knapsack[i - 1][j]\n",
    "        else:\n",
    "            knapsack[i][j] = max(value + knapsack[i - 1][j - weight], knapsack[i - 1][j])\n",
    "\n",
    "print(knapsack[N][K])"
   ]
  }
 ],
 "metadata": {
  "kernelspec": {
   "display_name": "venv",
   "language": "python",
   "name": "venv"
  },
  "language_info": {
   "codemirror_mode": {
    "name": "ipython",
    "version": 3
   },
   "file_extension": ".py",
   "mimetype": "text/x-python",
   "name": "python",
   "nbconvert_exporter": "python",
   "pygments_lexer": "ipython3",
   "version": "3.11.2"
  }
 },
 "nbformat": 4,
 "nbformat_minor": 2
}
