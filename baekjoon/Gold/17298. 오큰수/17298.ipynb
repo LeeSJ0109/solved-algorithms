{
 "cells": [
  {
   "cell_type": "markdown",
   "metadata": {},
   "source": [
    "## 문제\n",
    "크기가 N인 수열 A = $A_1$, $A_2$, ..., $A_N$이 있다. 수열의 각 원소 Ai에 대해서 오큰수 NGE(i)를 구하려고 한다. $A_i$의 오큰수는 오른쪽에 있으면서 $A_i$보다 큰 수 중에서 가장 왼쪽에 있는 수를 의미한다. 그러한 수가 없는 경우에 오큰수는 -1이다.\n",
    "\n",
    "예를 들어, A = [3, 5, 2, 7]인 경우 NGE(1) = 5, NGE(2) = 7, NGE(3) = 7, NGE(4) = -1이다. A = [9, 5, 4, 8]인 경우에는 NGE(1) = -1, NGE(2) = 8, NGE(3) = 8, NGE(4) = -1이다.\n",
    "\n",
    "## 입력\n",
    "첫째 줄에 수열 A의 크기 N (1 ≤ N ≤ 1,000,000)이 주어진다. 둘째 줄에 수열 A의 원소 $A_1$, $A_2$, ..., $A_N$ (1 ≤ $A_i$ ≤ 1,000,000)이 주어진다.\n",
    "\n",
    "## 출력\n",
    "총 N개의 수 NGE(1), NGE(2), ..., NGE(N)을 공백으로 구분해 출력한다."
   ]
  },
  {
   "cell_type": "code",
   "execution_count": 1,
   "metadata": {},
   "outputs": [
    {
     "name": "stdout",
     "output_type": "stream",
     "text": [
      "5 7 7 -1\n"
     ]
    }
   ],
   "source": [
    "N = int(input())\n",
    "A = list(map(int, input().split()))\n",
    "\n",
    "stack = []\n",
    "result = [-1] * N\n",
    "\n",
    "for i in range(N):\n",
    "    while stack and A[stack[-1]] < A[i]:\n",
    "        result[stack.pop()] = A[i]\n",
    "    stack.append(i)\n",
    "\n",
    "print(*result)"
   ]
  }
 ],
 "metadata": {
  "kernelspec": {
   "display_name": "venv",
   "language": "python",
   "name": "venv"
  },
  "language_info": {
   "codemirror_mode": {
    "name": "ipython",
    "version": 3
   },
   "file_extension": ".py",
   "mimetype": "text/x-python",
   "name": "python",
   "nbconvert_exporter": "python",
   "pygments_lexer": "ipython3",
   "version": "3.11.2"
  }
 },
 "nbformat": 4,
 "nbformat_minor": 2
}
