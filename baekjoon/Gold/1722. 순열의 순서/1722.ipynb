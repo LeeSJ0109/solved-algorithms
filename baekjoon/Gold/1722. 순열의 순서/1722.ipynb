{
 "cells": [
  {
   "cell_type": "markdown",
   "metadata": {},
   "source": [
    "## 문제\n",
    "1부터 N까지의 수를 임의로 배열한 순열은 총 N! = N×(N-1)×…×2×1 가지가 있다.\n",
    "\n",
    "임의의 순열은 정렬을 할 수 있다. 예를 들어  N=3인 경우 {1, 2, 3}, {1, 3, 2}, {2, 1, 3}, {2, 3, 1}, {3, 1, 2}, {3, 2, 1}의 순서로 생각할 수 있다. 첫 번째 수가 작은 것이 순서상에서 앞서며, 첫 번째 수가 같으면 두 번째 수가 작은 것이, 두 번째 수도 같으면 세 번째 수가 작은 것이….\n",
    "\n",
    "N이 주어지면, 아래의 두 소문제 중에 하나를 풀어야 한다. k가 주어지면 k번째 순열을 구하고, 임의의 순열이 주어지면 이 순열이 몇 번째 순열인지를 출력하는 프로그램을 작성하시오.\n",
    "\n",
    "## 입력\n",
    "첫째 줄에 N(1 ≤ N ≤ 20)이 주어진다. 둘째 줄의 첫 번째 수는 소문제 번호이다. 1인 경우 k(1 ≤ k ≤ N!)를 입력받고, 2인 경우 임의의 순열을 나타내는 N개의 수를 입력받는다. N개의 수에는 1부터 N까지의 정수가 한 번씩만 나타난다.\n",
    "\n",
    "## 출력\n",
    "k번째 수열을 나타내는 N개의 수를 출력하거나, 몇 번째 수열인지를 출력하면 된다."
   ]
  },
  {
   "cell_type": "code",
   "execution_count": 51,
   "metadata": {},
   "outputs": [],
   "source": [
    "from math import factorial\n",
    "\n",
    "def get_permutation(N, k):\n",
    "    num = [i + 1 for i in range(N)]\n",
    "    permutation = []\n",
    "    \n",
    "    for i in range(N - 1, 0, -1):\n",
    "        fact = factorial(i)\n",
    "        index = (k - 1) // fact\n",
    "        permutation.append(num.pop(index))\n",
    "        \n",
    "        k %= fact\n",
    "        \n",
    "    permutation.append(num.pop())\n",
    "    \n",
    "    return permutation\n",
    "\n",
    "def get_permutation_index(N, permutation):\n",
    "    sum = 1\n",
    "    num = [i + 1 for i in range(N)]\n",
    "    for i in range(N):\n",
    "        index = num.index(permutation[i])\n",
    "        sum += index * factorial(N - i - 1)\n",
    "        num.pop(index)\n",
    "    return sum"
   ]
  },
  {
   "cell_type": "code",
   "execution_count": 54,
   "metadata": {},
   "outputs": [
    {
     "name": "stdout",
     "output_type": "stream",
     "text": [
      "3\n"
     ]
    }
   ],
   "source": [
    "N = int(input())\n",
    "type, *k = map(int, input().split())\n",
    "\n",
    "if type == 1:\n",
    "    k = k[0]\n",
    "    result = get_permutation(N, k)\n",
    "    print(*result)\n",
    "    \n",
    "if type == 2:\n",
    "    index = get_permutation_index(N, k)\n",
    "    print(index)"
   ]
  }
 ],
 "metadata": {
  "kernelspec": {
   "display_name": "venv",
   "language": "python",
   "name": "venv"
  },
  "language_info": {
   "codemirror_mode": {
    "name": "ipython",
    "version": 3
   },
   "file_extension": ".py",
   "mimetype": "text/x-python",
   "name": "python",
   "nbconvert_exporter": "python",
   "pygments_lexer": "ipython3",
   "version": "3.11.2"
  }
 },
 "nbformat": 4,
 "nbformat_minor": 2
}
