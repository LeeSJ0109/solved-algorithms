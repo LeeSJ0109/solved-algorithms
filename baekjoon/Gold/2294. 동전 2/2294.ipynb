{
 "cells": [
  {
   "cell_type": "markdown",
   "metadata": {},
   "source": [
    "## 문제\n",
    "n가지 종류의 동전이 있다. 이 동전들을 적당히 사용해서, 그 가치의 합이 k원이 되도록 하고 싶다. 그러면서 동전의 개수가 최소가 되도록 하려고 한다. 각각의 동전은 몇 개라도 사용할 수 있다.\n",
    "\n",
    "## 입력\n",
    "첫째 줄에 n, k가 주어진다. (1 ≤ n ≤ 100, 1 ≤ k ≤ 10,000) 다음 n개의 줄에는 각각의 동전의 가치가 주어진다. 동전의 가치는 100,000보다 작거나 같은 자연수이다. 가치가 같은 동전이 여러 번 주어질 수도 있다.\n",
    "\n",
    "## 출력\n",
    "첫째 줄에 사용한 동전의 최소 개수를 출력한다. 불가능한 경우에는 -1을 출력한다.\n"
   ]
  },
  {
   "cell_type": "code",
   "execution_count": 1,
   "metadata": {},
   "outputs": [
    {
     "name": "stdout",
     "output_type": "stream",
     "text": [
      "3\n"
     ]
    }
   ],
   "source": [
    "N, M = map(int, input().split())\n",
    "coin = set()\n",
    "\n",
    "for _ in range(N):\n",
    "    coin.add(int(input()))\n",
    "    \n",
    "way = [-1] * (M + 1)\n",
    "\n",
    "for i in range(1, M + 1):\n",
    "    if i in coin:\n",
    "        way[i] = 1\n",
    "    else:\n",
    "        tmp = []\n",
    "        tmp = [way[i - c] + 1 for c in coin if c < i and way[i - c] != -1]\n",
    "        if tmp:\n",
    "            way[i] = min(tmp)\n",
    "            \n",
    "print(way[M])"
   ]
  }
 ],
 "metadata": {
  "kernelspec": {
   "display_name": "venv",
   "language": "python",
   "name": "venv"
  },
  "language_info": {
   "codemirror_mode": {
    "name": "ipython",
    "version": 3
   },
   "file_extension": ".py",
   "mimetype": "text/x-python",
   "name": "python",
   "nbconvert_exporter": "python",
   "pygments_lexer": "ipython3",
   "version": "3.11.2"
  }
 },
 "nbformat": 4,
 "nbformat_minor": 2
}
