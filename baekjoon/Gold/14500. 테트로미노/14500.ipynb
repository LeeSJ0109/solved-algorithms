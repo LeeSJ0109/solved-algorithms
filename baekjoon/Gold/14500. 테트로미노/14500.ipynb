{
 "cells": [
  {
   "cell_type": "markdown",
   "metadata": {},
   "source": [
    "## 문제\n",
    "폴리오미노란 크기가 1×1인 정사각형을 여러 개 이어서 붙인 도형이며, 다음과 같은 조건을 만족해야 한다.\n",
    "\n",
    "- 정사각형은 서로 겹치면 안 된다.\n",
    "- 도형은 모두 연결되어 있어야 한다.\n",
    "- 정사각형의 변끼리 연결되어 있어야 한다. 즉, 꼭짓점과 꼭짓점만 맞닿아 있으면 안 된다.\n",
    "\n",
    "정사각형 4개를 이어 붙인 폴리오미노는 테트로미노라고 하며, 다음과 같은 5가지가 있다.\n",
    "\n",
    "<center>\n",
    "    <img src=\"../../images/14500.png\" width=\"30%\">\n",
    "</center>\n",
    "\n",
    "아름이는 크기가 N×M인 종이 위에 테트로미노 하나를 놓으려고 한다. 종이는 1×1 크기의 칸으로 나누어져 있으며, 각각의 칸에는 정수가 하나 쓰여 있다.\n",
    "\n",
    "테트로미노 하나를 적절히 놓아서 테트로미노가 놓인 칸에 쓰여 있는 수들의 합을 최대로 하는 프로그램을 작성하시오.\n",
    "\n",
    "테트로미노는 반드시 한 정사각형이 정확히 하나의 칸을 포함하도록 놓아야 하며, 회전이나 대칭을 시켜도 된다.\n",
    "\n",
    "## 입력\n",
    "첫째 줄에 종이의 세로 크기 N과 가로 크기 M이 주어진다. (4 ≤ N, M ≤ 500)\n",
    "\n",
    "둘째 줄부터 N개의 줄에 종이에 쓰여 있는 수가 주어진다. i번째 줄의 j번째 수는 위에서부터 i번째 칸, 왼쪽에서부터 j번째 칸에 쓰여 있는 수이다. 입력으로 주어지는 수는 1,000을 넘지 않는 자연수이다.\n",
    "\n",
    "## 출력\n",
    "첫째 줄에 테트로미노가 놓인 칸에 쓰인 수들의 합의 최댓값을 출력한다."
   ]
  },
  {
   "cell_type": "code",
   "execution_count": 11,
   "metadata": {},
   "outputs": [
    {
     "name": "stdout",
     "output_type": "stream",
     "text": [
      "19\n"
     ]
    }
   ],
   "source": [
    "N, M = map(int, input().split())\n",
    "board = []\n",
    "\n",
    "for _ in range(N):\n",
    "    board.append(list(map(int, input().split())))\n",
    "\n",
    "tetrominoes = [\n",
    "    # ㅡ모양\n",
    "    [(0, 0), (0, 1), (0, 2), (0, 3)],\n",
    "    [(0, 0), (1, 0), (2, 0), (3, 0)],\n",
    "    \n",
    "    # ㅁ모양\n",
    "    [(0, 0), (0, 1), (1, 0), (1, 1)],\n",
    "    \n",
    "    # L모양\n",
    "    [(0, 0), (1, 0), (2, 0), (2, 1)],\n",
    "    [(0, 1), (1, 1), (2, 1), (2, 0)],\n",
    "    [(0, 0), (0, 1), (0, 2), (1, 0)],\n",
    "    [(0, 0), (0, 1), (0, 2), (1, 2)],\n",
    "    [(0, 0), (0, 1), (1, 0), (2, 0)],\n",
    "    [(0, 0), (0, 1), (1, 1), (2, 1)],\n",
    "    [(0, 0), (1, 0), (1, 1), (1, 2)],\n",
    "    [(0, 2), (1, 0), (1, 1), (1, 2)],\n",
    "    \n",
    "    # ㅗ모양\n",
    "    [(0, 0), (0, 1), (0, 2), (1, 1)],\n",
    "    [(0, 1), (1, 1), (2, 1), (1, 0)],\n",
    "    [(1, 0), (1, 1), (1, 2), (0, 1)],\n",
    "    [(0, 0), (1, 0), (2, 0), (1, 1)],\n",
    "    \n",
    "    # z모양\n",
    "    [(0, 0), (0, 1), (1, 1), (1, 2)],\n",
    "    [(1, 0), (0, 1), (1, 1), (0, 2)],\n",
    "    [(0, 0), (1, 0), (1, 1), (2, 1)],\n",
    "    [(1, 0), (2, 0), (0, 1), (1, 1)]\n",
    "    \n",
    "]\n",
    "\n",
    "maximum_sum = 0\n",
    "for i in range(N):\n",
    "    for j in range(M):\n",
    "        for tetromino in tetrominoes:\n",
    "            current_sum = 0\n",
    "            count = 0\n",
    "            for dx, dy in tetromino:\n",
    "                x, y = i + dx, j + dy\n",
    "                if 0 <= x < N and 0 <= y < M:\n",
    "                    current_sum += board[x][y]\n",
    "                else: break\n",
    "                count += 1\n",
    "            if count == 4:\n",
    "                maximum_sum = max(maximum_sum, current_sum)\n",
    "                    \n",
    "print(maximum_sum)\n"
   ]
  }
 ],
 "metadata": {
  "kernelspec": {
   "display_name": "venv",
   "language": "python",
   "name": "venv"
  },
  "language_info": {
   "codemirror_mode": {
    "name": "ipython",
    "version": 3
   },
   "file_extension": ".py",
   "mimetype": "text/x-python",
   "name": "python",
   "nbconvert_exporter": "python",
   "pygments_lexer": "ipython3",
   "version": "3.11.2"
  }
 },
 "nbformat": 4,
 "nbformat_minor": 2
}
