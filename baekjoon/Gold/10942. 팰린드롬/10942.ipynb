{
 "cells": [
  {
   "cell_type": "markdown",
   "metadata": {},
   "source": [
    "## 문제\n",
    "명우는 홍준이와 함께 팰린드롬 놀이를 해보려고 한다.\n",
    "\n",
    "먼저, 홍준이는 자연수 N개를 칠판에 적는다. 그 다음, 명우에게 질문을 총 M번 한다.\n",
    "\n",
    "각 질문은 두 정수 S와 E(1 ≤ S ≤ E ≤ N)로 나타낼 수 있으며, S번째 수부터 E번째 까지 수가 팰린드롬을 이루는지를 물어보며, 명우는 각 질문에 대해 팰린드롬이다 또는 아니다를 말해야 한다.\n",
    "\n",
    "예를 들어, 홍준이가 칠판에 적은 수가 1, 2, 1, 3, 1, 2, 1라고 하자.\n",
    "\n",
    "- S = 1, E = 3인 경우 1, 2, 1은 팰린드롬이다.\n",
    "- S = 2, E = 5인 경우 2, 1, 3, 1은 팰린드롬이 아니다.\n",
    "- S = 3, E = 3인 경우 1은 팰린드롬이다.\n",
    "- S = 5, E = 7인 경우 1, 2, 1은 팰린드롬이다.\n",
    "\n",
    "자연수 N개와 질문 M개가 모두 주어졌을 때, 명우의 대답을 구하는 프로그램을 작성하시오.\n",
    "\n",
    "## 입력\n",
    "첫째 줄에 수열의 크기 N (1 ≤ N ≤ 2,000)이 주어진다.\n",
    "\n",
    "둘째 줄에는 홍준이가 칠판에 적은 수 N개가 순서대로 주어진다. 칠판에 적은 수는 100,000보다 작거나 같은 자연수이다.\n",
    "\n",
    "셋째 줄에는 홍준이가 한 질문의 개수 M (1 ≤ M ≤ 1,000,000)이 주어진다.\n",
    "\n",
    "넷째 줄부터 M개의 줄에는 홍준이가 명우에게 한 질문 S와 E가 한 줄에 하나씩 주어진다.\n",
    "\n",
    "## 출력\n",
    "총 M개의 줄에 걸쳐 홍준이의 질문에 대한 명우의 답을 입력으로 주어진 순서에 따라서 출력한다. 팰린드롬인 경우에는 1, 아닌 경우에는 0을 출력한다.\n"
   ]
  },
  {
   "cell_type": "code",
   "execution_count": 31,
   "metadata": {},
   "outputs": [
    {
     "name": "stdout",
     "output_type": "stream",
     "text": [
      "1\n",
      "0\n",
      "1\n",
      "1\n"
     ]
    }
   ],
   "source": [
    "N = int(input())\n",
    "num = list(map(int, input().split()))\n",
    "M = int(input())\n",
    "\n",
    "is_palindrom = [[0] * N for _ in range(N)]\n",
    "\n",
    "for i in range(N):\n",
    "    is_palindrom[i][i] = 1\n",
    "    \n",
    "for i in range(N-1):\n",
    "    if num[i] == num[i+1]:\n",
    "        is_palindrom[i][i+1] = 1\n",
    "        \n",
    "for i in range(N-2):\n",
    "    for j in range(N-2-i):\n",
    "        k = i + j + 2\n",
    "        if num[j] == num[k] and is_palindrom[j+1][k-1] == 1:\n",
    "            is_palindrom[j][k] = 1\n",
    "    \n",
    "for _ in range(M):\n",
    "    S, E = map(int, input().split())\n",
    "    print(is_palindrom[S-1][E-1])"
   ]
  }
 ],
 "metadata": {
  "kernelspec": {
   "display_name": "venv",
   "language": "python",
   "name": "venv"
  },
  "language_info": {
   "codemirror_mode": {
    "name": "ipython",
    "version": 3
   },
   "file_extension": ".py",
   "mimetype": "text/x-python",
   "name": "python",
   "nbconvert_exporter": "python",
   "pygments_lexer": "ipython3",
   "version": "3.11.2"
  }
 },
 "nbformat": 4,
 "nbformat_minor": 2
}
