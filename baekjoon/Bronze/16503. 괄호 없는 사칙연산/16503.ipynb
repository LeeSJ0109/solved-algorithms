{
 "cells": [
  {
   "cell_type": "markdown",
   "metadata": {},
   "source": [
    "## 문제\n",
    "사칙연산에서 곱셈과 나눗셈은 덧셈과 뺄셈보다 먼저 계산한다. 덧셈과 뺄셈을 먼저 계산하고 싶을 때는 보통 가장 큰 연산 우선순위를 가지는 괄호를 사용하여 연산 순서를 지정한다. 예를 들어, 아래의 식은 연산 순서에 따라 두 가지 다른 결과가 나올 수 있다.\n",
    "\n",
    "- (2 + 3) × 4 = 20\n",
    "- 2 + (3 × 4) = 14\n",
    "\n",
    "연산 우선순위가 같은 곱셈과 나눗셈 또는 덧셈과 뺄셈만 있는 식에서는 보통 왼쪽에서 오른쪽 순서로 연산을 한다. 하지만 이런 상황에도 연산 순서에 따라 아래와 같이 두 가지 다른 결과가 나올 수 있다.\n",
    "\n",
    "- (6 ÷ 2) × 3 = 9\n",
    "- 6 ÷ (2 × 3) = 1\n",
    "\n",
    "만약 곱셈, 나눗셈, 덧셈, 뺄셈의 4가지 연산자의 연산 우선순위가 동등하다고 할 때, 괄호 없는 식에서 서로 다른 연산 순서의 계산 결과를 구하여라.\n",
    "\n",
    "## 입력\n",
    "첫 번째 줄에는 \"$K_1 O_1 K_2 O_2 K_3$\" 형태로 식이 주어진다. 정수 $K_i (1 ≤ K_i ≤ 1,000)$는 피연산자를, 문자열 $O_i$는 곱셈(*), 나눗셈(/), 덧셈(+), 뺄셈(-) 중 한 가지 연산자를 의미한다.\n",
    "\n",
    "나눗셈 연산은 정수 나눗셈으로 몫만 취하며, 피연산자 중 하나가 음수이면 양수로 바꿔 계산한 결괏값에 음수를 취한다. 또한, 계산 과정에서 0으로 나누어야 하는 식은 주어지지 않는다.\n",
    "\n",
    "## 출력\n",
    "주어진 식에서 서로 다른 연산 순서의 계산 결과가 작은 것을 첫 번째 줄에, 큰 것을 두 번째 줄에 출력한다.\n"
   ]
  },
  {
   "cell_type": "code",
   "execution_count": 10,
   "metadata": {},
   "outputs": [
    {
     "name": "stdout",
     "output_type": "stream",
     "text": [
      "-7\n",
      "-1\n"
     ]
    }
   ],
   "source": [
    "def calculate(K1, O, K2): \n",
    "    if O == '*':\n",
    "        return K1 * K2\n",
    "    elif O == '/':\n",
    "        return -1 * (abs(K1) // abs(K2)) if K1 * K2 < 0 else K1 // K2\n",
    "    elif O == '+':\n",
    "        return K1 + K2\n",
    "    elif O == '-':\n",
    "        return K1 - K2\n",
    "    \n",
    "K1, O1, K2, O2, K3 = input().split()\n",
    "K1, K2, K3 = int(K1), int(K2), int(K3)\n",
    "cal1 = calculate(calculate(K1, O1, K2), O2, K3)\n",
    "cal2 = calculate(K1, O1, calculate(K2, O2, K3))\n",
    "\n",
    "print(min(cal1, cal2))\n",
    "print(max(cal1, cal2))"
   ]
  }
 ],
 "metadata": {
  "kernelspec": {
   "display_name": "venv",
   "language": "python",
   "name": "venv"
  },
  "language_info": {
   "codemirror_mode": {
    "name": "ipython",
    "version": 3
   },
   "file_extension": ".py",
   "mimetype": "text/x-python",
   "name": "python",
   "nbconvert_exporter": "python",
   "pygments_lexer": "ipython3",
   "version": "3.11.2"
  }
 },
 "nbformat": 4,
 "nbformat_minor": 2
}
