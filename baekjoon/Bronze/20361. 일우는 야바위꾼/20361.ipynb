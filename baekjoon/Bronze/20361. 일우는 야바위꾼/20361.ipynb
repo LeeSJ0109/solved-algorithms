{
 "cells": [
  {
   "cell_type": "markdown",
   "metadata": {},
   "source": [
    "## 문제\n",
    "전설의 야바위꾼 일우는 Shell Game으로 야바위를 한다. Shell Game은 다음과 같은 절차로 진행된다.\n",
    "\n",
    "1. 진행자가 N개의 컵을 일렬로 놓고, 그 중 X번째 컵에 공을 숨겨둔다.\n",
    "2. 임의의 서로 다른 두 컵의 위치를 맞바꾼다. 이 항목을 K번 수행한다. 만약, 공을 숨겨둔 컵을 움직인다면 공도 그 컵을 따라서 움직인다.\n",
    "3. 참가자는 몇 번째 컵에 공이 숨겨져 있는지 추측한다.\n",
    "4. 그 컵에 공이 숨겨져 있다면 참가자가, 그렇지 않다면 진행자가 이긴다.\n",
    "\n",
    "수혁이는 Shell Game을 잘하고 싶다. 하지만, 일우가 진행자라면 무슨 수를 써도 이길 수 없어 수혁이는 일우의 사기도박을 의심하고 있다. 현재 우리는 수혁과 일우가 진행한 Shell Game의 모든 기록을 입수했다. 이를 바탕으로, 일우가 사기도박을 하지 않았다면 공이 몇 번째 컵에 있는지 알려주는 프로그램을 작성하자.\n",
    "\n",
    "## 입력\n",
    "첫째 줄에 $N(3 ≤ N ≤ 200,000)$, $X(1 ≤ X ≤ N)$, $K(1 ≤ K ≤ 100,000)$가 공백으로 구분되어 주어진다.\n",
    "\n",
    "둘째 줄부터 K개의 줄에는 순서대로 바꾼 두 컵의 위치 $A_i$, $B_i$ ($1 ≤ A_i$, $B_i ≤ N$, $A_i ≠ B_i$)가 공백으로 구분되어 주어진다.\n",
    "\n",
    "주어지는 모든 입력은 정수다.\n",
    "\n",
    "## 출력\n",
    "일우가 사기도박을 하지 않았다면, 공이 몇 번째 위치의 컵에 있어야 하는지 정수로 출력하시오.\n"
   ]
  },
  {
   "cell_type": "code",
   "execution_count": 2,
   "metadata": {},
   "outputs": [
    {
     "data": {
      "text/plain": [
       "1"
      ]
     },
     "execution_count": 2,
     "metadata": {},
     "output_type": "execute_result"
    }
   ],
   "source": [
    "N, X, K = map(int, input().split())\n",
    "Shell = [0] * (N + 1)\n",
    "Shell[X] = 1\n",
    "\n",
    "for _ in range(K):\n",
    "    A, B = map(int, input().split())\n",
    "    Shell[A], Shell[B] = Shell[B], Shell[A]\n",
    "    \n",
    "print(Shell.index(1))"
   ]
  }
 ],
 "metadata": {
  "kernelspec": {
   "display_name": "venv",
   "language": "python",
   "name": "venv"
  },
  "language_info": {
   "codemirror_mode": {
    "name": "ipython",
    "version": 3
   },
   "file_extension": ".py",
   "mimetype": "text/x-python",
   "name": "python",
   "nbconvert_exporter": "python",
   "pygments_lexer": "ipython3",
   "version": "3.11.2"
  }
 },
 "nbformat": 4,
 "nbformat_minor": 2
}
