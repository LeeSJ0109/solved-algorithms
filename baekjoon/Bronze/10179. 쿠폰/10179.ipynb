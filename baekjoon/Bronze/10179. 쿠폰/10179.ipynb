{
 "cells": [
  {
   "cell_type": "markdown",
   "metadata": {},
   "source": [
    "## 문제\n",
    "당신은 어떤 물건이라도 20% 할인해주는 쿠폰을 가지고 있다.\n",
    "\n",
    "원래 가격이 주어질 때, 쿠폰을 사용하면 얼마가 되는지 알려주는 프로그램을 작성하시오.\n",
    "\n",
    "## 입력\n",
    "첫 번째 줄에 테스트케이스의 수가 주어진다.\n",
    "\n",
    "각 줄에는 물건의 원래가격이 소수점 둘째자리까지 주어진다.\n",
    "\n",
    "## 출력\n",
    "할인된 가격을 달러 단위로 출력한다.\n",
    "\n",
    "나누어떨어지지 않을 때는 소수점 셋째 자리에서 반올림해서 둘째 자리까지 출력한다.\n"
   ]
  },
  {
   "cell_type": "code",
   "execution_count": 7,
   "metadata": {},
   "outputs": [
    {
     "name": "stdout",
     "output_type": "stream",
     "text": [
      "$80.00\n",
      "$47.99\n",
      "$12.80\n"
     ]
    }
   ],
   "source": [
    "t = int(input())\n",
    "\n",
    "for _ in range(t):\n",
    "    price = float(input())\n",
    "    print('${:.2f}'.format(round(price * 0.8, 2)), sep='')"
   ]
  }
 ],
 "metadata": {
  "kernelspec": {
   "display_name": "venv",
   "language": "python",
   "name": "venv"
  },
  "language_info": {
   "codemirror_mode": {
    "name": "ipython",
    "version": 3
   },
   "file_extension": ".py",
   "mimetype": "text/x-python",
   "name": "python",
   "nbconvert_exporter": "python",
   "pygments_lexer": "ipython3",
   "version": "3.11.2"
  }
 },
 "nbformat": 4,
 "nbformat_minor": 2
}
