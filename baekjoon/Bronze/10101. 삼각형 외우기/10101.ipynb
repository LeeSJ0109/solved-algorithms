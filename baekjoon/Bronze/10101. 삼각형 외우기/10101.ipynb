{
 "cells": [
  {
   "cell_type": "markdown",
   "metadata": {},
   "source": [
    "## 문제\n",
    "창영이는 삼각형의 종류를 잘 구분하지 못한다. 따라서 프로그램을 이용해 이를 외우려고 한다.\n",
    "\n",
    "삼각형의 세 각을 입력받은 다음, \n",
    "\n",
    "- 세 각의 크기가 모두 60이면, Equilateral\n",
    "- 세 각의 합이 180이고, 두 각이 같은 경우에는 Isosceles\n",
    "- 세 각의 합이 180이고, 같은 각이 없는 경우에는 Scalene\n",
    "- 세 각의 합이 180이 아닌 경우에는 Error\n",
    "\n",
    "를 출력하는 프로그램을 작성하시오.\n",
    "\n",
    "## 입력\n",
    "총 3개의 줄에 걸쳐 삼각형의 각의 크기가 주어진다. 모든 정수는 0보다 크고, 180보다 작다.\n",
    "\n",
    "## 출력\n",
    "문제의 설명에 따라 Equilateral, Isosceles, Scalene, Error 중 하나를 출력한다.\n"
   ]
  },
  {
   "cell_type": "code",
   "execution_count": 1,
   "metadata": {},
   "outputs": [
    {
     "name": "stdout",
     "output_type": "stream",
     "text": [
      "Scalene\n"
     ]
    }
   ],
   "source": [
    "tri = []\n",
    "\n",
    "for _ in range(3):\n",
    "    tri.append(int(input()))\n",
    "    \n",
    "a, b, c = map(int, tri)\n",
    "if sum(tri) == 180:\n",
    "    if a == b == c == 60:\n",
    "        print(\"Equilateral\")\n",
    "    elif len(set(tri)) == 2:\n",
    "        print(\"Isosceles\")\n",
    "    else:\n",
    "        print(\"Scalene\")\n",
    "else:\n",
    "    print(\"Error\")"
   ]
  }
 ],
 "metadata": {
  "kernelspec": {
   "display_name": "venv",
   "language": "python",
   "name": "venv"
  },
  "language_info": {
   "codemirror_mode": {
    "name": "ipython",
    "version": 3
   },
   "file_extension": ".py",
   "mimetype": "text/x-python",
   "name": "python",
   "nbconvert_exporter": "python",
   "pygments_lexer": "ipython3",
   "version": "3.11.2"
  }
 },
 "nbformat": 4,
 "nbformat_minor": 2
}
