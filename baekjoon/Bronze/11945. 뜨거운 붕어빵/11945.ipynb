{
 "cells": [
  {
   "cell_type": "markdown",
   "metadata": {},
   "source": [
    "## 문제\n",
    "고려대학교에 입학한 새내기 호돌이는 안암역을 지나다가 한 붕어빵 장수를 만났어요.\n",
    "\n",
    "“안녕, 안녕, 안녕하십니까, 아저씨! 붕어빵 두 개 주세요.”\n",
    "\n",
    "“안녕을 세 번 외쳤으니 붕어빵 세 개!”\n",
    "\n",
    "붕어빵 두 개의 값을 내고 세 개를 받은 호돌이는 기분이 좋았어요. 호돌이가 붕어빵 하나를 꺼내어 한 입 물었는데…. 너무 뜨거워서 그만 붕어빵을 떨어뜨리고 말았어요ㅠㅠ\n",
    "\n",
    "붕어빵은 자유 낙하운동을 하면서 땅에 떨어졌는데 신기하게도 좌우가 뒤집힌 모양으로 착지했답니다. 호돌이가 붕어빵을 한 입 물기 전의 모양이 입력으로 주어지면, 땅에 떨어졌을 때에는 어떤 모양일지 출력하세요.\n",
    "\n",
    "## 입력\n",
    "첫째 줄에는 두 개의 정수 N과 M(0≤N,M≤10)이 주어집니다. 둘째 줄부터 N개의 줄에 걸쳐 붕어빵의 모양이 주어집니다. 각 행에는 공백을 나타내는 ‘0‘ 또는 붕어빵을 나타내는 ‘1’이 총 M개 주어집니다. \n",
    "\n",
    "## 출력\n",
    "입력으로 주어진 붕어빵이 좌우로 뒤집힌 모양을 출력하세요.\n"
   ]
  },
  {
   "cell_type": "code",
   "execution_count": 1,
   "metadata": {},
   "outputs": [
    {
     "name": "stdout",
     "output_type": "stream",
     "text": [
      "0000100\n",
      "0101110\n",
      "1111111\n",
      "0101110\n",
      "0000100\n"
     ]
    }
   ],
   "source": [
    "N, M = map(int, input().split())\n",
    "\n",
    "for _ in range(N):\n",
    "    print(input()[::-1])"
   ]
  }
 ],
 "metadata": {
  "kernelspec": {
   "display_name": "venv",
   "language": "python",
   "name": "venv"
  },
  "language_info": {
   "codemirror_mode": {
    "name": "ipython",
    "version": 3
   },
   "file_extension": ".py",
   "mimetype": "text/x-python",
   "name": "python",
   "nbconvert_exporter": "python",
   "pygments_lexer": "ipython3",
   "version": "3.11.2"
  }
 },
 "nbformat": 4,
 "nbformat_minor": 2
}
