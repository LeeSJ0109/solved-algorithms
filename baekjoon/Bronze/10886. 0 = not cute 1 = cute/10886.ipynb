{
 "cells": [
  {
   "cell_type": "markdown",
   "metadata": {},
   "source": [
    "## 문제\n",
    "준희는 자기가 팀에서 귀여움을 담당하고 있다고 생각한다. 하지만 연수가 볼 때 그 의견은 뭔가 좀 잘못된 것 같았다. 그렇기에 설문조사를 하여 준희가 귀여운지 아닌지 알아보기로 했다.\n",
    "\n",
    "## 입력\n",
    "첫 번째 줄에 설문조사를 한 사람의 수 N (1 ≤ N ≤ 101, N은 홀수)가 주어진다.\n",
    "\n",
    "다음 N개의 줄에는 각 줄마다 각 사람이 설문 조사에 어떤 의견을 표명했는지를 나타내는 정수가 주어진다. 0은 준희가 귀엽지 않다고 했다는 뜻이고, 1은 준희가 귀엽다고 했다는 뜻이다.\n",
    "\n",
    "## 출력\n",
    "준희가 귀엽지 않다는 의견이 더 많을 경우 \"Junhee is not cute!\"를 출력하고 귀엽다는 의견이 많을 경우 \"Junhee is cute!\"를 출력하라."
   ]
  },
  {
   "cell_type": "code",
   "execution_count": 4,
   "metadata": {},
   "outputs": [
    {
     "name": "stdout",
     "output_type": "stream",
     "text": [
      "Junhee is not cute!\n"
     ]
    }
   ],
   "source": [
    "cnt0, cnt1 = 0, 0\n",
    "\n",
    "N = int(input())\n",
    "for i in range(N):\n",
    "    if(input() == '1'): cnt1 += 1\n",
    "    else: cnt0 += 1\n",
    "    \n",
    "if cnt0 > cnt1:\n",
    "    print(\"Junhee is not cute!\")\n",
    "else:\n",
    "    print(\"Junhee is cute!\")"
   ]
  }
 ],
 "metadata": {
  "kernelspec": {
   "display_name": "venv",
   "language": "python",
   "name": "venv"
  },
  "language_info": {
   "codemirror_mode": {
    "name": "ipython",
    "version": 3
   },
   "file_extension": ".py",
   "mimetype": "text/x-python",
   "name": "python",
   "nbconvert_exporter": "python",
   "pygments_lexer": "ipython3",
   "version": "3.11.2"
  }
 },
 "nbformat": 4,
 "nbformat_minor": 2
}
