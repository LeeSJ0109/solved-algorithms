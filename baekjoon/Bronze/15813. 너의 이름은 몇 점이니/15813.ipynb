{
 "cells": [
  {
   "cell_type": "markdown",
   "metadata": {},
   "source": [
    "## 문제\n",
    "소윤이는 성필이에게 단단히 화가 났다. 성필이가 자꾸 소윤이의 이름을 놀리는 것이다!\n",
    "\n",
    "극대노한 소윤이는 이름에 대해 많은 검색을 하던 도중 \"이름점수\"라는 것을 발견하게 된다. 이름 점수란, 알파벳 하나하나에 점수가 있고 이름에 들어가는 모든 알파벳 점수를 합한 것이라고 한다. 예를 들어 이름이 **SUNG PIL** 이라면,\n",
    "\n",
    "- A = 1점\n",
    "- B = 2점\n",
    "- C = 3점\n",
    "- ...\n",
    "- Z = 26점\n",
    "\n",
    "인 점수판에 따라 **S(19)+U(21) + N(14) + G(7) + P(16) + I(9) + L(12) = 98점**이다. (즉, 점수는 알파벳 순서이다) \n",
    "\n",
    "소윤이는 **SO YOON**이므로 **S(19) + O(15) + Y(25) + O(15) + O(15) + N(14) = 103**점으로 성필이보다 \"이름점수\"가 높았다! 그 사실을 알아챈 소윤이는 성필이에게 자신이 \"이름점수\"가 더 높다는 것을 전했고 성필이는 아직 충격에서 헤어나오지 못했다고 한다.\n",
    "\n",
    "이제 소윤이는 사람의 이름을 볼 때 마다 \"이름점수\"를 계산해본다. 하지만 너무나 많은 사람을 만나기 때문에 계산하기가 귀찮다! 귀찮아진 소윤이를 위해 \"이름점수\"를 계산하는 프로그램을 만들어 주자.\n",
    "\n",
    "## 입력\n",
    "첫 번째 줄에 이름의 길이가 주어진다. 길이는 100자 이하이다\n",
    "\n",
    "두 번째 줄에 이름이 띄어쓰기 없이 대문자로 주어진다.\n",
    "\n",
    "## 출력\n",
    "주어진 이름에 대한 \"이름점수\"를 출력해주자.\n"
   ]
  },
  {
   "cell_type": "code",
   "execution_count": 4,
   "metadata": {},
   "outputs": [
    {
     "name": "stdout",
     "output_type": "stream",
     "text": [
      "103\n"
     ]
    }
   ],
   "source": [
    "score ={chr(i): i - ord('A') + 1 for i in range(ord('A'), ord('Z') + 1)}\n",
    "\n",
    "N, name = int(input()), input()\n",
    "sum = 0\n",
    "for i in name:\n",
    "    sum += score.get(i)\n",
    "    \n",
    "print(sum)"
   ]
  }
 ],
 "metadata": {
  "kernelspec": {
   "display_name": "venv",
   "language": "python",
   "name": "venv"
  },
  "language_info": {
   "codemirror_mode": {
    "name": "ipython",
    "version": 3
   },
   "file_extension": ".py",
   "mimetype": "text/x-python",
   "name": "python",
   "nbconvert_exporter": "python",
   "pygments_lexer": "ipython3",
   "version": "3.11.2"
  }
 },
 "nbformat": 4,
 "nbformat_minor": 2
}
