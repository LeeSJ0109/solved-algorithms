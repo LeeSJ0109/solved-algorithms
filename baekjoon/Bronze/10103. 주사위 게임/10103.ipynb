{
 "cells": [
  {
   "cell_type": "markdown",
   "metadata": {},
   "source": [
    "## 문제\n",
    "창영이와 상덕이는 게임을 하고 있다.\n",
    "\n",
    "게임을 시작하는 시점에서, 두 사람의 점수는 모두 100점이다.\n",
    "\n",
    "게임은 여섯 면 주사위를 사용하며, 라운드로 진행된다. 매 라운드마다, 각 사람은 주사위를 던진다. 낮은 숫자가 나온 사람은 상대편 주사위에 나온 숫자만큼 점수를 잃게 된다. 두 사람의 주사위가 같은 숫자가 나온 경우에는 아무도 점수를 잃지 않는다.\n",
    "\n",
    "게임이 끝난 이후에 두 사람의 점수를 구하는 프로그램을 작성하시오.\n",
    "\n",
    "## 입력\n",
    "첫째 줄에 라운드의 수 n (1 ≤ n ≤ 15)가 주어진다. 다음 n개 줄에는 두 정수가 주어진다. 첫 번째 정수는 그 라운드에서 창영이의 주사위에 나타난 숫자, 두 번째 정수는 상덕이의 주사위에 나타난 숫자이다. 두 정수는 항상 1보다 크거나 같고, 6보다 작거나 같다.\n",
    "\n",
    "## 출력\n",
    "첫째 줄에 게임이 끝난 이후에 창영이의 점수, 둘째 줄에는 상덕이의 점수를 출력한다.\n"
   ]
  },
  {
   "cell_type": "code",
   "execution_count": 5,
   "metadata": {},
   "outputs": [
    {
     "name": "stdout",
     "output_type": "stream",
     "text": [
      "94\n",
      "91\n"
     ]
    }
   ],
   "source": [
    "n = int(input())\n",
    "score = [100, 100]\n",
    "\n",
    "for _ in range(n):\n",
    "    d0, d1 = map(int, input().split())\n",
    "\n",
    "    if d0 < d1:\n",
    "        score[0] -= d1\n",
    "    elif d0 > d1:\n",
    "        score[1] -= d0\n",
    "    \n",
    "print(*score, sep='\\n')"
   ]
  }
 ],
 "metadata": {
  "kernelspec": {
   "display_name": "venv",
   "language": "python",
   "name": "venv"
  },
  "language_info": {
   "codemirror_mode": {
    "name": "ipython",
    "version": 3
   },
   "file_extension": ".py",
   "mimetype": "text/x-python",
   "name": "python",
   "nbconvert_exporter": "python",
   "pygments_lexer": "ipython3",
   "version": "3.11.2"
  }
 },
 "nbformat": 4,
 "nbformat_minor": 2
}
