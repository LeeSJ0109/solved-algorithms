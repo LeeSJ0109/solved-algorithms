{
 "cells": [
  {
   "cell_type": "markdown",
   "metadata": {},
   "source": [
    "## 문제\n",
    "정수 \n",
    "$N$이 주어질 때, \n",
    "$N$의 일의 자리 숫자를 떼서 제일 앞자리 왼쪽에 이어 붙힌 것을 \n",
    "$N$의 회전이라고 정의하자. 예를 들어, 12345의 회전은 51234가 된다. 3의 회전은 3이 된다. 이렇게 회전을 계속하다 보면 원래 \n",
    "$N$으로 돌아오게 된다. 원래 \n",
    "$N$으로 돌아올 때까지의 \n",
    "$N$을 회전하여 나온 수를 모두 더한 값을 출력하시오.\n",
    "\n",
    "## 입력\n",
    "모든 자리의 숫자가 다른 정수 \n",
    "$N$이 주어진다. 각 자리의 숫자는 1이상이고, \n",
    "$1 \\leq N \\leq 987,654,321$이다.\n",
    "\n",
    "## 출력\n",
    "$N$의 회전 결과들을 모두 더한 값을 출력한다. 단, 결과값을 32비트 정수형으로 처리할 수 없을 수 있음에 유의하라.\n"
   ]
  },
  {
   "cell_type": "code",
   "execution_count": 6,
   "metadata": {},
   "outputs": [
    {
     "name": "stdout",
     "output_type": "stream",
     "text": [
      "166665\n"
     ]
    }
   ],
   "source": [
    "N = input()\n",
    "\n",
    "total = 0\n",
    "for _ in range(len(N)):\n",
    "    N = N[-1] + N[:-1]\n",
    "    total += int(N)\n",
    "    \n",
    "print(total)"
   ]
  }
 ],
 "metadata": {
  "kernelspec": {
   "display_name": "venv",
   "language": "python",
   "name": "venv"
  },
  "language_info": {
   "codemirror_mode": {
    "name": "ipython",
    "version": 3
   },
   "file_extension": ".py",
   "mimetype": "text/x-python",
   "name": "python",
   "nbconvert_exporter": "python",
   "pygments_lexer": "ipython3",
   "version": "3.11.2"
  }
 },
 "nbformat": 4,
 "nbformat_minor": 2
}
