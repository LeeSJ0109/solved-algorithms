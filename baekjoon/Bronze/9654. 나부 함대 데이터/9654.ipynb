{
 "cells": [
  {
   "cell_type": "markdown",
   "metadata": {},
   "source": [
    "## 문제\n",
    "나부 행성의 함대 정보를 출력하는 프로그램을 작성하시오.\n",
    "\n",
    "## 출력\n",
    "나부 행성의 함대의 정보를 아래와 예제 출력과 같은 표로 출력한다.\n",
    "\n",
    "처음 두 열의 너비는 문자 15개, 세 번째 열은 11개, 마지막 열의 너비는 10개이다.\n"
   ]
  },
  {
   "cell_type": "code",
   "execution_count": 1,
   "metadata": {},
   "outputs": [
    {
     "name": "stdout",
     "output_type": "stream",
     "text": [
      "SHIP NAME      CLASS          DEPLOYMENT IN SERVICE\n",
      "N2 Bomber      Heavy Fighter  Limited    21        \n",
      "J-Type 327     Light Combat   Unlimited  1         \n",
      "NX Cruiser     Medium Fighter Limited    18        \n",
      "N1 Starfighter Medium Fighter Unlimited  25        \n",
      "Royal Cruiser  Light Combat   Limited    4         \n"
     ]
    }
   ],
   "source": [
    "data = '''\\\n",
    "SHIP NAME      CLASS          DEPLOYMENT IN SERVICE\n",
    "N2 Bomber      Heavy Fighter  Limited    21        \n",
    "J-Type 327     Light Combat   Unlimited  1         \n",
    "NX Cruiser     Medium Fighter Limited    18        \n",
    "N1 Starfighter Medium Fighter Unlimited  25        \n",
    "Royal Cruiser  Light Combat   Limited    4         \\\n",
    "'''\n",
    "\n",
    "print(data)"
   ]
  }
 ],
 "metadata": {
  "kernelspec": {
   "display_name": "venv",
   "language": "python",
   "name": "venv"
  },
  "language_info": {
   "codemirror_mode": {
    "name": "ipython",
    "version": 3
   },
   "file_extension": ".py",
   "mimetype": "text/x-python",
   "name": "python",
   "nbconvert_exporter": "python",
   "pygments_lexer": "ipython3",
   "version": "3.11.2"
  }
 },
 "nbformat": 4,
 "nbformat_minor": 2
}
