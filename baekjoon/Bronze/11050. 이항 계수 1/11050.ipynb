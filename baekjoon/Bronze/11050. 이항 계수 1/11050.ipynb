{
 "cells": [
  {
   "cell_type": "markdown",
   "metadata": {},
   "source": [
    "## 문제\n",
    "자연수 \n",
    "\\(N\\)과 정수 \n",
    "\\(K\\)가 주어졌을 때 이항 계수 \n",
    "$\\begin{pmatrix}N\\\\K\\\\ \\end{pmatrix}$를 구하는 프로그램을 작성하시오.\n",
    "\n",
    "## 입력\n",
    "첫째 줄에 \n",
    "\\(N\\)과 \n",
    "\\(K\\)가 주어진다. (1 ≤ \n",
    "\\(N\\) ≤ 10, 0 ≤ \n",
    "\\(K\\) ≤ \n",
    "\\(N\\))\n",
    "\n",
    "## 출력\n",
    "$\\begin{pmatrix}N\\\\K\\\\ \\end{pmatrix}$를 출력한다."
   ]
  },
  {
   "cell_type": "code",
   "execution_count": 23,
   "metadata": {},
   "outputs": [
    {
     "name": "stdout",
     "output_type": "stream",
     "text": [
      "10\n"
     ]
    }
   ],
   "source": [
    "N, K = map(int, input().split())\n",
    "result = N\n",
    "\n",
    "if K == 0:\n",
    "    result = 1\n",
    "    \n",
    "for i in range(K - 1):\n",
    "    result *= (N - 1)\n",
    "    N -= 1\n",
    "\n",
    "while K > 0:\n",
    "    result //= K\n",
    "    K -= 1\n",
    "    \n",
    "print(result)"
   ]
  }
 ],
 "metadata": {
  "kernelspec": {
   "display_name": "venv",
   "language": "python",
   "name": "venv"
  },
  "language_info": {
   "codemirror_mode": {
    "name": "ipython",
    "version": 3
   },
   "file_extension": ".py",
   "mimetype": "text/x-python",
   "name": "python",
   "nbconvert_exporter": "python",
   "pygments_lexer": "ipython3",
   "version": "3.11.2"
  }
 },
 "nbformat": 4,
 "nbformat_minor": 2
}
