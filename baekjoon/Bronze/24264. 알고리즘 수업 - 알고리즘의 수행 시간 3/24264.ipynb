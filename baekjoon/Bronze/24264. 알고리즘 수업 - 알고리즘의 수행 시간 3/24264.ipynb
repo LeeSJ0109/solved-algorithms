{
 "cells": [
  {
   "cell_type": "markdown",
   "metadata": {},
   "source": [
    "## 문제\n",
    "오늘도 서준이는 알고리즘의 수행시간 수업 조교를 하고 있다. 아빠가 수업한 내용을 학생들이 잘 이해했는지 문제를 통해서 확인해보자.\n",
    "\n",
    "입력의 크기 n이 주어지면 MenOfPassion 알고리즘 수행 시간을 예제 출력과 같은 방식으로 출력해보자.\n",
    "\n",
    "MenOfPassion 알고리즘은 다음과 같다.\n",
    "\n",
    "    MenOfPassion(A[], n) {\n",
    "        sum <- 0;\n",
    "        for i <- 1 to n\n",
    "            for j <- 1 to n\n",
    "                sum <- sum + A[i] × A[j]; # 코드1\n",
    "        return sum;\n",
    "    }\n",
    "\n",
    "## 입력\n",
    "첫째 줄에 입력의 크기 n(1 ≤ n ≤ 500,000)이 주어진다.\n",
    "\n",
    "## 출력\n",
    "첫째 줄에 코드1 의 수행 횟수를 출력한다.\n",
    "\n",
    "둘째 줄에 코드1의 수행 횟수를 다항식으로 나타내었을 때, 최고차항의 차수를 출력한다. 단, 다항식으로 나타낼 수 없거나 최고차항의 차수가 3보다 크면 4를 출력한다.\n"
   ]
  },
  {
   "cell_type": "code",
   "execution_count": 1,
   "metadata": {},
   "outputs": [
    {
     "name": "stdout",
     "output_type": "stream",
     "text": [
      "49\n",
      "2\n"
     ]
    }
   ],
   "source": [
    "N = int(input())\n",
    "print(N*N, 2, sep='\\n')"
   ]
  }
 ],
 "metadata": {
  "kernelspec": {
   "display_name": "venv",
   "language": "python",
   "name": "venv"
  },
  "language_info": {
   "codemirror_mode": {
    "name": "ipython",
    "version": 3
   },
   "file_extension": ".py",
   "mimetype": "text/x-python",
   "name": "python",
   "nbconvert_exporter": "python",
   "pygments_lexer": "ipython3",
   "version": "3.11.2"
  }
 },
 "nbformat": 4,
 "nbformat_minor": 2
}
