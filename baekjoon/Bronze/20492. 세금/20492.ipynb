{
 "cells": [
  {
   "cell_type": "markdown",
   "metadata": {},
   "source": [
    "## 문제\n",
    "선린인터넷고등학교의 한 학생은 프로그래밍 대회에 참가하여 거액의 상금을 수상하는 영광을 누리게 되었다. 하지만, 이 학생이 상금 금액의 전부를 수령하게 되는 것은 아니다. 상금의 일부를 제세공과금으로 납부하고, 나머지 금액을 수령하게 된다.\n",
    "\n",
    "일반적으로, 대회에서 상금을 받으면 전체 금액의 22%를 제세공과금으로 국가에 납부하고, 나머지 금액을 수령하게 된다. 하지만, 상금의 80%를 필요 경비로 인정하게 되면, 나머지 20% 중 22%만을 제세공과금으로 납부해도 된다.\n",
    "\n",
    "대회 상금의 금액이 주어질 때, 다음 두 경우 각각에 대해 이 학생이 실제로 수령하는 금액을 구해보자.\n",
    "\n",
    "1. 전체 상금의 22%를 제세공과금으로 납부하는 경우\n",
    "2. 상금의 80%를 필요 경비로 인정받고, 나머지 금액 중 22%만을 제세공과금으로 납부하는 경우\n",
    "\n",
    "## 입력\n",
    "상금의 금액을 나타내는 하나의 정수 \n",
    "$N$이 주어진다.\n",
    "\n",
    "## 출력\n",
    "1번 경우에 대한 답과 2번 경우에 대한 답을 사이에 공백을 두고 출력한다.\n",
    "\n",
    "## 제한\n",
    " \n",
    "$1\\,000 \\le N \\le 10\\,000\\,000$ \n",
    " \n",
    "$N$은 \n",
    "$1\\,000$의 배수"
   ]
  },
  {
   "cell_type": "code",
   "execution_count": 6,
   "metadata": {},
   "outputs": [
    {
     "name": "stdout",
     "output_type": "stream",
     "text": [
      "780\n",
      "956\n"
     ]
    }
   ],
   "source": [
    "N = int(input())\n",
    "\n",
    "print(int(N * 0.78))\n",
    "print(int(N * 0.956))"
   ]
  }
 ],
 "metadata": {
  "kernelspec": {
   "display_name": "venv",
   "language": "python",
   "name": "venv"
  },
  "language_info": {
   "codemirror_mode": {
    "name": "ipython",
    "version": 3
   },
   "file_extension": ".py",
   "mimetype": "text/x-python",
   "name": "python",
   "nbconvert_exporter": "python",
   "pygments_lexer": "ipython3",
   "version": "3.11.2"
  }
 },
 "nbformat": 4,
 "nbformat_minor": 2
}
