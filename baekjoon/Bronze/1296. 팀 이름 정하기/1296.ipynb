{
 "cells": [
  {
   "cell_type": "markdown",
   "metadata": {},
   "source": [
    "## 문제\n",
    "연두는 프로그래밍 대회에 나갈 팀 이름을 정하려고 한다. 미신을 믿는 연두는 이환이에게 공식을 하나 받아왔고, 이 공식을 이용해 우승할 확률이 가장 높은 팀 이름을 찾으려고 한다.\n",
    "\n",
    "이환이가 만든 공식은 사용하려면 먼저 다음 4가지 변수의 값을 계산해야 한다.\n",
    "\n",
    "- L = 연두의 이름과 팀 이름에서 등장하는 L의 개수\n",
    "- O = 연두의 이름과 팀 이름에서 등장하는 O의 개수\n",
    "- V = 연두의 이름과 팀 이름에서 등장하는 V의 개수\n",
    "- E = 연두의 이름과 팀 이름에서 등장하는 E의 개수\n",
    "\n",
    "그 다음, 위에서 구한 변수를 다음 식에 입력하면 팀 이름의 우승할 확률을 구할 수 있다.\n",
    "\n",
    "((L+O) × (L+V) × (L+E) × (O+V) × (O+E) × (V+E)) mod 100\n",
    "\n",
    "연두의 영어 이름과 팀 이름 후보 N개가 주어졌을 때, 우승할 확률이 가장 높은 팀 이름을 구해보자. 확률이 가장 높은 팀이 여러가지인 경우 사전 순으로 가장 앞서는 팀 이름이 우승할 확률이 가장 높은 것이다.\n",
    "\n",
    "## 입력\n",
    "첫째 줄에 연두의 영어 이름이 주어진다. 둘째 줄에는 팀 이름 후보의 개수 N이 주어진다. 셋째 줄부터 N개의 줄에 팀 이름이 한 줄에 하나씩 주어진다.\n",
    "\n",
    "연두의 영어 이름과 팀 이름은 길이는 1보다 크거나 같고, 20보다 작거나 같으며, 알파벳 대문자로만 이루어져 있다. N은 50보다 작거나 같은 자연수이다.\n",
    "\n",
    "## 출력\n",
    "첫째 줄에 우승할 확률이 가장 높은 팀 이름을 출력한다."
   ]
  },
  {
   "cell_type": "code",
   "execution_count": 3,
   "metadata": {},
   "outputs": [
    {
     "name": "stdout",
     "output_type": "stream",
     "text": [
      "INDY\n"
     ]
    }
   ],
   "source": [
    "name = input()\n",
    "\n",
    "N = int(input())\n",
    "team = sorted([input() for i in range(N)])\n",
    "high = ['', -1]\n",
    "\n",
    "for t in team:\n",
    "    L = t.count('L') + name.count('L')\n",
    "    O = t.count('O') + name.count('O')\n",
    "    V = t.count('V') + name.count('V')\n",
    "    E = t.count('E') + name.count('E')\n",
    "    \n",
    "    score = ((L + O) * (L + V) * (L + E) * (O + V) * (O + E) * (V + E)) % 100\n",
    "    if high[1] < score:\n",
    "        high = [t, score]\n",
    "        \n",
    "print(high[0])"
   ]
  }
 ],
 "metadata": {
  "kernelspec": {
   "display_name": "venv",
   "language": "python",
   "name": "venv"
  },
  "language_info": {
   "codemirror_mode": {
    "name": "ipython",
    "version": 3
   },
   "file_extension": ".py",
   "mimetype": "text/x-python",
   "name": "python",
   "nbconvert_exporter": "python",
   "pygments_lexer": "ipython3",
   "version": "3.11.2"
  }
 },
 "nbformat": 4,
 "nbformat_minor": 2
}
