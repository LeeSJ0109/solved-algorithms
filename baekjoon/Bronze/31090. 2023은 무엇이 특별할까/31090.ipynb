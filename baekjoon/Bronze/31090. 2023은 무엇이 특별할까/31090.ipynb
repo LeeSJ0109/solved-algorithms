{
 "cells": [
  {
   "cell_type": "markdown",
   "metadata": {},
   "source": [
    "## 문제\n",
    "백준 온라인 저지의 송년대회 Good Bye, BOJ 2023!의 개최일은 2023년 12월 31일이다. 키파는 대회가 개최된다는 사실이 기뻐 2023과 2024를 뚫어져라 보다가 무언가 특별하다는 사실을 깨달았다.\n",
    "\n",
    "그렇다. 내년의 연도인 2024가 올해 연도의 끝 두 자리인 23으로 나누어 떨어진다! 다음에도 이런 연도가 오려면 6년 뒤인 2029/2030년이 되어야 한다.\n",
    "\n",
    "양의 정수 \n",
    "$N$이 주어진다. \n",
    "$N$년과 \n",
    "$N+1$년이 이러한 조건을 만족하는 관계인지 판별하는 프로그램을 작성하라.\n",
    "\n",
    "## 입력\n",
    "첫째 줄에 테스트 케이스의 개수 \n",
    "$T$가 주어진다.\n",
    "\n",
    "이후 \n",
    "$T$개의 줄에 걸쳐 테스트 케이스가 한 줄에 하나씩 주어진다. 각 테스트 케이스는 한 줄로 구성되어 있으며, 각각 한 개의 양의 정수 \n",
    "$N$이 주어진다.\n",
    "\n",
    "## 출력\n",
    "각 테스트 케이스에 대해, \n",
    "$N+1$이 \n",
    "$N$의 끝 두 자리로 나누어 떨어진다면 Good을, 그렇지 않다면 Bye를 한 줄에 하나씩 차례로 출력하여라.\n",
    "\n",
    "## 제한\n",
    " \n",
    "- $1\\le T\\le 8\\, 910$ \n",
    " \n",
    "-  $1\\, 000\\le N\\le 9\\, 999$ \n",
    " \n",
    "- $N$은 100의 배수가 아니다.\n"
   ]
  },
  {
   "cell_type": "code",
   "execution_count": 2,
   "metadata": {},
   "outputs": [
    {
     "name": "stdout",
     "output_type": "stream",
     "text": [
      "Good\n",
      "Bye\n",
      "Good\n"
     ]
    }
   ],
   "source": [
    "T = int(input())\n",
    "\n",
    "for _ in range(T):\n",
    "    N = input()\n",
    "    if (int(N) + 1) % int(N[2:]):\n",
    "        print(\"Bye\")\n",
    "    else:\n",
    "        print(\"Good\")"
   ]
  }
 ],
 "metadata": {
  "kernelspec": {
   "display_name": "venv",
   "language": "python",
   "name": "venv"
  },
  "language_info": {
   "codemirror_mode": {
    "name": "ipython",
    "version": 3
   },
   "file_extension": ".py",
   "mimetype": "text/x-python",
   "name": "python",
   "nbconvert_exporter": "python",
   "pygments_lexer": "ipython3",
   "version": "3.11.2"
  }
 },
 "nbformat": 4,
 "nbformat_minor": 2
}
