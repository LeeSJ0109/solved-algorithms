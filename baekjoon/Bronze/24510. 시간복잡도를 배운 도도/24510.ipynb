{
 "cells": [
  {
   "cell_type": "markdown",
   "metadata": {},
   "source": [
    "## 문제\n",
    "도도는 이번 신촌캠프에서 시간복잡도의 개념에 대해 배웠다. 하지만 듣다가 졸려서 자버린 결과 오개념을 가져 버렸는데, 바로 반복문의 개수로만 시간복잡도를 판단한다는 것이다. \n",
    "\n",
    "시간복잡도를 판단하기 위해 도도는 같은 줄에 몇 개의 반복문이 있는지 궁금해졌다. 도도가 반복문으로 생각하는 코드는 <span style=\"color:red\">for</span>, <span style=\"color:red\">while</span> 이다. \n",
    "\n",
    "도도를 위해 같은 줄에 있는 반복문의 최대 개수를 구하는 프로그램을 작성해보자.\n",
    "\n",
    "## 입력\n",
    "첫째 줄에 코드의 줄 개수 \n",
    "$C (1 \\leq C \\leq 100)$가 주어진다.\n",
    "\n",
    "둘째 줄부터 \n",
    "$C$개의 줄에 걸쳐 코드가 입력된다. 입력으로 주어지는 코드는 모두 알파벳 소문자이다. 각 줄은 \n",
    "$10\\,000$자를 넘지 않는다.\n",
    "\n",
    "## 출력\n",
    "첫째 줄에 같은 줄에 있는 반복문의 최대 개수를 출력한다.\n"
   ]
  },
  {
   "cell_type": "code",
   "execution_count": 3,
   "metadata": {},
   "outputs": [
    {
     "name": "stdout",
     "output_type": "stream",
     "text": [
      "4\n"
     ]
    }
   ],
   "source": [
    "C = int(input())\n",
    "cnt = 0\n",
    "for _ in range(C):\n",
    "    code = input()\n",
    "    cnt = max(cnt, code.count('for') + code.count('while'))\n",
    "    \n",
    "print(cnt)"
   ]
  }
 ],
 "metadata": {
  "kernelspec": {
   "display_name": "venv",
   "language": "python",
   "name": "venv"
  },
  "language_info": {
   "codemirror_mode": {
    "name": "ipython",
    "version": 3
   },
   "file_extension": ".py",
   "mimetype": "text/x-python",
   "name": "python",
   "nbconvert_exporter": "python",
   "pygments_lexer": "ipython3",
   "version": "3.11.2"
  }
 },
 "nbformat": 4,
 "nbformat_minor": 2
}
