{
 "cells": [
  {
   "cell_type": "markdown",
   "metadata": {},
   "source": [
    "## 문제\n",
    "부산사이버대학교 학생 성택이는 엄마의 의뢰를 받아 주어진 문자열이 현관문 비밀번호에 사용 가능한지 알아내야 한다. 성택이는 공부해야 하므로 우리가 도와주자!\n",
    "\n",
    "사용할 수 있는 비밀번호의 규칙은 다음과 같다.\n",
    "\n",
    "1. 비밀번호는 6자리 이상 9자리 이하여야 한다.\n",
    "\n",
    "예를 들어, 123124는 올바른 비밀번호이고, 1202727161은 잘못된 비밀번호이다. 문자열이 주어졌을 때 현관문 비밀번호로 사용할 수 있는지 판단하자.\n",
    "\n",
    "## 입력\n",
    "첫째 줄에 문자열의 총개수 \n",
    "$N$이 주어진다.\n",
    "\n",
    "둘째 줄부터 \n",
    "$N$개의 줄에 걸쳐 숫자, 영어 대소문자로만 구성된 문자열이 주어진다.\n",
    "\n",
    "## 출력\n",
    "줄마다 사용할 수 있는 비밀번호면 yes, 그렇지 않으면 no를 출력한다.\n",
    "\n",
    "## 제한\n",
    " \n",
    "- $1\\leq N \\leq 1\\,000$ \n",
    "- 문자열의 길이는 1자리 이상 20자리 이하이다.\n"
   ]
  },
  {
   "cell_type": "code",
   "execution_count": 1,
   "metadata": {},
   "outputs": [
    {
     "name": "stdout",
     "output_type": "stream",
     "text": [
      "yes\n",
      "no\n",
      "no\n"
     ]
    }
   ],
   "source": [
    "N = int(input())\n",
    "\n",
    "for _ in range(N):\n",
    "    password = input()\n",
    "    if 6 <= len(password) <= 9:\n",
    "        print(\"yes\")\n",
    "    else:\n",
    "        print(\"no\")"
   ]
  }
 ],
 "metadata": {
  "kernelspec": {
   "display_name": "venv",
   "language": "python",
   "name": "venv"
  },
  "language_info": {
   "codemirror_mode": {
    "name": "ipython",
    "version": 3
   },
   "file_extension": ".py",
   "mimetype": "text/x-python",
   "name": "python",
   "nbconvert_exporter": "python",
   "pygments_lexer": "ipython3",
   "version": "3.11.2"
  }
 },
 "nbformat": 4,
 "nbformat_minor": 2
}
