{
 "cells": [
  {
   "cell_type": "markdown",
   "metadata": {},
   "source": [
    "## 문제\n",
    "앨버타의 자동차 번호판은 ABC-0123 (세 글자, 네 숫자)와 같이 두 부분으로 나누어져 있다.\n",
    "\n",
    "좋은 번호판은 첫 번째 부분의 가치와 두 번째 부분의 가치의 차이가 100을 넘지 않는 번호판이다.\n",
    "\n",
    "글자로 이루어진 첫 번째 부분의 가치는 글자를 26진법 수처럼 계산한다. (각 자리가 [A..Z]) 예를 들어, \"ABC\"의 가치는 28 (0×262 + 1×261 + 2×260)이 된다. \"ABC-0123\"은  |28 - 123| ≤ 100 이기 때문에, 좋은 번호판이다.\n",
    "\n",
    "자동차 번호판이 주어졌을 때, 좋은 번호판인지 아닌지를 구하는 프로그램을 작성하시오.\n",
    "\n",
    "## 입력\n",
    "첫째 줄에 번호판의 수 N (1 ≤ N ≤ 100)이 주어진다. 다음 N개 줄에는 자동차 번호판이 LLL-DDDD 형식으로 주어진다.\n",
    "\n",
    "## 출력\n",
    "각각의 자동차 번호판에 대해서, 좋은 번호판이면 \"nice\"를, 아니면 \"not nice\"를 출력한다.\n"
   ]
  },
  {
   "cell_type": "code",
   "execution_count": 10,
   "metadata": {},
   "outputs": [
    {
     "name": "stdout",
     "output_type": "stream",
     "text": [
      "nice\n",
      "not nice\n"
     ]
    }
   ],
   "source": [
    "N = int(input())\n",
    "\n",
    "for _ in range(N):\n",
    "    L, D = input().split('-')\n",
    "    A, B = 0, int(D)\n",
    "    \n",
    "    for i in range(len(L)):\n",
    "        A += (ord(L[::-1][i]) - 65) * 26 ** i\n",
    "        \n",
    "    if abs(A - B) <= 100:\n",
    "        print(\"nice\")\n",
    "    else:\n",
    "        print(\"not nice\")"
   ]
  }
 ],
 "metadata": {
  "kernelspec": {
   "display_name": "venv",
   "language": "python",
   "name": "venv"
  },
  "language_info": {
   "codemirror_mode": {
    "name": "ipython",
    "version": 3
   },
   "file_extension": ".py",
   "mimetype": "text/x-python",
   "name": "python",
   "nbconvert_exporter": "python",
   "pygments_lexer": "ipython3",
   "version": "3.11.2"
  }
 },
 "nbformat": 4,
 "nbformat_minor": 2
}
