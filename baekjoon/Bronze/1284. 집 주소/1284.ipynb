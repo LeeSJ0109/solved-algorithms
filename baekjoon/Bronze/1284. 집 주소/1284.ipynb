{
 "cells": [
  {
   "cell_type": "markdown",
   "metadata": {},
   "source": [
    "## 문제\n",
    "재석이는 대문에 붙이는 (주소를 나타내는) 호수판 제작업체의 직원이다. 고객에게 전달할 호수판은 숫자와 숫자 사이 그리고 왼쪽 오른쪽으로 적당히 여백이 들어가 줘야하고 숫자마다 차지하는 간격이 조금씩 상이하다. 다행이도 규칙은 매우 간단하다. \n",
    "\n",
    "1. 각 숫자 사이에는 1cm의 여백이 들어가야한다.\n",
    "2. 1은 2cm의 너비를 차지해야한다. 0은 4cm의 너비를 차지해야한다. 나머지 숫자는 모두 3cm의 너비를 차지한다.\n",
    "3. 호수판의 경계와 숫자 사이에는 1cm의 여백이 들어가야한다.\n",
    "\n",
    "<img src=\"../../images/1284.jpg\" width=\"20%\">\n",
    "\n",
    "예를 들어 위의 120 같은 경우,  각 숫자 사이에 여백이 1cm 씩 2개 들어간다. 1은 2cm, 2는 3cm, 0은 4cm를 차지한다. 오른쪽, 왼쪽 경계에서 각각 여백이 1cm씩 차지한다. 따라서 총 2 + 2 + 3 + 4 + 1 + 1 = 13(cm) 가 된다.\n",
    "\n",
    "재석이는 고객에게 전달해야할 호수판의 너비가 얼마나 되는지 궁금해졌다. 재석이를 도와주자!\n",
    "\n",
    "## 입력\n",
    "호수판에 들어갈 숫자 N의 범위는 1 ≤ N ≤ 9999 이다.\n",
    "\n",
    "입력은 마지막에 0이 들어오기 전까지 계속해서 줄 단위로 주어진다.\n",
    "\n",
    "또한, 마지막의 0은 처리하지 않는다.\n",
    "\n",
    "## 출력\n",
    "각 입력마다 얼마만큼 너비를 차지하는지 정수로 출력하면 된다.\n",
    "\n",
    "각 출력은 줄바꿈으로 구분되어야한다.\n"
   ]
  },
  {
   "cell_type": "code",
   "execution_count": 1,
   "metadata": {},
   "outputs": [
    {
     "name": "stdout",
     "output_type": "stream",
     "text": [
      "13\n",
      "15\n",
      "14\n"
     ]
    }
   ],
   "source": [
    "width = {1: 2, 0: 4}\n",
    "while True:\n",
    "    N = int(input())\n",
    "\n",
    "    if N == 0:\n",
    "        break\n",
    "\n",
    "    num = [width.get(int(i), 3) for i in str(N)]\n",
    "    print(sum(num) + len(num) + 1)"
   ]
  }
 ],
 "metadata": {
  "kernelspec": {
   "display_name": "venv",
   "language": "python",
   "name": "venv"
  },
  "language_info": {
   "codemirror_mode": {
    "name": "ipython",
    "version": 3
   },
   "file_extension": ".py",
   "mimetype": "text/x-python",
   "name": "python",
   "nbconvert_exporter": "python",
   "pygments_lexer": "ipython3",
   "version": "3.11.2"
  }
 },
 "nbformat": 4,
 "nbformat_minor": 2
}
