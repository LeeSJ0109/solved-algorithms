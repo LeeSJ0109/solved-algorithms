{
 "cells": [
  {
   "cell_type": "markdown",
   "metadata": {},
   "source": [
    "## 문제\n",
    "영선이는 길이가 a, b, c인 세 막대를 가지고 있고, 각 막대의 길이를 마음대로 줄일 수 있다.\n",
    "\n",
    "영선이는 세 막대를 이용해서 아래 조건을 만족하는 삼각형을 만들려고 한다.\n",
    "\n",
    "- 각 막대의 길이는 양의 정수이다\n",
    "- 세 막대를 이용해서 넓이가 양수인 삼각형을 만들 수 있어야 한다.\n",
    "- 삼각형의 둘레를 최대로 해야 한다.\n",
    "\n",
    "a, b, c가 주어졌을 때, 만들 수 있는 가장 큰 둘레를 구하는 프로그램을 작성하시오. \n",
    "\n",
    "## 입력\n",
    "첫째 줄에 a, b, c (1 ≤ a, b, c ≤ 100)가 주어진다.\n",
    "\n",
    "## 출력\n",
    "첫째 줄에 만들 수 있는 가장 큰 삼각형의 둘레를 출력한다.\n"
   ]
  },
  {
   "cell_type": "code",
   "execution_count": 8,
   "metadata": {},
   "outputs": [
    {
     "name": "stdout",
     "output_type": "stream",
     "text": [
      "113\n"
     ]
    }
   ],
   "source": [
    "a, b, c = map(int, sorted(list(map(int, input().split()))))\n",
    "\n",
    "if c < (a + b):\n",
    "    print(a + b + c)\n",
    "else:\n",
    "    print((a + b) * 2 - 1)"
   ]
  }
 ],
 "metadata": {
  "kernelspec": {
   "display_name": "venv",
   "language": "python",
   "name": "venv"
  },
  "language_info": {
   "codemirror_mode": {
    "name": "ipython",
    "version": 3
   },
   "file_extension": ".py",
   "mimetype": "text/x-python",
   "name": "python",
   "nbconvert_exporter": "python",
   "pygments_lexer": "ipython3",
   "version": "3.11.2"
  }
 },
 "nbformat": 4,
 "nbformat_minor": 2
}
