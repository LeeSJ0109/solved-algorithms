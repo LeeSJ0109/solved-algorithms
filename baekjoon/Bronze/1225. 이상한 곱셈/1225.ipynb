{
 "cells": [
  {
   "cell_type": "markdown",
   "metadata": {},
   "source": [
    "## 문제\n",
    "A×B를 계산하다 지겨워진 형택이는 A×B를 새로운 방법으로 정의하려고 한다.\n",
    "\n",
    "A에서 한 자리를 뽑고 × B에서 임의로 한 자리를 뽑아 곱한다.\n",
    "\n",
    "의 가능한 모든 조합 (A가 n자리, B가 m자리 수라면 총 가능한 조합은 n×m개)을 더한 수로 정의하려고 한다.\n",
    "\n",
    "예를 들어 121×34는\n",
    "\n",
    "1×3 + 1×4 + 2×3 + 2×4 + 1×3 + 1×4 = 28\n",
    "\n",
    "이 된다. 이러한 형택이의 곱셈 결과를 구하는 프로그램을 작성하시오.\n",
    "\n",
    "## 입력\n",
    "첫째 줄에 A와 B가 주어진다. 주어지는 두 수는 모두 10,000자리를 넘지 않는 음이 아닌 정수이다. 수가 0인 경우에는 0만 주어지며, 그 외의 경우 수는 0으로 시작하지 않는다.\n",
    "\n",
    "## 출력\n",
    "첫째 줄에 형택이의 곱셈 결과를 출력한다.\n"
   ]
  },
  {
   "cell_type": "code",
   "execution_count": 1,
   "metadata": {},
   "outputs": [
    {
     "name": "stdout",
     "output_type": "stream",
     "text": [
      "54\n"
     ]
    }
   ],
   "source": [
    "A, B = map(int, input().split())\n",
    "A = sum([int(i) for i in str(A)])\n",
    "B = sum([int(i) for i in str(B)])\n",
    "        \n",
    "print(A * B)"
   ]
  }
 ],
 "metadata": {
  "kernelspec": {
   "display_name": "venv",
   "language": "python",
   "name": "venv"
  },
  "language_info": {
   "codemirror_mode": {
    "name": "ipython",
    "version": 3
   },
   "file_extension": ".py",
   "mimetype": "text/x-python",
   "name": "python",
   "nbconvert_exporter": "python",
   "pygments_lexer": "ipython3",
   "version": "3.11.2"
  }
 },
 "nbformat": 4,
 "nbformat_minor": 2
}
