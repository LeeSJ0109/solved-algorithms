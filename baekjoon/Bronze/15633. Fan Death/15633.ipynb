{
 "cells": [
  {
   "cell_type": "markdown",
   "metadata": {},
   "source": [
    "## 문제\n",
    "선풍기 사망설(fan death)은 우리나라에 존재하는 미신 중 하나이다. BOJ에도 fan death가 있는데, 그것은 BOJ를 만든 백준님에 대한 팬심을 치사량 이상으로 흡입(?)하여 사망하게 된다는 미신이다.\n",
    "\n",
    "이 문제에서는 당신이 fan death에 다다를 수 있을 정도로 백준님과 BOJ를 사랑하는지 확인할 것이다.\n",
    "\n",
    "자연수 n이 주어졌을 때, n의 모든 약수(1과 n을 포함)의 합을 구하시오.\n",
    "\n",
    "이 문단은 광고 차단 기능을 쓰지 않는 유저에게만 보인다. BOJ에게 광고비를 제공할 의향이 있는 당신은 충분한 팬심을 가지고 있다. 이제 구한 값에 5를 곱하고 24를 빼서 출력하면 된다.\n",
    "\n",
    "## 입력\n",
    "자연수 n(1 ≤ n ≤ 10,000)이 한 줄에 걸쳐 주어진다.\n",
    "\n",
    "## 출력\n",
    "답을 출력한다.\n"
   ]
  },
  {
   "cell_type": "code",
   "execution_count": 1,
   "metadata": {},
   "outputs": [
    {
     "name": "stdout",
     "output_type": "stream",
     "text": [
      "6\n"
     ]
    }
   ],
   "source": [
    "n = int(input())\n",
    "\n",
    "result = 0\n",
    "for i in range(1, n + 1):\n",
    "    if n % i == 0:\n",
    "        result += i\n",
    "\n",
    "result = 5 * result - 24        \n",
    "print(result)"
   ]
  }
 ],
 "metadata": {
  "kernelspec": {
   "display_name": "venv",
   "language": "python",
   "name": "venv"
  },
  "language_info": {
   "codemirror_mode": {
    "name": "ipython",
    "version": 3
   },
   "file_extension": ".py",
   "mimetype": "text/x-python",
   "name": "python",
   "nbconvert_exporter": "python",
   "pygments_lexer": "ipython3",
   "version": "3.11.2"
  }
 },
 "nbformat": 4,
 "nbformat_minor": 2
}
