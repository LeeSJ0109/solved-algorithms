{
 "cells": [
  {
   "cell_type": "markdown",
   "metadata": {},
   "source": [
    "## 문제\n",
    "얼마전, Day Of Mourning의 새 앨범이 나왔고, 강토는 이 앨범을 들으려고 한다.\n",
    "\n",
    "이 앨범에는 총 노래가 N곡이 들어있고, 모든 노래의 길이는 L초이다. 그리고, 노래와 노래 사이에는 5초 동안 아무 노래도 들리지 않는 조용한 구간이 있다.\n",
    "\n",
    "강토가 앨범의 첫 곡을 듣는 순간이 0초이다. 그리고 그 0초부터 강토의 전화벨이 울리기 시작한다. 전화벨은 D초에 1번씩 울리며, 한 번 울릴 때 1초동안 울린다.\n",
    "\n",
    "강토는 락 스피릿을 진심으로 느끼기 위해서 볼륨을 매우 크게 하고 듣기 때문에, 노래가 나오는 중에는 전화벨 소리를 듣지 못한다.\n",
    "\n",
    "만약, 전화벨이 노래가 시작되는 순간 울린다면, 강토는 전화를 받지 못한다. 또, 전화벨이 노래가 끝나는 순간 같이 끝난다면, 강토는 전화를 받을 수 없다.\n",
    "\n",
    "강토는 앨범을 1번만 듣는다. 즉, 모든 앨범 수록곡을 다 듣고 난 후에는 전화벨을 들을 수 있다.\n",
    "\n",
    "강토가 전화벨을 들을 수 있는 가장 빠른 시간을 구하는 프로그램을 작성하시오.\n",
    "\n",
    "## 입력\n",
    "첫째 줄에 세 정수 N, L, D가 공백을 사이에 두고 주어진다.\n",
    "\n",
    "## 출력\n",
    "첫째 줄에 강토가 전화벨을 들을 수 있는 가장 빠른 시간을 출력한다.\n",
    "\n",
    "## 제한\n",
    "- 1 ≤ N ≤ 20\n",
    "- 1 ≤ L ≤ 180\n",
    "- 1 ≤ D ≤ 20\n"
   ]
  },
  {
   "cell_type": "code",
   "execution_count": 20,
   "metadata": {},
   "outputs": [
    {
     "name": "stdout",
     "output_type": "stream",
     "text": [
      "40\n"
     ]
    }
   ],
   "source": [
    "N, L, D = map(int, input().split())\n",
    "album = (N - 1) * ([0] * L + [1] * 5) + L * [0]\n",
    "bell = 0\n",
    "\n",
    "for i in range(0, len(album), D):\n",
    "    if album[i] and i % D == 0:\n",
    "        bell = i\n",
    "        break\n",
    "    \n",
    "if bell == 0:\n",
    "    bell = i + D\n",
    "        \n",
    "print(bell)"
   ]
  }
 ],
 "metadata": {
  "kernelspec": {
   "display_name": "venv",
   "language": "python",
   "name": "venv"
  },
  "language_info": {
   "codemirror_mode": {
    "name": "ipython",
    "version": 3
   },
   "file_extension": ".py",
   "mimetype": "text/x-python",
   "name": "python",
   "nbconvert_exporter": "python",
   "pygments_lexer": "ipython3",
   "version": "3.11.2"
  }
 },
 "nbformat": 4,
 "nbformat_minor": 2
}
