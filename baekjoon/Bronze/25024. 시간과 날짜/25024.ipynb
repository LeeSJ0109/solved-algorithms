{
 "cells": [
  {
   "cell_type": "markdown",
   "metadata": {},
   "source": [
    "## 문제\n",
    "어느 날 시계를 본 경근이는 시간이 8시 14분인 것을 보고 놀랐다. 왜냐하면 그의 생일은 8월 14일이기 때문이다. 그리고 이 경험을 바탕으로 다음과 같은 문제를 만들었다:\n",
    "\n",
    "두 정수 \n",
    "$x$, \n",
    "$y$가 주어질 때, \n",
    "$x$시 \n",
    "$y$분으로 읽는 것이 가능한지의 여부를 판단하면서, \n",
    "$x$월 \n",
    "$y$일로 읽는 것이 가능한지의 여부를 판단하는 프로그램을 작성하라.\n",
    "\n",
    "시는 0시에서 23시까지, 분은 0분에서 59분까지가 유효하며, 월은 1월에서 12월까지가 유효하다. 1월, 3월, 5월, 7월, 8월, 10월, 12월은 1일에서 31일까지가 유효하고, 4월, 6월, 9월, 11월은 1일에서 30일까지가 유효하며, 2월은 1일에서 29일까지가 유효하다.\n",
    "\n",
    "## 입력\n",
    "첫 번째 줄에 테스트 케이스의 개수 \n",
    "$T$ (\n",
    "$1 ≤ T ≤ 10^4$)가 주어진다.\n",
    "\n",
    "각 테스트 케이스는 한 줄로 구성되어, 두 정수 \n",
    "$x$, \n",
    "$y$ (\n",
    "$0 ≤ x, y ≤ 99$)가 공백 하나로 구분되어 주어진다.\n",
    "\n",
    "## 출력\n",
    "각 테스트케이스 마다 두 문자열을 공백 하나로 구분하여 출력한다. 첫 번째 문자열은 두 정수 \n",
    "$x$, \n",
    "$y$를 \n",
    "$x$시 \n",
    "$y$분으로 읽는 것이 가능하면 “Yes”, 가능하지 않으면 “No”여야 한다. 두 번째 문자열은 두 정수 \n",
    "$x$, \n",
    "$y$를 \n",
    "$x$월 \n",
    "$y$일로 읽는 것이 가능하면 “Yes”, 가능하지 않으면 “No”여야 하다.\n",
    "\n",
    "따옴표는 제외하고 출력되어야 하며, 정답과 맞지 않더라도 두 문자열이 모두 출력되어야 제대로 된 채점이 가능하다.\n"
   ]
  },
  {
   "cell_type": "code",
   "execution_count": 1,
   "metadata": {},
   "outputs": [
    {
     "name": "stdout",
     "output_type": "stream",
     "text": [
      "Yes Yes\n",
      "Yes No\n",
      "No No\n"
     ]
    }
   ],
   "source": [
    "T = int(input())\n",
    "\n",
    "for _ in range(T):\n",
    "    x, y = map(int, input().split())\n",
    "    if 0 <= x <= 23 and 0 <= y <= 59:\n",
    "        print('Yes', end=' ')\n",
    "    else: print('No', end=' ')\n",
    "    \n",
    "    if x in [1, 3, 5, 7, 8, 10, 12] and 1 <= y <= 31:\n",
    "        print('Yes')\n",
    "    elif x in [4, 6, 9, 11] and 1 <= y <= 30:\n",
    "        print('Yes')\n",
    "    elif x == 2 and 1 <= y <= 29:\n",
    "        print('Yes')\n",
    "    else: print('No')"
   ]
  }
 ],
 "metadata": {
  "kernelspec": {
   "display_name": "venv",
   "language": "python",
   "name": "venv"
  },
  "language_info": {
   "codemirror_mode": {
    "name": "ipython",
    "version": 3
   },
   "file_extension": ".py",
   "mimetype": "text/x-python",
   "name": "python",
   "nbconvert_exporter": "python",
   "pygments_lexer": "ipython3",
   "version": "3.11.2"
  }
 },
 "nbformat": 4,
 "nbformat_minor": 2
}
