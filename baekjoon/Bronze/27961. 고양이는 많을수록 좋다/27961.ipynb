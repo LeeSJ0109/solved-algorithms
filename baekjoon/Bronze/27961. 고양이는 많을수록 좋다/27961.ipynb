{
 "cells": [
  {
   "cell_type": "markdown",
   "metadata": {},
   "source": [
    "## 문제\n",
    "마법소녀인 마도카는 너무나도 고양이를 좋아하는 나머지 마법을 이용하여 고양이 \n",
    "$N$마리를 집에서 키우기로 결심했다!\n",
    "\n",
    "마도카는 한 번의 행동에서 다음 \n",
    "$2$가지 마법 중 하나를 선택하여 사용한다. 처음에는 마도카의 집에 고양이가 존재하지 않는다.\n",
    "\n",
    "- 생성 마법: 고양이 \n",
    "$1$마리를 마도카의 집에 생성한다.\n",
    "- 복제 마법: 마도카의 집에 있는 고양이 일부 또는 전부를 대상으로 하여 복제한다. 즉, 만약 현재 마도카의 집에 고양이가 \n",
    "$k$마리 존재한다면, \n",
    "$0$마리 이상 \n",
    "$k$마리 이하의 고양이를 마도카의 집에 추가할 수 있다.\n",
    "\n",
    "마도카는 위의 \n",
    "$2$가지 마법을 적절히 사용하여, 최소의 행동 횟수로 마도카의 집에 **정확히**\n",
    "$N$마리의 고양이가 있도록 만들고 싶다. 계산을 어려워하는 마도카를 위해 최소의 행동 횟수를 계산해주자!\n",
    "\n",
    "## 입력\n",
    "첫 번째 줄에 키우기를 원하는 고양이의 수 \n",
    "$N(0\\leq N\\leq 10^{12})$이 정수로 주어진다.\n",
    "\n",
    "## 출력\n",
    "첫 번째 줄에 **정확히** \n",
    "$N$마리의 고양이를 마도카의 집에 들일 수 있는 최소의 행동 횟수를 출력한다.\n"
   ]
  },
  {
   "cell_type": "code",
   "execution_count": 30,
   "metadata": {},
   "outputs": [
    {
     "name": "stdout",
     "output_type": "stream",
     "text": [
      "32\n"
     ]
    }
   ],
   "source": [
    "N = int(input())\n",
    "count = 0\n",
    "cat = 0\n",
    "\n",
    "while True:\n",
    "    if cat >= N:\n",
    "        break\n",
    "    \n",
    "    if cat == 0:\n",
    "        cat += 1\n",
    "    else:\n",
    "        0\n",
    "        cat *= 2\n",
    "    count += 1\n",
    "    \n",
    "print(count)"
   ]
  }
 ],
 "metadata": {
  "kernelspec": {
   "display_name": "venv",
   "language": "python",
   "name": "venv"
  },
  "language_info": {
   "codemirror_mode": {
    "name": "ipython",
    "version": 3
   },
   "file_extension": ".py",
   "mimetype": "text/x-python",
   "name": "python",
   "nbconvert_exporter": "python",
   "pygments_lexer": "ipython3",
   "version": "3.11.2"
  }
 },
 "nbformat": 4,
 "nbformat_minor": 2
}
