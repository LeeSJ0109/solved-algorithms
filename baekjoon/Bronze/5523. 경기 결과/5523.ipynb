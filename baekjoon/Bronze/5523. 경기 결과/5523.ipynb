{
 "cells": [
  {
   "cell_type": "markdown",
   "metadata": {},
   "source": [
    "## 문제\n",
    "A와 B가 게임을 한다. 게임은 N번의 라운드로 이루어져 있다. 각 라운드에서는, 더 많은 점수를 얻은 사람이 그 라운드의 승자가 된다. 즉, A의 점수가 B의 점수보다 크면 i번째 라운드는 A의 승리이며, B의 점수가 A의 점수보다 크면 i번째 라운드는 B의 승리이다. 무승부인 경우에는 아무도 승리하지 않는다.\n",
    "\n",
    "N번의 라운드에서의 A와 B의 점수가 주어졌을 때, A가 이긴 횟수와, B가 이긴 횟수를 출력하는 프로그램을 만들어라.\n",
    "\n",
    "## 입력\n",
    "첫째 줄에는 정수 N(1 ≤ N ≤ 1,000,000)이 주어진다.\n",
    "\n",
    "둘째 줄부터는 정수 $A_i$, $B_i$ (0 ≤ $A_i$, $B_i$ ≤ 100)가 공백을 사이에 두고 차례대로 주어진다.\n",
    "\n",
    "## 출력\n",
    "첫째 줄에 A가 이긴 횟수와 B가 이긴 횟수를 차례대로 출력하라.\n"
   ]
  },
  {
   "cell_type": "code",
   "execution_count": 2,
   "metadata": {},
   "outputs": [
    {
     "name": "stdout",
     "output_type": "stream",
     "text": [
      "2 1\n"
     ]
    }
   ],
   "source": [
    "N = int(input())\n",
    "\n",
    "win_A, win_B = 0, 0\n",
    "for _ in range(N):\n",
    "    A, B = map(int, input().split())\n",
    "    if A > B:\n",
    "        win_A += 1\n",
    "    if A < B:\n",
    "        win_B += 1\n",
    "        \n",
    "print(win_A, win_B)"
   ]
  }
 ],
 "metadata": {
  "kernelspec": {
   "display_name": "venv",
   "language": "python",
   "name": "venv"
  },
  "language_info": {
   "codemirror_mode": {
    "name": "ipython",
    "version": 3
   },
   "file_extension": ".py",
   "mimetype": "text/x-python",
   "name": "python",
   "nbconvert_exporter": "python",
   "pygments_lexer": "ipython3",
   "version": "3.11.2"
  }
 },
 "nbformat": 4,
 "nbformat_minor": 2
}
