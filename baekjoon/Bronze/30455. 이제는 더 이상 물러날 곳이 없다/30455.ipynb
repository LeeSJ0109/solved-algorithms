{
 "cells": [
  {
   "cell_type": "markdown",
   "metadata": {},
   "source": [
    "## 문제\n",
    "건덕이와 건구스는 \n",
    "$N$개의 칸이 가로로 놓인 전장에서 승부를 겨루고 있다. 처음에는 가장 왼쪽 칸에 건덕이가, 가장 오른쪽 칸에 건구스가 자리 잡고 있으며, 승자는 아래 규칙에 따라 정해진다.\n",
    "\n",
    "1. 자신의 차례에 아래 두 가지 행동 중 하나를 **반드시** 수행해야 한다. 전장을 벗어나도록 이동할 수 없으며, 행동을 마친 뒤에는 상대방의 차례가 된다.\n",
    "    - 좌우로 인접한 칸으로 이동한다.\n",
    "    - 좌우로 인접한 칸에 상대방이 있다면, 상대방을 공격한다.\n",
    "2. 상대방을 공격하는 경우 승리한다.\n",
    "\n",
    "전장의 크기가 주어졌을 때, 누가 승리하는지 판단하자. 둘 다 최선을 다해서 승부를 겨루며, 처음 행동을 수행하는 사람은 건덕이다.\n",
    "\n",
    "## 입력\n",
    "전장에 놓인 칸의 개수 \n",
    "$N$이 주어진다. \n",
    "$\\left( 3\\leq N\\leq 200\\, 000 \\right)$ \n",
    "\n",
    "## 출력\n",
    "건덕이가 이길 경우 <span style=\"color:red\">Duck</span>을, 건구스가 이길 경우 <span style=\"color:red\">Goose</span>를 출력한다.\n"
   ]
  },
  {
   "cell_type": "code",
   "execution_count": 2,
   "metadata": {},
   "outputs": [
    {
     "name": "stdout",
     "output_type": "stream",
     "text": [
      "Goose\n"
     ]
    }
   ],
   "source": [
    "N = int(input())\n",
    "\n",
    "if N % 2:\n",
    "    print(\"Goose\")\n",
    "else:\n",
    "    print(\"Duck\")"
   ]
  }
 ],
 "metadata": {
  "kernelspec": {
   "display_name": "venv",
   "language": "python",
   "name": "venv"
  },
  "language_info": {
   "codemirror_mode": {
    "name": "ipython",
    "version": 3
   },
   "file_extension": ".py",
   "mimetype": "text/x-python",
   "name": "python",
   "nbconvert_exporter": "python",
   "pygments_lexer": "ipython3",
   "version": "3.11.2"
  }
 },
 "nbformat": 4,
 "nbformat_minor": 2
}
