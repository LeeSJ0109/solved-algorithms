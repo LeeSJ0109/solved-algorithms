{
 "cells": [
  {
   "cell_type": "markdown",
   "metadata": {},
   "source": [
    "## 문제\n",
    "서준이는 아빠로부터 골뱅이가 들어 있는 상자를 생일 선물로 받았다. 상자 안에는 ㄷ자 모양의 골뱅이가 들어있다. ㄷ자 모양은 가로 및 세로로 각각 5개의 셀로 구성되어 있다. 상자에는 정사각형 모양의 셀의 크기를 나타내는 숫자 하나가 적혀있다. 셀의 크기 N이 주어지면 예제 출력과 같은 방식으로 골뱅이 모양을 출력하시오.\n",
    "\n",
    "## 입력\n",
    "첫째 줄에 정수 N(1 ≤ N ≤ 100)이 주어진다.\n",
    "\n",
    "## 출력\n",
    "셀의 크기가 N인 골뱅이를 출력한다.\n"
   ]
  },
  {
   "cell_type": "code",
   "execution_count": 1,
   "metadata": {},
   "outputs": [
    {
     "name": "stdout",
     "output_type": "stream",
     "text": [
      "@@@@@@@@@@@@@@@\n",
      "@@@@@@@@@@@@@@@\n",
      "@@@@@@@@@@@@@@@\n",
      "@@@\n",
      "@@@\n",
      "@@@\n",
      "@@@\n",
      "@@@\n",
      "@@@\n",
      "@@@\n",
      "@@@\n",
      "@@@\n",
      "@@@@@@@@@@@@@@@\n",
      "@@@@@@@@@@@@@@@\n",
      "@@@@@@@@@@@@@@@\n"
     ]
    }
   ],
   "source": [
    "N = int(input())\n",
    "\n",
    "for _ in range(N):\n",
    "    print('@' * (N*5))\n",
    "\n",
    "for _ in range(3*N):\n",
    "    print('@' * N)\n",
    "\n",
    "for _ in range(N):\n",
    "    print('@' * (N*5))"
   ]
  }
 ],
 "metadata": {
  "kernelspec": {
   "display_name": "venv",
   "language": "python",
   "name": "venv"
  },
  "language_info": {
   "codemirror_mode": {
    "name": "ipython",
    "version": 3
   },
   "file_extension": ".py",
   "mimetype": "text/x-python",
   "name": "python",
   "nbconvert_exporter": "python",
   "pygments_lexer": "ipython3",
   "version": "3.11.2"
  }
 },
 "nbformat": 4,
 "nbformat_minor": 2
}
