{
 "cells": [
  {
   "cell_type": "markdown",
   "metadata": {},
   "source": [
    "## 문제\n",
    "미국은 한국과 사용하는 단위 체계가 다르다. 한국은 미터법을 사용하지만, 미국은 미국 단위계를 사용한다. 단위를 바꾸어 주는 프로그램을 작성하시오.\n",
    "\n",
    "아래 표를 참고해서 계산하면 되고, 킬로그램 <-> 파운드, 리터 <-> 갤런만 변환하면 된다.\n",
    "\n",
    "|종류|미터법|미국 단위계|\n",
    "|---|---|---|\n",
    "|무게|1.000 킬로그램|2.2046 파운드|\n",
    "||0.4536 킬로그램|1.0000 파운드|\n",
    "|부피|1.0000 리터|0.2642 갤런|\n",
    "||3.7854 리터|1.0000 갤런|\n",
    "\n",
    "## 입력\n",
    "첫째 줄에 테스트 케이스의 개수 T(1<=T<=1,000)가 주어진다. 각 테스트 케이스는 한 줄로 이루어져 있다. 첫 번째 숫자는 값이고, 두 번째 등장하는 문자는 단위이다. 값은 소수일 수도 있고, 이 경우 소수점 아래 최대 넷째 자리까지 주어진다. 단위는 kg, lb, l, g 중 하나이며, 순서대로 킬로그램, 파운드, 리터, 갤런이다.\n",
    "\n",
    "## 출력\n",
    "각 테스트 케이스에 대해서 바꾼 값과 단위를 출력한다. 값은 반올림해서 소수점 4째자리까지 출력한다. 단위는 kg, lb, l, g중 하나이며, 설명은 입력 설명에 있다.\n"
   ]
  },
  {
   "cell_type": "code",
   "execution_count": 6,
   "metadata": {},
   "outputs": [
    {
     "name": "stdout",
     "output_type": "stream",
     "text": [
      "2.2046 lb\n",
      "0.5284 g\n",
      "3.1752 kg\n",
      "13.2489 l\n",
      "0.0000 g\n"
     ]
    }
   ],
   "source": [
    "T = int(input())\n",
    "\n",
    "for _ in range(T):\n",
    "    v, u = input().split()\n",
    "    if u == 'kg':\n",
    "        print(\"%.4f\" % (float(v) * 2.2046), 'lb')\n",
    "    elif u == 'lb':\n",
    "        print(\"%.4f\" % (float(v) * 0.4536), 'kg')\n",
    "    elif u == 'l':\n",
    "        print(\"%.4f\" % (float(v) * 0.2642), 'g')\n",
    "    elif u == 'g':\n",
    "        print(\"%.4f\" % (float(v) * 3.7854), 'l')"
   ]
  }
 ],
 "metadata": {
  "kernelspec": {
   "display_name": "venv",
   "language": "python",
   "name": "python3"
  },
  "language_info": {
   "codemirror_mode": {
    "name": "ipython",
    "version": 3
   },
   "file_extension": ".py",
   "mimetype": "text/x-python",
   "name": "python",
   "nbconvert_exporter": "python",
   "pygments_lexer": "ipython3",
   "version": "3.11.2"
  }
 },
 "nbformat": 4,
 "nbformat_minor": 2
}
