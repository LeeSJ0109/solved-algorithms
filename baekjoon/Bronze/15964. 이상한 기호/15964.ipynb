{
 "cells": [
  {
   "cell_type": "markdown",
   "metadata": {},
   "source": [
    "## 문제\n",
    "부산일과학고등학교의 효진이는 수학의 귀재이다. 어떤 문제라도 보면 1분 내에 풀어버린다는 학교의 전설이 내려올 정도였는데, 이런 킹ㅡ갓 효진에게도 고민이 생겼다. 대부분의 문제에서 반복되는 연산이 있었기 때문이다! 이 연산은 너무 길어서 종이에 풀던 효진이는 너무 고통스러워서, 자신이 새로 연산자를 만들기로 했다.\n",
    "\n",
    "연산자의 기호는 ＠으로, A＠B = (A+B)×(A-B)으로 정의내리기로 했다.\n",
    "\n",
    "하지만, 효진이는 막상 큰 숫자가 들어오자 계산하기 너무 귀찮아졌다.\n",
    "\n",
    "효진이를 도와 정수 A, B가 주어지면 A＠B를 계산하는 프로그램을 만들어주자!\n",
    "\n",
    "## 입력\n",
    "첫째 줄에 A, B가 주어진다. (1 ≤ A, B ≤ 100,000)\n",
    "\n",
    "## 출력\n",
    "첫째 줄에 A＠B의 결과를 출력한다.\n"
   ]
  },
  {
   "cell_type": "code",
   "execution_count": 2,
   "metadata": {},
   "outputs": [
    {
     "name": "stdout",
     "output_type": "stream",
     "text": [
      "-7\n"
     ]
    }
   ],
   "source": [
    "A, B = map(int, input().split())\n",
    "\n",
    "print((A + B) * (A - B))"
   ]
  }
 ],
 "metadata": {
  "kernelspec": {
   "display_name": "venv",
   "language": "python",
   "name": "venv"
  },
  "language_info": {
   "codemirror_mode": {
    "name": "ipython",
    "version": 3
   },
   "file_extension": ".py",
   "mimetype": "text/x-python",
   "name": "python",
   "nbconvert_exporter": "python",
   "pygments_lexer": "ipython3",
   "version": "3.11.2"
  }
 },
 "nbformat": 4,
 "nbformat_minor": 2
}
