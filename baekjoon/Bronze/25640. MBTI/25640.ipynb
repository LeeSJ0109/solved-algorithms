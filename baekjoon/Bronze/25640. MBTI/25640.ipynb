{
 "cells": [
  {
   "cell_type": "markdown",
   "metadata": {},
   "source": [
    "## 문제\n",
    "진호는 요즘 유행하는 심리 검사인 MBTI에 관심이 많다. MBTI는 아래와 같이 네 가지 척도로 사람들의 성격을 구분해서, 총 \n",
    "$16$가지의 유형중에서 자신의 유형을 찾을 수 있는 심리 검사이다.\n",
    "\n",
    "내향(I) / 외향(E)\n",
    "직관(N) / 감각(S)\n",
    "감정(F) / 사고(T)\n",
    "인식(P) / 판단(J)\n",
    "모든 유형의 목록은 다음과 같다.\n",
    "\n",
    "INFP, ENFP, ISFP, ESFP, INTP, ENTP, ISTP, ESTP, INFJ, ENFJ, ISFJ, ESFJ, INTJ, ENTJ, ISTJ, ESTJ\n",
    "진호는 \n",
    "$N$명의 친구들에게 MBTI 유형을 물어 봤다. 이 중에서 진호와 MBTI 유형이 같은 사람의 수는 얼마일까?\n",
    "\n",
    "## 입력\n",
    "첫째 줄에 진호의 MBTI 유형이 주어진다.\n",
    "\n",
    "둘째 줄에 진호의 친구의 수 \n",
    "$N(1\\le N \\le 100)$이 주어진다.\n",
    "\n",
    "셋째 줄부터 \n",
    "$N$개의 줄에 친구들의 MBTI 유형이 주어진다.\n",
    "\n",
    "## 출력\n",
    "진호와 MBTI 유형이 같은 사람의 수를 출력한다.\n"
   ]
  },
  {
   "cell_type": "code",
   "execution_count": 1,
   "metadata": {},
   "outputs": [
    {
     "name": "stdout",
     "output_type": "stream",
     "text": [
      "2\n"
     ]
    }
   ],
   "source": [
    "jinho = input()\n",
    "N, total = int(input()), 0\n",
    "\n",
    "for _ in range(N):\n",
    "    if input() == jinho:\n",
    "        total += 1\n",
    "        \n",
    "print(total)"
   ]
  }
 ],
 "metadata": {
  "kernelspec": {
   "display_name": "venv",
   "language": "python",
   "name": "venv"
  },
  "language_info": {
   "codemirror_mode": {
    "name": "ipython",
    "version": 3
   },
   "file_extension": ".py",
   "mimetype": "text/x-python",
   "name": "python",
   "nbconvert_exporter": "python",
   "pygments_lexer": "ipython3",
   "version": "3.11.2"
  }
 },
 "nbformat": 4,
 "nbformat_minor": 2
}
