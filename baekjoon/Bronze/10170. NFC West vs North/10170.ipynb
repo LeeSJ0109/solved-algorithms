{
 "cells": [
  {
   "cell_type": "markdown",
   "metadata": {},
   "source": [
    "## 문제\n",
    "동혁이를 위해 NFC 서부와 북부 디비전 순위를 출력하는 프로그램을 작성하시오.\n",
    "\n",
    "## 입력\n",
    "없음\n",
    "\n",
    "## 출력\n",
    "예제와 같이 NFC 서부와 북부 디비전 순위를 출력한다.\n"
   ]
  },
  {
   "cell_type": "code",
   "execution_count": 1,
   "metadata": {},
   "outputs": [
    {
     "name": "stdout",
     "output_type": "stream",
     "text": [
      "NFC West       W   L  T\n",
      "-----------------------\n",
      "Seattle        13  3  0\n",
      "San Francisco  12  4  0\n",
      "Arizona        10  6  0\n",
      "St. Louis      7   9  0\n",
      "\n",
      "NFC North      W   L  T\n",
      "-----------------------\n",
      "Green Bay      8   7  1\n",
      "Chicago        8   8  0\n",
      "Detroit        7   9  0\n",
      "Minnesota      5  10  1\n"
     ]
    }
   ],
   "source": [
    "NFC = '''NFC West       W   L  T\n",
    "-----------------------\n",
    "Seattle        13  3  0\n",
    "San Francisco  12  4  0\n",
    "Arizona        10  6  0\n",
    "St. Louis      7   9  0\n",
    "\n",
    "NFC North      W   L  T\n",
    "-----------------------\n",
    "Green Bay      8   7  1\n",
    "Chicago        8   8  0\n",
    "Detroit        7   9  0\n",
    "Minnesota      5  10  1'''\n",
    "\n",
    "print(NFC)"
   ]
  }
 ],
 "metadata": {
  "kernelspec": {
   "display_name": "venv",
   "language": "python",
   "name": "venv"
  },
  "language_info": {
   "codemirror_mode": {
    "name": "ipython",
    "version": 3
   },
   "file_extension": ".py",
   "mimetype": "text/x-python",
   "name": "python",
   "nbconvert_exporter": "python",
   "pygments_lexer": "ipython3",
   "version": "3.11.2"
  }
 },
 "nbformat": 4,
 "nbformat_minor": 2
}
