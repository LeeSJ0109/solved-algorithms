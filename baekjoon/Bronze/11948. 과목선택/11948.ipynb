{
 "cells": [
  {
   "cell_type": "markdown",
   "metadata": {},
   "source": [
    "## 문제\n",
    "JOI는 물리, 화학, 생물, 지구과학, 역사, 지리 총 6 과목의 시험을 봤다. 각 시험의 만점은 100점이다.\n",
    "\n",
    "JOI는 물리, 화학, 생물, 지구과학 4과목 중에서 3 과목을 선택하고 역사, 지리 2 과목 중에서 한 과목을 선택한다.\n",
    "\n",
    "시험 점수의 합이 가장 높게 나오도록 과목을 선택할 때, JOI가 선택한 과목의 시험 점수의 합을 구하시오.\n",
    "\n",
    "## 입력\n",
    "입력은 6행으로 되어있으며, 각 행에 1개의 정수가 주어진다.\n",
    "\n",
    "1행에는 JOI의 물리 시험의 점수 A가 주어진다.\n",
    "\n",
    "2행에는 JOI의 화학 시험의 점수 B가 주어진다.\n",
    "\n",
    "3행에는 JOI의 생물 시험의 점수 C가 주어진다.\n",
    "\n",
    "4행에는 JOI의 지구과학의 시험 점수 D가 주어진다.\n",
    "\n",
    "5행에는 JOI의 역사 시험의 점수 E가 주어진다.\n",
    "\n",
    "6행에는 JOI의 지리 시험의 점수 F가 주어진다.\n",
    "\n",
    "입력한 정수 A, B, C, D, E, F는 모두 0이상 100이하이다.\n",
    "\n",
    "## 출력\n",
    "JOI가 선택한 과목의 총 점수를 1행에 출력하시오.\n"
   ]
  },
  {
   "cell_type": "code",
   "execution_count": 1,
   "metadata": {},
   "outputs": [
    {
     "name": "stdout",
     "output_type": "stream",
     "text": [
      "228\n"
     ]
    }
   ],
   "source": [
    "A, B, C, D, E, F = int(input()), int(input()), int(input()), int(input()), int(input()), int(input())\n",
    "\n",
    "print(A + B + C + D - min(A, B, C, D) + max(E, F))"
   ]
  }
 ],
 "metadata": {
  "kernelspec": {
   "display_name": "venv",
   "language": "python",
   "name": "venv"
  },
  "language_info": {
   "codemirror_mode": {
    "name": "ipython",
    "version": 3
   },
   "file_extension": ".py",
   "mimetype": "text/x-python",
   "name": "python",
   "nbconvert_exporter": "python",
   "pygments_lexer": "ipython3",
   "version": "3.11.2"
  }
 },
 "nbformat": 4,
 "nbformat_minor": 2
}
