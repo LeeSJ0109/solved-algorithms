{
 "cells": [
  {
   "cell_type": "markdown",
   "metadata": {},
   "source": [
    "## 문제\n",
    "당신은 N개의 테스트케이스들에게 반드시 인사를 해야 이 문제를 풀 수 있다.\n",
    "\n",
    "N개의 줄에 걸쳐\n",
    "\n",
    "\"Hello World, Judge i!\"\n",
    "\n",
    "를 출력하는 프로그램을 만들라. 여기서 i는 줄의 번호이다.\n",
    "\n",
    "## 입력\n",
    "N이 주어진다. (1 ≤ N ≤ 200)\n",
    "\n",
    "## 출력\n",
    "한 줄에 하나의 Hello World, Judge i! 를 출력한다."
   ]
  },
  {
   "cell_type": "code",
   "execution_count": 3,
   "metadata": {},
   "outputs": [
    {
     "name": "stdout",
     "output_type": "stream",
     "text": [
      "Hello World, Judge 1!\n",
      "Hello World, Judge 2!\n",
      "Hello World, Judge 3!\n"
     ]
    }
   ],
   "source": [
    "N = int(input())\n",
    "\n",
    "for i in range(N):\n",
    "    print(\"Hello World, Judge \" + str(i + 1) + \"!\")"
   ]
  }
 ],
 "metadata": {
  "kernelspec": {
   "display_name": "venv",
   "language": "python",
   "name": "venv"
  },
  "language_info": {
   "codemirror_mode": {
    "name": "ipython",
    "version": 3
   },
   "file_extension": ".py",
   "mimetype": "text/x-python",
   "name": "python",
   "nbconvert_exporter": "python",
   "pygments_lexer": "ipython3",
   "version": "3.11.2"
  }
 },
 "nbformat": 4,
 "nbformat_minor": 2
}
