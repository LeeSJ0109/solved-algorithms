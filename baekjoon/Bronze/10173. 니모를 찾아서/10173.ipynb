{
 "cells": [
  {
   "cell_type": "markdown",
   "metadata": {},
   "source": [
    "## 문제\n",
    "영어 문장속 숨어있는 니모(Nemo)를 찾아보자. 니모를 찾는데 있어서 대소문자는 중요하지 않다.\n",
    "\n",
    "## 입력\n",
    "여러 문장이 각 줄로 입력되며, 입력의 마지막에는 \"EOI\" 입력된다. 한 줄은 최대 80개의 글자로 이루어져 있다.\n",
    "\n",
    "## 출력\n",
    "숨겨진 니모를 찾으면 “Found”, 못찾으면 “Missing”를 각 줄에 맞게 출력하면 된다.\n"
   ]
  },
  {
   "cell_type": "code",
   "execution_count": 3,
   "metadata": {},
   "outputs": [
    {
     "name": "stdout",
     "output_type": "stream",
     "text": [
      "Found\n",
      "Found\n",
      "Missing\n",
      "Missing\n",
      "Found\n"
     ]
    }
   ],
   "source": [
    "while True:\n",
    "    i = input()\n",
    "    if i == 'EOI':\n",
    "        break\n",
    "    \n",
    "    if 'nemo' in i.lower():\n",
    "        print('Found')\n",
    "    else:\n",
    "        print('Missing')"
   ]
  }
 ],
 "metadata": {
  "kernelspec": {
   "display_name": "venv",
   "language": "python",
   "name": "venv"
  },
  "language_info": {
   "codemirror_mode": {
    "name": "ipython",
    "version": 3
   },
   "file_extension": ".py",
   "mimetype": "text/x-python",
   "name": "python",
   "nbconvert_exporter": "python",
   "pygments_lexer": "ipython3",
   "version": "3.11.2"
  }
 },
 "nbformat": 4,
 "nbformat_minor": 2
}
