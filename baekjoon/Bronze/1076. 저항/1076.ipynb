{
 "cells": [
  {
   "cell_type": "markdown",
   "metadata": {},
   "source": [
    "## 문제\n",
    "전자 제품에는 저항이 들어간다. 저항은 색 3개를 이용해서 그 저항이 몇 옴인지 나타낸다. 처음 색 2개는 저항의 값이고, 마지막 색은 곱해야 하는 값이다. 저항의 값은 다음 표를 이용해서 구한다.\n",
    "<center>\n",
    "\n",
    "|색|값|곱|\n",
    "|---|---|---|\n",
    "|black|0|1|\n",
    "|brown|1|10|\n",
    "|red|2|100|\n",
    "|orange|3|1,000|\n",
    "|yellow|4|10,000|\n",
    "|green|5|100,000|\n",
    "|blue|6|1,000,000|\n",
    "|violet|7|10,000,000|\n",
    "|grey|8|100,000,000|\n",
    "|white|9|1,000,000,000|\n",
    "\n",
    "</center>\n",
    "예를 들어, 저항의 색이 yellow, violet, red였다면 저항의 값은 4,700이 된다.\n",
    "\n",
    "## 입력\n",
    "첫째 줄에 첫 번째 색, 둘째 줄에 두 번째 색, 셋째 줄에 세 번째 색이 주어진다. 위의 표에 있는 색만 입력으로 주어진다.\n",
    "\n",
    "## 출력\n",
    "입력으로 주어진 저항의 저항값을 계산하여 첫째 줄에 출력한다.\n"
   ]
  },
  {
   "cell_type": "code",
   "execution_count": 3,
   "metadata": {},
   "outputs": [
    {
     "name": "stdout",
     "output_type": "stream",
     "text": [
      "99000000000\n"
     ]
    }
   ],
   "source": [
    "resistance = {'black': ['0', 1],\n",
    "              'brown': ['1', 10],\n",
    "              'red': ['2', 100],\n",
    "              'orange':\t['3', 1000],\n",
    "              'yellow':\t['4', 10000],\n",
    "              'green': ['5', 100000],\n",
    "              'blue': ['6', 1000000],\n",
    "              'violet':\t['7', 10000000],\n",
    "              'grey': ['8', 100000000],\n",
    "              'white': ['9', 1000000000]}\n",
    "\n",
    "print(int(resistance[input()][0] + resistance[input()][0]) * resistance[input()][1])"
   ]
  }
 ],
 "metadata": {
  "kernelspec": {
   "display_name": "venv",
   "language": "python",
   "name": "venv"
  },
  "language_info": {
   "codemirror_mode": {
    "name": "ipython",
    "version": 3
   },
   "file_extension": ".py",
   "mimetype": "text/x-python",
   "name": "python",
   "nbconvert_exporter": "python",
   "pygments_lexer": "ipython3",
   "version": "3.11.2"
  }
 },
 "nbformat": 4,
 "nbformat_minor": 2
}
