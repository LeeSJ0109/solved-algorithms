{
 "cells": [
  {
   "cell_type": "markdown",
   "metadata": {},
   "source": [
    "## 문제\n",
    "N개의 A, G, C, T로 구성되어 있는 DNA 염기서열이 있다. 그리고 우리는 이 염기서열을 아래의 표를 이용하여 해독을 해야 한다.\n",
    "\n",
    "<center>\n",
    "<img src=\"../../images/1672.png\">\n",
    "</center>\n",
    "\n",
    "해독 방법은 염기 서열에서 제일 끝에 있는 두 개의 염기를 An-1, An이라 할 때, An-1을 행으로 An을 열로 대응시켜 그에 해당하는 하나의 염기로 바꾸는 방식을 반복하는 것이다.  예를 들어 AAGTCG라는 염기서열이 있다고 하자. 이 서열을 위의 규칙 때로 해독하면 AAGTCG → AAGTT → AAGT → AAA → AA → A 가 되어 최종적으로 해독한 염기는 A가 된다.\n",
    "\n",
    "문제는 어떤 염기서열이 주어졌을 때 위의 표를 참고하여 해독된 최종 염기를 출력하는 것이다.\n",
    "\n",
    "## 입력\n",
    "첫째 줄에 염기 서열의 길이 N(1 ≤ N ≤ 1,000,000)이 주어진다. 둘째 줄에는 염기서열을 나타내는 길이가 N인 문자열이 주어진다.\n",
    "\n",
    "## 출력\n",
    "첫째 줄에 최종 염기를 출력한다."
   ]
  },
  {
   "cell_type": "code",
   "execution_count": 1,
   "metadata": {},
   "outputs": [
    {
     "name": "stdout",
     "output_type": "stream",
     "text": [
      "A\n"
     ]
    }
   ],
   "source": [
    "decoding = {\n",
    "    'AA': 'A', 'AG': 'C', 'AC': 'A', 'AT': 'G',\n",
    "    'GA': 'C', 'GG': 'G', 'GC': 'T', 'GT': 'A',\n",
    "    'CA': 'A', 'CG': 'T', 'CC': 'C', 'CT': 'G',\n",
    "    'TA': 'G', 'TG': 'A', 'TC': 'G', 'TT': 'T'\n",
    "}\n",
    "\n",
    "N = int(input())\n",
    "DNA = list(input())\n",
    "\n",
    "for i in range(N-1, 0, -1):\n",
    "    DNA[i-1] = decoding[DNA[i-1] + DNA[i]]\n",
    "\n",
    "print(DNA[0])"
   ]
  }
 ],
 "metadata": {
  "kernelspec": {
   "display_name": "venv",
   "language": "python",
   "name": "venv"
  },
  "language_info": {
   "codemirror_mode": {
    "name": "ipython",
    "version": 3
   },
   "file_extension": ".py",
   "mimetype": "text/x-python",
   "name": "python",
   "nbconvert_exporter": "python",
   "pygments_lexer": "ipython3",
   "version": "3.11.2"
  }
 },
 "nbformat": 4,
 "nbformat_minor": 2
}
