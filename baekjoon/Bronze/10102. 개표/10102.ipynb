{
 "cells": [
  {
   "cell_type": "markdown",
   "metadata": {},
   "source": [
    "## 문제\n",
    "A와 B가 한 오디션 프로의 결승전에 진출했다. 결승전의 승자는 심사위원의 투표로 결정된다.\n",
    "\n",
    "심사위원의 투표 결과가 주어졌을 때, 어떤 사람이 우승하는지 구하는 프로그램을 작성하시오.\n",
    "\n",
    "## 입력\n",
    "입력은 총 두 줄로 이루어져 있다. 첫째 줄에는 심사위원의 수 V (1 ≤  V ≤  15)가 주어지고, 둘째 줄에는 각 심사위원이 누구에게 투표했는지가 주어진다. A와 B는 각각 그 참가자를 나타낸다.\n",
    "\n",
    "## 출력\n",
    "- A가 받은 표가 B보다 많은 경우에는 A\n",
    "- B가 받은 표가 A보다 많은 경우에는 B\n",
    "- 같은 경우에는 Tie\n",
    "\n",
    "를 출력한다.\n"
   ]
  },
  {
   "cell_type": "code",
   "execution_count": 1,
   "metadata": {},
   "outputs": [
    {
     "name": "stdout",
     "output_type": "stream",
     "text": [
      "B\n"
     ]
    }
   ],
   "source": [
    "V = int(input())\n",
    "vote = input()\n",
    "\n",
    "A, B = vote.count('A'), vote.count('B')\n",
    "if A > B:\n",
    "    print('A')\n",
    "elif A < B:\n",
    "    print('B')\n",
    "else:\n",
    "    print('Tie')"
   ]
  }
 ],
 "metadata": {
  "kernelspec": {
   "display_name": "venv",
   "language": "python",
   "name": "venv"
  },
  "language_info": {
   "codemirror_mode": {
    "name": "ipython",
    "version": 3
   },
   "file_extension": ".py",
   "mimetype": "text/x-python",
   "name": "python",
   "nbconvert_exporter": "python",
   "pygments_lexer": "ipython3",
   "version": "3.11.2"
  }
 },
 "nbformat": 4,
 "nbformat_minor": 2
}
