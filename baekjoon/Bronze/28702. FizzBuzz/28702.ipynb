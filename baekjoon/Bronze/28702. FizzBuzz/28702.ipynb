{
 "cells": [
  {
   "cell_type": "markdown",
   "metadata": {},
   "source": [
    "## 문제\n",
    "FizzBuzz 문제는 \n",
    "$i = 1, 2, \\cdots$ 에 대해 다음 규칙에 따라 문자열을 한 줄에 하나씩 출력하는 문제입니다.\n",
    "\n",
    " \n",
    "$i$가 \n",
    "$3$의 배수이면서 \n",
    "$5$의 배수이면 “FizzBuzz”를 출력합니다.\n",
    " \n",
    "$i$가 \n",
    "$3$의 배수이지만 \n",
    "$5$의 배수가 아니면 “Fizz”를 출력합니다.\n",
    " \n",
    "$i$가 \n",
    "$3$의 배수가 아니지만 \n",
    "$5$의 배수이면 “Buzz”를 출력합니다.\n",
    " \n",
    "$i$가 \n",
    "$3$의 배수도 아니고 \n",
    "$5$의 배수도 아닌 경우 \n",
    "$i$를 그대로 출력합니다.\n",
    "FizzBuzz 문제에서 연속으로 출력된 세 개의 문자열이 주어집니다. 이때, 이 세 문자열 다음에 올 문자열은 무엇일까요?\n",
    "\n",
    "## 입력\n",
    "FizzBuzz 문제에서 연속으로 출력된 세 개의 문자열이 한 줄에 하나씩 주어집니다. 각 문자열의 길이는 \n",
    "$8$ 이하입니다. 입력이 항상 FizzBuzz 문제에서 연속으로 출력된 세 개의 문자열에 대응됨이 보장됩니다.\n",
    "\n",
    "## 출력\n",
    "연속으로 출력된 세 개의 문자열 다음에 올 문자열을 출력하세요. 여러 문자열이 올 수 있는 경우, 아무거나 하나 출력하세요."
   ]
  },
  {
   "cell_type": "code",
   "execution_count": 2,
   "metadata": {},
   "outputs": [
    {
     "name": "stdout",
     "output_type": "stream",
     "text": [
      "980806\n"
     ]
    }
   ],
   "source": [
    "def FizzBuzz(n):\n",
    "    if n % 3 == 0 and n % 5 == 0:\n",
    "        return \"FizzBuzz\"\n",
    "    if n % 3 == 0:\n",
    "        return \"Fizz\"\n",
    "    if n % 5 == 0:\n",
    "        return \"Buzz\"\n",
    "    return n\n",
    "\n",
    "a, b, c = input(), input(), input()\n",
    "d = 0\n",
    "\n",
    "if a.isdigit():\n",
    "    d = int(a) + 3\n",
    "elif b.isdigit():\n",
    "    d = int(b) + 2\n",
    "elif c.isdigit():\n",
    "    d = int(c) + 1\n",
    "\n",
    "print(FizzBuzz(d))"
   ]
  }
 ],
 "metadata": {
  "kernelspec": {
   "display_name": "venv",
   "language": "python",
   "name": "venv"
  },
  "language_info": {
   "codemirror_mode": {
    "name": "ipython",
    "version": 3
   },
   "file_extension": ".py",
   "mimetype": "text/x-python",
   "name": "python",
   "nbconvert_exporter": "python",
   "pygments_lexer": "ipython3",
   "version": "3.11.2"
  }
 },
 "nbformat": 4,
 "nbformat_minor": 2
}
