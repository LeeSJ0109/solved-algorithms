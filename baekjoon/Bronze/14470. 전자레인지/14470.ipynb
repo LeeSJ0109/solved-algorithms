{
 "cells": [
  {
   "cell_type": "markdown",
   "metadata": {},
   "source": [
    "## 문제\n",
    "JOI 군은 식사 준비를 위해 A℃의 고기를 전자레인지로 B℃까지 데우려고 한다. 고기는 온도가 0℃보다 낮을 때 얼어 있고, 0℃보다 높을 때는 얼어 있지 않다. 온도가 정확히 0℃일 때 고기는 얼어 있을 수도, 얼어 있지 않을 수도 있다.\n",
    "\n",
    "JOI 군은 가열할 때 고기가 아래의 규칙을 따라 데워진다고 가정하고, 고기를 데우는 데 걸리는 시간을 어림하기로 했다.\n",
    "\n",
    "- 고기가 얼어 있고 온도가 0℃ 미만일 때 : 온도가 C초에 1℃씩 오른다.\n",
    "- 고기가 얼어 있고 온도가 정확히 0℃일 때 : 얼어 있지 않은 상태로 만드는(해동하는) 데 D초가 걸린다.\n",
    "- 고기가 얼어 있지 않을 때 : 온도가 E초에 1℃씩 오른다.\n",
    "\n",
    "이 규칙을 토대로, 고기가 B℃까지 데워지는 데 몇 초가 걸리는지 구하라.\n",
    "\n",
    "## 입력\n",
    "입력은 총 5줄로, 한 줄에 한 개씩의 정수가 주어진다.\n",
    "\n",
    "- 첫 줄에는 원래의 고기의 온도 A가 주어진다. 단, A는 -100 이상 100 이하이며, 0이 아니다.\n",
    "- 둘째 줄에는 목표 온도 B가 주어진다. 단, B는 1 이상 100 이하이며, A보다 크다.\n",
    "- 셋째 줄에는 얼어 있는 고기를 1℃ 데우는 데 걸리는 시간 C가 주어진다.\n",
    "- 넷째 줄에는 얼어 있는 고기를 해동하는 데 걸리는 시간 D가 주어진다.\n",
    "- 다섯째 줄에는 얼어 있지 않은 고기를 1℃ 데우는 데 걸리는 시간 E가 주어진다.\n",
    "\n",
    "C, D, E는 모두 1 이상 100 이하이다.\n",
    "\n",
    "## 출력\n",
    "고기를 B℃로 데우는 데 걸리는 시간을 초 단위로 한 줄에 출력하라.\n"
   ]
  },
  {
   "cell_type": "code",
   "execution_count": 5,
   "metadata": {},
   "outputs": [
    {
     "name": "stdout",
     "output_type": "stream",
     "text": [
      "627\n"
     ]
    }
   ],
   "source": [
    "A, B, C, D, E = int(input()), int(input()), int(input()), int(input()), int(input())\n",
    "\n",
    "time = 0\n",
    "while A != B:\n",
    "    if A < 0:\n",
    "        time += C\n",
    "        A += 1\n",
    "    elif A == 0:\n",
    "        time += D + E\n",
    "        A += 1\n",
    "    else:\n",
    "        time += E\n",
    "        A += 1\n",
    "        \n",
    "print(time)"
   ]
  }
 ],
 "metadata": {
  "kernelspec": {
   "display_name": "venv",
   "language": "python",
   "name": "venv"
  },
  "language_info": {
   "codemirror_mode": {
    "name": "ipython",
    "version": 3
   },
   "file_extension": ".py",
   "mimetype": "text/x-python",
   "name": "python",
   "nbconvert_exporter": "python",
   "pygments_lexer": "ipython3",
   "version": "3.11.2"
  }
 },
 "nbformat": 4,
 "nbformat_minor": 2
}
