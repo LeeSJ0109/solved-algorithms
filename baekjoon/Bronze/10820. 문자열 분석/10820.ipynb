{
 "cells": [
  {
   "cell_type": "markdown",
   "metadata": {},
   "source": [
    "## 문제\n",
    "문자열 N개가 주어진다. 이때, 문자열에 포함되어 있는 소문자, 대문자, 숫자, 공백의 개수를 구하는 프로그램을 작성하시오.\n",
    "\n",
    "각 문자열은 알파벳 소문자, 대문자, 숫자, 공백으로만 이루어져 있다.\n",
    "\n",
    "## 입력\n",
    "첫째 줄부터 N번째 줄까지 문자열이 주어진다. (1 ≤ N ≤ 100) 문자열의 길이는 100을 넘지 않는다.\n",
    "\n",
    "## 출력\n",
    "첫째 줄부터 N번째 줄까지 각각의 문자열에 대해서 소문자, 대문자, 숫자, 공백의 개수를 공백으로 구분해 출력한다."
   ]
  },
  {
   "cell_type": "code",
   "execution_count": 1,
   "metadata": {},
   "outputs": [
    {
     "name": "stdout",
     "output_type": "stream",
     "text": [
      "10 2 0 2\n",
      "0 10 1 8\n",
      "5 6 0 16\n",
      "0 8 9 0\n",
      "0 0 0 0\n"
     ]
    }
   ],
   "source": [
    "while True:\n",
    "    try:\n",
    "        string = input()\n",
    "    except EOFError:\n",
    "        break\n",
    "    \n",
    "    low, up, digit, space = 0, 0, 0, 0\n",
    "    for i in string:\n",
    "        if i.islower():\n",
    "            low += 1\n",
    "        elif i.isupper():\n",
    "            up += 1\n",
    "        elif i.isdigit():\n",
    "            digit += 1\n",
    "        elif i.isspace():\n",
    "            space += 1\n",
    "            \n",
    "    print(low, up, digit, space)"
   ]
  }
 ],
 "metadata": {
  "kernelspec": {
   "display_name": "venv",
   "language": "python",
   "name": "venv"
  },
  "language_info": {
   "codemirror_mode": {
    "name": "ipython",
    "version": 3
   },
   "file_extension": ".py",
   "mimetype": "text/x-python",
   "name": "python",
   "nbconvert_exporter": "python",
   "pygments_lexer": "ipython3",
   "version": "3.11.2"
  }
 },
 "nbformat": 4,
 "nbformat_minor": 2
}
