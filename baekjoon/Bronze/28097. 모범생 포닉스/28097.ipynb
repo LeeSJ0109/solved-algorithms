{
 "cells": [
  {
   "cell_type": "markdown",
   "metadata": {},
   "source": [
    "## 문제\n",
    "모두가 알다시피, 포닉스는 포스텍을 대표하는 모범생이다! 포닉스는 최고의 모범생답게 남들과는 다른 공부 계획표를 가지고 있다.\n",
    "\n",
    "포닉스는 총 \n",
    "$N$개의 공부 계획을 가지고 있다. \n",
    "$i$번째 공부 계획을 실행하는 데에는 \n",
    "$T_i$시간이 소모된다. 포닉스는 각 계획을 순서대로 시행하며, 각 계획 사이에는 \n",
    "$8$시간만큼의 휴식을 취한다.\n",
    "\n",
    " \n",
    "$N$개의 공부 계획을 모두 마친 포닉스는 지금의 시간이 첫 번째 공부 계획을 시작한 시간으로부터 얼마나 지났는지 궁금해졌다. 포닉스가 마지막 공부를 마칠 때까지 걸린 총 시간이 며칠 몇 시간인지 구해 보자. \n",
    "$1$일은 \n",
    "$24$시간이다.\n",
    "\n",
    "## 입력\n",
    "첫 번째 줄에 공부 계획의 수 \n",
    "$N$이 주어진다. (\n",
    "$1\\le N\\le 120$)\n",
    "\n",
    "두 번째 줄에 각 계획의 공부 시간을 나타내는 \n",
    "$N$개의 정수 \n",
    "$T_1,T_2,\\ldots ,T_N$이 공백으로 구분되어 주어진다. (\n",
    "$10\\leq T_i\\leq 30$)\n",
    "\n",
    "## 출력\n",
    "모든 계획을 마친 후의 소요 시간을 일과 시간 단위로 공백으로 구분하여 출력한다.\n"
   ]
  },
  {
   "cell_type": "code",
   "execution_count": 6,
   "metadata": {},
   "outputs": [
    {
     "name": "stdout",
     "output_type": "stream",
     "text": [
      "2 0\n"
     ]
    }
   ],
   "source": [
    "N = int(input())\n",
    "t = list(map(int, input().split()))\n",
    "\n",
    "print(*divmod(sum(t) + 8 * N - 8, 24))"
   ]
  }
 ],
 "metadata": {
  "kernelspec": {
   "display_name": "venv",
   "language": "python",
   "name": "python3"
  },
  "language_info": {
   "codemirror_mode": {
    "name": "ipython",
    "version": 3
   },
   "file_extension": ".py",
   "mimetype": "text/x-python",
   "name": "python",
   "nbconvert_exporter": "python",
   "pygments_lexer": "ipython3",
   "version": "3.11.2"
  }
 },
 "nbformat": 4,
 "nbformat_minor": 2
}
