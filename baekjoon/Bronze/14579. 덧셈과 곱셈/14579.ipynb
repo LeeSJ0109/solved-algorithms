{
 "cells": [
  {
   "cell_type": "markdown",
   "metadata": {},
   "source": [
    "## 문제\n",
    "남규는 최근에 덧셈과 곱셈을 배웠다.\n",
    "\n",
    "하지만 도현이는 남규가 제대로 배웠는지에 대해 의심을 가지고 있다.\n",
    "\n",
    "그래서 도현이는 남규에게 문제를 내기로 했는데, 문제는 아래와 같다.\n",
    "\n",
    "a, b (1 ≤ a < b ≤ 1000)가 주어졌을 때\n",
    "\n",
    "> (1+2+…+a) * (1+2+…+(a+1)) * … * (1+2+…+(b-1)) * (1+2+…+b)\n",
    "\n",
    "의 값을 계산하라.\n",
    "\n",
    "남규는 사실 이 값을 계산하지 못한다.\n",
    "\n",
    "그래서 남규는 a, b가 주어졌을 때, 위의 값의 결과가 얼마인지 구하는 프로그램이 필요하다.\n",
    "\n",
    "남규를 위해 위 식을 계산해내는 프로그램을 하나 만들어 주자.\n",
    "\n",
    "## 입력\n",
    "첫째 줄에 a, b (1 ≤ a < b ≤ 1000)가 주어진다.\n",
    "\n",
    "## 출력\n",
    "위의 문제의 결과를 출력한다.\n",
    "\n",
    "단, 결과가 매우 커질 수 있으니 14579로 나눈 나머지를 출력한다.\n"
   ]
  },
  {
   "cell_type": "code",
   "execution_count": 1,
   "metadata": {},
   "outputs": [
    {
     "name": "stdout",
     "output_type": "stream",
     "text": [
      "900\n"
     ]
    }
   ],
   "source": [
    "a, b = map(int, input().split())\n",
    "\n",
    "result = 1\n",
    "for i in range(a, b + 1):\n",
    "    result *= sum([j for j in range(1, i + 1)])\n",
    "    result %= 14579\n",
    "    \n",
    "print(result)"
   ]
  }
 ],
 "metadata": {
  "kernelspec": {
   "display_name": "venv",
   "language": "python",
   "name": "venv"
  },
  "language_info": {
   "codemirror_mode": {
    "name": "ipython",
    "version": 3
   },
   "file_extension": ".py",
   "mimetype": "text/x-python",
   "name": "python",
   "nbconvert_exporter": "python",
   "pygments_lexer": "ipython3",
   "version": "3.11.2"
  }
 },
 "nbformat": 4,
 "nbformat_minor": 2
}
