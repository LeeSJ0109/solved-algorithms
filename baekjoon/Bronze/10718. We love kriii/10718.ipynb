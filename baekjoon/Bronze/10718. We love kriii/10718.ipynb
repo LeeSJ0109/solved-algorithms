{
 "cells": [
  {
   "cell_type": "markdown",
   "metadata": {},
   "source": [
    "## 문제\n",
    "ACM-ICPC 인터넷 예선, Regional, 그리고 World Finals까지 이미 2회씩 진출해버린 kriii는 미련을 버리지 못하고 왠지 모르게 올해에도 파주 World Finals 준비 캠프에 참여했다.\n",
    "\n",
    "대회를 뜰 줄 모르는 지박령 kriii를 위해서 격려의 문구를 출력해주자.\n",
    "\n",
    "## 입력\n",
    "본 문제는 입력이 없다.\n",
    "\n",
    "## 출력\n",
    "두 줄에 걸쳐 \"강한친구 대한육군\"을 한 줄에 한 번씩 출력한다.\n"
   ]
  },
  {
   "cell_type": "code",
   "execution_count": 2,
   "metadata": {},
   "outputs": [
    {
     "name": "stdout",
     "output_type": "stream",
     "text": [
      "강한친구 대한육군\n",
      "강한친구 대한육군\n",
      "\n"
     ]
    }
   ],
   "source": [
    "print(\"강한친구 대한육군\\n\" * 2)"
   ]
  }
 ],
 "metadata": {
  "kernelspec": {
   "display_name": "venv",
   "language": "python",
   "name": "venv"
  },
  "language_info": {
   "codemirror_mode": {
    "name": "ipython",
    "version": 3
   },
   "file_extension": ".py",
   "mimetype": "text/x-python",
   "name": "python",
   "nbconvert_exporter": "python",
   "pygments_lexer": "ipython3",
   "version": "3.11.2"
  }
 },
 "nbformat": 4,
 "nbformat_minor": 2
}
