{
 "cells": [
  {
   "cell_type": "markdown",
   "metadata": {},
   "source": [
    "## 문제\n",
    "오각형의 각 변에 아래 그림과 같이 점을 찍어 나간다. N단계에서 점의 개수는 모두 몇 개일까?\n",
    "\n",
    "<center>\n",
    "<img src=\"../../images/1964.png\">\n",
    "</center>\n",
    "\n",
    "## 입력\n",
    "첫째 줄에 N(1 ≤ N ≤ 10,000,000)이 주어진다.\n",
    "\n",
    "## 출력\n",
    "첫째 줄에 N단계에서 점의 개수를 45678로 나눈 나머지를 출력한다.\n"
   ]
  },
  {
   "cell_type": "code",
   "execution_count": 3,
   "metadata": {},
   "outputs": [
    {
     "data": {
      "text/plain": [
       "590"
      ]
     },
     "execution_count": 3,
     "metadata": {},
     "output_type": "execute_result"
    }
   ],
   "source": [
    "N = int(input())\n",
    "total, i = 5, 7\n",
    "\n",
    "for _ in range(N - 1):\n",
    "    total += i\n",
    "    i += 3\n",
    "    \n",
    "print(total % 45678)"
   ]
  }
 ],
 "metadata": {
  "kernelspec": {
   "display_name": "venv",
   "language": "python",
   "name": "venv"
  },
  "language_info": {
   "codemirror_mode": {
    "name": "ipython",
    "version": 3
   },
   "file_extension": ".py",
   "mimetype": "text/x-python",
   "name": "python",
   "nbconvert_exporter": "python",
   "pygments_lexer": "ipython3",
   "version": "3.11.2"
  }
 },
 "nbformat": 4,
 "nbformat_minor": 2
}
