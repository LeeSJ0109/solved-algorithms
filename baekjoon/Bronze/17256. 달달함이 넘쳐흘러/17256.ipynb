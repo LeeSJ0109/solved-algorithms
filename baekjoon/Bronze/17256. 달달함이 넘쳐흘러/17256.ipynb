{
 "cells": [
  {
   "cell_type": "markdown",
   "metadata": {},
   "source": [
    "## 문제\n",
    "냉장고에서 맛있게 숙성되고 있는 마카롱은 심심한 나머지 새로운 수 체계를 생각해냈다. 마카롱은 이를 케이크 수라고 이름 붙이고, 다음과 같이 정의했다.\n",
    "\n",
    "케이크 수는 3개의 자연수 x, y, z로 이루어진 순서쌍이다. (자연수는 1 이상의 정수를 의미한다)\n",
    "케이크 수 a는 (a.x, a.y, a.z)와 같이 나타낼 수 있다.\n",
    "또한 마카롱은 케이크 수들을 비교하기 위해 등호 \"=\"도 새로 정의했다.\n",
    "\n",
    "케이크 수 a, b에 대하여, a = b라는 것은 다음과 같다.\n",
    "a.x = b.x, a.y = b.y 그리고 a.z = b.z를 동시에 만족한다.\n",
    "아직 끝나지 않았다. 이 케이크 수는 기존의 수와 다르게 매우 특이한 연산을 적용할 수 있다. 연산의 이름은 🍰이고 다음과 같이 정의된다!\n",
    "\n",
    "<center>\n",
    "a 🍰 b = (a.z + b.x, a.y × b.y, a.x + b.z)\n",
    "</center>\n",
    "\n",
    "SCCC의 회장 욱제는 케이크 수를 이용해 문제를 만들기로 했다. 마카롱과 욱제를 기쁘게 하기 위해서 문제를 풀어주자! 욱제가 만든 문제는 다음과 같다.\n",
    "\n",
    "케이크 수 a, c 가 주어졌을 때, 다음을 만족하는 케이크 수 b를 계산하자.\n",
    "\n",
    "<center>\n",
    "a 🍰 b = c\n",
    "</center>\n",
    "\n",
    "a, c는 b가 항상 유일하게 존재하도록 주어진다.\n",
    "\n",
    "## 입력\n",
    "첫째 줄에 케이크 수 a를 구성하는 자연수 a.x, a.y, a.z 가 차례대로 주어진다. (1 ≤ a.x, a.y, a.z ≤ 100)\n",
    "\n",
    "둘째 줄에 케이크 수 c를 구성하는 자연수 c.x, c.y, c.z 가 차례대로 주어진다. (1 ≤ c.x, c.y, c.z ≤ 100)\n",
    "\n",
    "## 출력\n",
    "문제의 조건을 만족하는 b.x, b.y, b.z를 하나의 공백을 사이에 두고 차례대로 출력한다.\n",
    "\n",
    "b는 1 ≤ b.x, b.y, b.z ≤ 100 이고 반드시 유일하게 존재한다.\n"
   ]
  },
  {
   "cell_type": "code",
   "execution_count": 1,
   "metadata": {},
   "outputs": [
    {
     "name": "stdout",
     "output_type": "stream",
     "text": [
      "2 2 75\n"
     ]
    }
   ],
   "source": [
    "a_x, a_y, a_z = map(int, input().split())\n",
    "c_x, c_y, c_z = map(int, input().split())\n",
    "\n",
    "b_x, b_y, b_z = c_x - a_z, c_y // a_y, c_z - a_x\n",
    "print(b_x, b_y, b_z)"
   ]
  }
 ],
 "metadata": {
  "kernelspec": {
   "display_name": "venv",
   "language": "python",
   "name": "venv"
  },
  "language_info": {
   "codemirror_mode": {
    "name": "ipython",
    "version": 3
   },
   "file_extension": ".py",
   "mimetype": "text/x-python",
   "name": "python",
   "nbconvert_exporter": "python",
   "pygments_lexer": "ipython3",
   "version": "3.11.2"
  }
 },
 "nbformat": 4,
 "nbformat_minor": 2
}
