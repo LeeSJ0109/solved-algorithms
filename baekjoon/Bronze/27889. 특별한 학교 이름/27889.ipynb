{
 "cells": [
  {
   "cell_type": "markdown",
   "metadata": {},
   "source": [
    "## 문제\n",
    "GEC에는 여러 학교가 있다. 각 학교의 약칭과 정식 명칭은 다음과 같다.\n",
    "\n",
    "NLCS: North London Collegiate School\n",
    "BHA: Branksome Hall Asia\n",
    "KIS: Korea International School\n",
    "SJA: St. Johnsbury Academy\n",
    "학교 이름을 좋아하는 규빈이는, 학교 이름을 짧게 부르는 것을 싫어하기 때문에, 각 학교의 약칭이 주어졌을 때 정식 명칭을 출력하는 프로그램을 만들기로 하였다.\n",
    "\n",
    "각 학교의 약칭이 주어졌을 때, 정식 명칭을 출력하는 프로그램을 작성하시오.\n",
    "\n",
    "## 입력\n",
    "첫 번째 줄에 학교의 약칭 중 하나가 주어진다.\n",
    "\n",
    "## 출력\n",
    "첫 번째 줄에 입력된 학교의 정식 명칭을 출력한다.\n"
   ]
  },
  {
   "cell_type": "code",
   "execution_count": 1,
   "metadata": {},
   "outputs": [
    {
     "name": "stdout",
     "output_type": "stream",
     "text": [
      "North London Collegiate School\n"
     ]
    }
   ],
   "source": [
    "school = {'NLCS': 'North London Collegiate School',\n",
    "          'BHA': 'Branksome Hall Asia',\n",
    "          'KIS': 'Korea International School',\n",
    "          'SJA': 'St. Johnsbury Academy'}\n",
    "\n",
    "print(school[input()])"
   ]
  }
 ],
 "metadata": {
  "kernelspec": {
   "display_name": "venv",
   "language": "python",
   "name": "venv"
  },
  "language_info": {
   "codemirror_mode": {
    "name": "ipython",
    "version": 3
   },
   "file_extension": ".py",
   "mimetype": "text/x-python",
   "name": "python",
   "nbconvert_exporter": "python",
   "pygments_lexer": "ipython3",
   "version": "3.11.2"
  }
 },
 "nbformat": 4,
 "nbformat_minor": 2
}
