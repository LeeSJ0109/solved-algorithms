{
 "cells": [
  {
   "cell_type": "markdown",
   "metadata": {},
   "source": [
    "## 문제\n",
    "10진법 수 N이 주어진다. 이 수를 B진법으로 바꿔 출력하는 프로그램을 작성하시오.\n",
    "\n",
    "10진법을 넘어가는 진법은 숫자로 표시할 수 없는 자리가 있다. 이런 경우에는 다음과 같이 알파벳 대문자를 사용한다.\n",
    "\n",
    "A: 10, B: 11, ..., F: 15, ..., Y: 34, Z: 35\n",
    "\n",
    "## 입력\n",
    "첫째 줄에 N과 B가 주어진다. (2 ≤ B ≤ 36) N은 10억보다 작거나 같은 자연수이다.\n",
    "\n",
    "## 출력\n",
    "첫째 줄에 10진법 수 N을 B진법으로 출력한다.\n"
   ]
  },
  {
   "cell_type": "code",
   "execution_count": 4,
   "metadata": {},
   "outputs": [],
   "source": [
    "notation = {i:str(i) for i in range(10)}\n",
    "notation.update({i + 10:chr(ord('A') + i) for i in range(26)})\n",
    "    \n",
    "def to_baseB(N, B):\n",
    "    q, r = divmod(N, B)\n",
    "    \n",
    "    if q == 0:\n",
    "        return notation.get(r)\n",
    "    else:\n",
    "        return to_baseB(q, B) + notation.get(r)"
   ]
  },
  {
   "cell_type": "code",
   "execution_count": 7,
   "metadata": {},
   "outputs": [
    {
     "name": "stdout",
     "output_type": "stream",
     "text": [
      "ZZZZZ\n"
     ]
    }
   ],
   "source": [
    "N, B = map(int, input().split())\n",
    "\n",
    "print(to_baseB(N, B))"
   ]
  }
 ],
 "metadata": {
  "kernelspec": {
   "display_name": "venv",
   "language": "python",
   "name": "venv"
  },
  "language_info": {
   "codemirror_mode": {
    "name": "ipython",
    "version": 3
   },
   "file_extension": ".py",
   "mimetype": "text/x-python",
   "name": "python",
   "nbconvert_exporter": "python",
   "pygments_lexer": "ipython3",
   "version": "3.11.2"
  }
 },
 "nbformat": 4,
 "nbformat_minor": 2
}
