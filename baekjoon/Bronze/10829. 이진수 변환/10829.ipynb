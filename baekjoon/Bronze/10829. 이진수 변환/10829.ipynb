{
 "cells": [
  {
   "cell_type": "markdown",
   "metadata": {},
   "source": [
    "## 문제\n",
    "자연수 N이 주어진다. N을 이진수로 바꿔서 출력하는 프로그램을 작성하시오.\n",
    "\n",
    "## 입력\n",
    "첫째 줄에 자연수 N이 주어진다. (1 ≤ N ≤ 100,000,000,000,000)\n",
    "\n",
    "## 출력\n",
    "N을 이진수로 바꿔서 출력한다. 이진수는 0으로 시작하면 안 된다.\n"
   ]
  },
  {
   "cell_type": "code",
   "execution_count": 1,
   "metadata": {},
   "outputs": [
    {
     "name": "stdout",
     "output_type": "stream",
     "text": [
      "110101\n"
     ]
    }
   ],
   "source": [
    "N = int(input())\n",
    "print(bin(N)[2:])"
   ]
  }
 ],
 "metadata": {
  "kernelspec": {
   "display_name": "venv",
   "language": "python",
   "name": "venv"
  },
  "language_info": {
   "codemirror_mode": {
    "name": "ipython",
    "version": 3
   },
   "file_extension": ".py",
   "mimetype": "text/x-python",
   "name": "python",
   "nbconvert_exporter": "python",
   "pygments_lexer": "ipython3",
   "version": "3.11.2"
  }
 },
 "nbformat": 4,
 "nbformat_minor": 2
}
