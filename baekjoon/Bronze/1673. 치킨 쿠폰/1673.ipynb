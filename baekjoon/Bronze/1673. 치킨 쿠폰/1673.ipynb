{
 "cells": [
  {
   "cell_type": "markdown",
   "metadata": {},
   "source": [
    "## 문제\n",
    "강민이는 치킨 한 마리를 주문할 수 있는 치킨 쿠폰을 n장 가지고 있다. 이 치킨집에서는 치킨을 한 마리 주문할 때마다 도장을 하나씩 찍어 주는데, 도장을 k개 모으면 치킨 쿠폰 한 장으로 교환할 수 있다.\n",
    "\n",
    "강민이가 지금 갖고 있는 치킨 쿠폰으로 치킨을 최대 몇 마리나 먹을 수 있는지 구하여라. 단, 치킨을 주문하기 위해서는 반드시 치킨 쿠폰을 갖고 있어야 한다.\n",
    "\n",
    "## 입력\n",
    "여러 줄에 걸쳐서 자연수 n과 k가 주어진다.\n",
    "\n",
    "## 출력\n",
    "각 입력마다 한 줄에 정답을 출력한다.\n",
    "\n",
    "## 제한\n",
    "- 1 < k ≤ n ≤ 1,000,000,000"
   ]
  },
  {
   "cell_type": "code",
   "execution_count": 3,
   "metadata": {},
   "outputs": [],
   "source": [
    "def max_chickens(n, k):\n",
    "    total, coupons = n, n\n",
    "\n",
    "    while coupons >= k:\n",
    "        chicken, r = divmod(coupons, k)\n",
    "        coupons = r + chicken\n",
    "        total += chicken\n",
    "        \n",
    "    return total"
   ]
  },
  {
   "cell_type": "code",
   "execution_count": 4,
   "metadata": {},
   "outputs": [
    {
     "name": "stdout",
     "output_type": "stream",
     "text": [
      "5\n",
      "14\n",
      "124\n"
     ]
    }
   ],
   "source": [
    "while True:\n",
    "    try:\n",
    "        n, k = map(int, input().split())\n",
    "        print(max_chickens(n, k))\n",
    "    except:\n",
    "        break"
   ]
  }
 ],
 "metadata": {
  "kernelspec": {
   "display_name": "venv",
   "language": "python",
   "name": "venv"
  },
  "language_info": {
   "codemirror_mode": {
    "name": "ipython",
    "version": 3
   },
   "file_extension": ".py",
   "mimetype": "text/x-python",
   "name": "python",
   "nbconvert_exporter": "python",
   "pygments_lexer": "ipython3",
   "version": "3.11.2"
  }
 },
 "nbformat": 4,
 "nbformat_minor": 2
}
