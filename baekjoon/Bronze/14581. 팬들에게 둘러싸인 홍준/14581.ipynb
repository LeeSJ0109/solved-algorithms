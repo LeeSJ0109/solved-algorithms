{
 "cells": [
  {
   "cell_type": "markdown",
   "metadata": {},
   "source": [
    "## 문제\n",
    "홍준은 참 팬이 많다. 이를 본 구사과는 BOJ 슬랙에서 이모티콘을 만들었다.\n",
    "\n",
    "<center>\n",
    "<img src=\"../Image/14581.png\">\n",
    "</center>\n",
    "\n",
    "선풍기 모양의 이모티콘은 :fan: 이고, 홍준의 이모티콘은 :(홍준의 아이디): 이다. 홍준의 아이디가 주어지면 구사과가 만든 이모티콘을 출력하는 프로그램을 작성하여라. 자세한 출력 방식은 입출력 형식을 참고하면 된다.\n",
    "\n",
    "## 입력\n",
    "첫 번째 줄에 홍준의 아이디를 입력받는다. 홍준의 아이디는 길이가 20 이하인 문자열이며, 알파벳 소문자, 알파벳 대문자, 숫자로만 이루어졌다.\n",
    "\n",
    "## 출력\n",
    "3개의 줄에 걸쳐, 팬들에게 둘러싸인 홍준의 모습을 출력한다.\n"
   ]
  },
  {
   "cell_type": "code",
   "execution_count": 3,
   "metadata": {},
   "outputs": [
    {
     "name": "stdout",
     "output_type": "stream",
     "text": [
      ":fan::fan::fan:\n",
      ":fan::h0ngjun7::fan:\n",
      ":fan::fan::fan:\n"
     ]
    }
   ],
   "source": [
    "hongjun = ':' + input() + ':'\n",
    "fan = ':fan:'\n",
    "\n",
    "print(fan * 3)\n",
    "print(fan + hongjun + fan)\n",
    "print(fan * 3)"
   ]
  }
 ],
 "metadata": {
  "kernelspec": {
   "display_name": "venv",
   "language": "python",
   "name": "venv"
  },
  "language_info": {
   "codemirror_mode": {
    "name": "ipython",
    "version": 3
   },
   "file_extension": ".py",
   "mimetype": "text/x-python",
   "name": "python",
   "nbconvert_exporter": "python",
   "pygments_lexer": "ipython3",
   "version": "3.11.2"
  }
 },
 "nbformat": 4,
 "nbformat_minor": 2
}
