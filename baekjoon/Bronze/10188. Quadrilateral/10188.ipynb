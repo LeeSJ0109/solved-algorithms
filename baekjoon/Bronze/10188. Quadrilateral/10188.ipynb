{
 "cells": [
  {
   "cell_type": "markdown",
   "metadata": {},
   "source": [
    "## 문제\n",
    "A quadrilateral is a 4-sided figure. For this program, print out a 4 sided figure using the capital letter X. The largest side will be 20, and the smallest side will be 1.\n",
    "\n",
    "## 입력\n",
    "The first line consists of the number of data sets. Each data set consists of 2 integers, the length and width of the quadrilateral.\n",
    "\n",
    "## 출력\n",
    "Print out the quadrilateral using the capital letter X, each quadrilateral separated by a blank line.\n"
   ]
  },
  {
   "cell_type": "code",
   "execution_count": 2,
   "metadata": {},
   "outputs": [
    {
     "name": "stdout",
     "output_type": "stream",
     "text": [
      "XX\n",
      "XX\n",
      "XX\n",
      "\n",
      "XXXXX\n",
      "\n",
      "XXXXXXXXXXXXXXXXXXXX\n",
      "XXXXXXXXXXXXXXXXXXXX\n",
      "XXXXXXXXXXXXXXXXXXXX\n",
      "XXXXXXXXXXXXXXXXXXXX\n",
      "XXXXXXXXXXXXXXXXXXXX\n",
      "XXXXXXXXXXXXXXXXXXXX\n",
      "XXXXXXXXXXXXXXXXXXXX\n",
      "XXXXXXXXXXXXXXXXXXXX\n",
      "\n"
     ]
    }
   ],
   "source": [
    "T = int(input())\n",
    "\n",
    "for _ in range(T):\n",
    "    length, width = map(int, input().split())\n",
    "    for _ in range(width):\n",
    "        print('X' * length)\n",
    "    print()"
   ]
  }
 ],
 "metadata": {
  "kernelspec": {
   "display_name": "venv",
   "language": "python",
   "name": "venv"
  },
  "language_info": {
   "codemirror_mode": {
    "name": "ipython",
    "version": 3
   },
   "file_extension": ".py",
   "mimetype": "text/x-python",
   "name": "python",
   "nbconvert_exporter": "python",
   "pygments_lexer": "ipython3",
   "version": "3.11.2"
  }
 },
 "nbformat": 4,
 "nbformat_minor": 2
}
