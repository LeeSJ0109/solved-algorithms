{
 "cells": [
  {
   "cell_type": "markdown",
   "metadata": {},
   "source": [
    "## 문제\n",
    "다음의 점화식에 의해 정해지는 수열 C(n)을 생각하자:\n",
    "\n",
    ">     C(n+1) = C(n)/2     (C(n)이 짝수일 때)\n",
    ">            = 3*C(n)+1   (C(n)이 홀수일 때)\n",
    "초항 C(1)이 자연수로 주어지면, 이 점화식은 자연수로 이루어지는 수열을 정한다.  예를 들어, C(1)=26이면, 다음의 수열이 된다.\n",
    "\n",
    "26, 13, 40, 20, 10, 5, 16, 8, 4, 2, 1, 4, 2, 1, 4, 2, 1, ...\n",
    "\n",
    "이 경우, 수열의 뒷부분은 4, 2, 1 이 끝없이 반복된다. 실제로 C(1)이 5×260보다 작은 자연수인 모든 수열은 언젠가는 4, 2, 1로 끝나게 된다는 것이 알려져 있다.\n",
    "\n",
    "주어진 입력 C(1)에 대하여 C(n)이 처음으로 1이 되는 n을 출력하시오.\n",
    "\n",
    "## 입력\n",
    "C(1); 1 ≤ C(1) ≤ 100000\n",
    "\n",
    "## 출력\n",
    "C(n)이 처음으로 1이 되는 n\n"
   ]
  },
  {
   "cell_type": "code",
   "execution_count": 4,
   "metadata": {},
   "outputs": [
    {
     "name": "stdout",
     "output_type": "stream",
     "text": [
      "17\n"
     ]
    }
   ],
   "source": [
    "C = [int(input())]\n",
    "\n",
    "while True:\n",
    "    if C[-1] == 1:\n",
    "        break\n",
    "    \n",
    "    if C[-1] % 2:\n",
    "        C.append(3 * C[-1] + 1)\n",
    "    else:\n",
    "        C.append(C[-1] // 2)\n",
    "    \n",
    "print(len(C))"
   ]
  }
 ],
 "metadata": {
  "kernelspec": {
   "display_name": "venv",
   "language": "python",
   "name": "venv"
  },
  "language_info": {
   "codemirror_mode": {
    "name": "ipython",
    "version": 3
   },
   "file_extension": ".py",
   "mimetype": "text/x-python",
   "name": "python",
   "nbconvert_exporter": "python",
   "pygments_lexer": "ipython3",
   "version": "3.11.2"
  }
 },
 "nbformat": 4,
 "nbformat_minor": 2
}
