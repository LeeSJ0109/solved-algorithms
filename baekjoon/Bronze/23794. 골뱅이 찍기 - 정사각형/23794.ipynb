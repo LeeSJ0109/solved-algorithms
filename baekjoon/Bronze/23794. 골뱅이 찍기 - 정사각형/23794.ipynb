{
 "cells": [
  {
   "cell_type": "markdown",
   "metadata": {},
   "source": [
    "## 문제\n",
    "첫째 줄과 \n",
    "$N+2$번째 줄에는 골뱅이 \n",
    "$N+2$개를 출력한다.\n",
    "\n",
    "둘째 줄부터 \n",
    "$N+1$번째 줄까지는 예제 출력과 같은 방식으로 골뱅이 \n",
    "$2$개와 공백 \n",
    "$N$개를 출력한다.\n",
    "\n",
    "## 입력\n",
    "첫째 줄에 정수 \n",
    "$N$(\n",
    "$1 \\leq N \\leq 100$)이 주어진다.\n",
    "\n",
    "## 출력\n",
    "첫째 줄부터 \n",
    "$N+2$번째 줄까지 차례대로 골뱅이를 출력한다.\n"
   ]
  },
  {
   "cell_type": "code",
   "execution_count": 3,
   "metadata": {},
   "outputs": [
    {
     "name": "stdout",
     "output_type": "stream",
     "text": [
      "@@@@@\n",
      "@   @\n",
      "@   @\n",
      "@   @\n",
      "@@@@@\n"
     ]
    }
   ],
   "source": [
    "N = int(input())\n",
    "\n",
    "for i in range(N+2):\n",
    "    if i == 0 or i == N+1:\n",
    "        print('@' * (N+2))\n",
    "    else:\n",
    "        print('@', ' ' * N, '@', sep='')"
   ]
  }
 ],
 "metadata": {
  "kernelspec": {
   "display_name": "venv",
   "language": "python",
   "name": "venv"
  },
  "language_info": {
   "codemirror_mode": {
    "name": "ipython",
    "version": 3
   },
   "file_extension": ".py",
   "mimetype": "text/x-python",
   "name": "python",
   "nbconvert_exporter": "python",
   "pygments_lexer": "ipython3",
   "version": "3.11.2"
  }
 },
 "nbformat": 4,
 "nbformat_minor": 2
}
