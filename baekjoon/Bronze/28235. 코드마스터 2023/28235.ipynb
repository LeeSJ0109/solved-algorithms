{
 "cells": [
  {
   "cell_type": "markdown",
   "metadata": {},
   "source": [
    "## 문제\n",
    "송도고등학교에서 주최하는 첫 중고등학생 대상 알고리즘 대회, \"코드마스터 2023\"이 열렸다!\n",
    "\n",
    "이 대회가 중고등학생들에게 인기 있는 알고리즘 대회이자 오프라인 이벤트로서 자리매김할 수 있도록 운영진은 각고의 준비를 했다.\n",
    "\n",
    "대회를 시작하며 다음 네 가지 구호에 맞춰 알맞은 응원을 하는 프로그램을 작성하여라.\n",
    "\n",
    "- 구호 <span style=\"color: red\">SONGDO</span>에 대해 <span style=\"color: red\">HIGHSCHOOL</span>로 응원.\n",
    "- 구호 <span style=\"color: red\">CODE</span>에 대해 <span style=\"color: red\">MASTER</span>로 응원.\n",
    "- 구호 <span style=\"color: red\">2023</span>에 대해 <span style=\"color: red\">0611</span>로 응원.\n",
    "- 구호 <span style=\"color: red\">ALGORITHM</span>에 대해 <span style=\"color: red\">CONTEST</span>로 응원.\n",
    "\n",
    "## 입력\n",
    "첫 번째 줄에 네 가지 구호 중 한 가지에 해당하는 문자열이 주어진다.\n",
    "\n",
    "## 출력\n",
    "주어진 구호에 맞춰 알맞은 응원에 해당하는 문자열을 출력한다.\n"
   ]
  },
  {
   "cell_type": "code",
   "execution_count": 2,
   "metadata": {},
   "outputs": [
    {
     "name": "stdout",
     "output_type": "stream",
     "text": [
      "MASTER\n"
     ]
    }
   ],
   "source": [
    "cheer = {'SONGDO': 'HIGHSCHOOL',\n",
    "         'CODE': 'MASTER',\n",
    "         '2023': '0611',\n",
    "         'ALGORITHM': 'CONTEST'}\n",
    "\n",
    "print(cheer.get(input()))"
   ]
  }
 ],
 "metadata": {
  "kernelspec": {
   "display_name": "venv",
   "language": "python",
   "name": "venv"
  },
  "language_info": {
   "codemirror_mode": {
    "name": "ipython",
    "version": 3
   },
   "file_extension": ".py",
   "mimetype": "text/x-python",
   "name": "python",
   "nbconvert_exporter": "python",
   "pygments_lexer": "ipython3",
   "version": "3.11.2"
  }
 },
 "nbformat": 4,
 "nbformat_minor": 2
}
