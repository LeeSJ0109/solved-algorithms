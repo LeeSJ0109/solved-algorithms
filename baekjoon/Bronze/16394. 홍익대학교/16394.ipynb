{
 "cells": [
  {
   "cell_type": "markdown",
   "metadata": {},
   "source": [
    "## 문제\n",
    "홍익대학교는 1946년에 개교하였다.\n",
    "\n",
    "특정 년도가 주어졌을 때, 그 해가 개교 몇 주년인지 출력하라.\n",
    "\n",
    "단, 홍익대학교는 없어지지 않는다고 가정한다.\n",
    "\n",
    "## 입력\n",
    "입력으로 첫 줄에 특정 년도를 알리는 정수 N이 주어진다. 정수 N은 1,946 부터 1,000,000 사이의 값이다. (1,946 ≤ N ≤ 1,000,000)\n",
    "\n",
    "## 출력\n",
    "출력으로 홍익대학교의 개교 주년을 나타내는 정수를 출력한다.\n"
   ]
  },
  {
   "cell_type": "code",
   "execution_count": 1,
   "metadata": {},
   "outputs": [
    {
     "name": "stdout",
     "output_type": "stream",
     "text": [
      "72\n"
     ]
    }
   ],
   "source": [
    "print(int(input()) - 1946)"
   ]
  }
 ],
 "metadata": {
  "kernelspec": {
   "display_name": "venv",
   "language": "python",
   "name": "venv"
  },
  "language_info": {
   "codemirror_mode": {
    "name": "ipython",
    "version": 3
   },
   "file_extension": ".py",
   "mimetype": "text/x-python",
   "name": "python",
   "nbconvert_exporter": "python",
   "pygments_lexer": "ipython3",
   "version": "3.11.2"
  }
 },
 "nbformat": 4,
 "nbformat_minor": 2
}
