{
 "cells": [
  {
   "cell_type": "markdown",
   "metadata": {},
   "source": [
    "## 문제\n",
    "\n",
    "- Innovations for Humanity, Mobility for Tomorrow\n",
    "현대 모비스의 **MOBIS** 는 어떤 뜻을 가지고 있을까?\n",
    "\n",
    "**MOBIS**는 기존에는 Mobile + System의 합성어에서 시작되었지만, 현재는 \"Mobility Beyond Integrated Solution\" 라는 의미로 재정의 되었다.\n",
    "\n",
    "이는 사용자의 경험을 혁신하고, 고객의 요구에 최적화된 통합 솔루션, 그 이상의 가치를 전달하는 모빌리티 플랫폼 프로바이더로 도약하겠다는 뜻을 가지고 있다.\n",
    "\n",
    "\n",
    "\n",
    "이 뜻에 매료된 진익이는 스티커 용지에 인쇄되어 있는 문자들 중 **'M', 'O', 'B', 'I', 'S'** 만을 오리고 적절히 배치하여 노트북에 **MOBIS**를 붙여놓고자 한다.\n",
    "\n",
    "스티커 용지에 인쇄되어 있는 문자열이 주어진다. 이 문자들을 이용해 MOBIS를 만들 수 있을까?\n",
    "\n",
    "## 입력\n",
    "첫째 줄에 문자열이 주어진다.\n",
    "\n",
    "## 출력\n",
    "주어진 문자열에 포함된 알파벳 대문자들을 이용해 **MOBIS**를 만들 수 있으면 \"YES\", 그렇지 않으면 \"NO\"를 출력한다.\n",
    "\n",
    "## 제한\n",
    "- 1 ≤ 문자열의 길이 ≤ 100\n",
    "- 문자열은 알파벳 대문자로만 이루어져 있다."
   ]
  },
  {
   "cell_type": "code",
   "execution_count": 1,
   "metadata": {},
   "outputs": [
    {
     "name": "stdout",
     "output_type": "stream",
     "text": [
      "NO\n"
     ]
    }
   ],
   "source": [
    "word = input()\n",
    "\n",
    "if 'M' in word and \"O\" in word and \"B\" in word and \"I\" in word and \"S\" in word:\n",
    "    print(\"YES\")\n",
    "else:\n",
    "    print(\"NO\")"
   ]
  }
 ],
 "metadata": {
  "kernelspec": {
   "display_name": "venv",
   "language": "python",
   "name": "venv"
  },
  "language_info": {
   "codemirror_mode": {
    "name": "ipython",
    "version": 3
   },
   "file_extension": ".py",
   "mimetype": "text/x-python",
   "name": "python",
   "nbconvert_exporter": "python",
   "pygments_lexer": "ipython3",
   "version": "3.11.2"
  }
 },
 "nbformat": 4,
 "nbformat_minor": 2
}
