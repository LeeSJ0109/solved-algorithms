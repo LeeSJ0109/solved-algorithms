{
 "cells": [
  {
   "cell_type": "markdown",
   "metadata": {},
   "source": [
    "## 문제\n",
    "양의 정수 \n",
    "$W$, \n",
    "$H$가 주어진다. 밑변의 길이가 \n",
    "$W$이고, 높이가 \n",
    "$H$인 삼각형의 넓이를 구하시오.\n",
    "\n",
    "## 입력\n",
    "정수 \n",
    "$W$, \n",
    "$H$가 공백으로 구분되어 주어진다. \n",
    "$(1 \\le W, H \\le 100)$ \n",
    "\n",
    "## 출력\n",
    "밑변의 길이가 \n",
    "$W$이고, 높이가 \n",
    "$H$인 삼각형의 넓이를 출력한다. **넓이는 항상 소수점 아래 첫 번째 자리까지 출력한다.**\n"
   ]
  },
  {
   "cell_type": "code",
   "execution_count": 3,
   "metadata": {},
   "outputs": [
    {
     "name": "stdout",
     "output_type": "stream",
     "text": [
      "3.0\n"
     ]
    }
   ],
   "source": [
    "W, H = map(int, input().split())\n",
    "print('{:.1f}'.format(W * H * 0.5))"
   ]
  }
 ],
 "metadata": {
  "kernelspec": {
   "display_name": "venv",
   "language": "python",
   "name": "python3"
  },
  "language_info": {
   "codemirror_mode": {
    "name": "ipython",
    "version": 3
   },
   "file_extension": ".py",
   "mimetype": "text/x-python",
   "name": "python",
   "nbconvert_exporter": "python",
   "pygments_lexer": "ipython3",
   "version": "3.11.2"
  }
 },
 "nbformat": 4,
 "nbformat_minor": 2
}
