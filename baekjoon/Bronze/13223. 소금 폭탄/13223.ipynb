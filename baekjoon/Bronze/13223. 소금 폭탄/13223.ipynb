{
 "cells": [
  {
   "cell_type": "markdown",
   "metadata": {},
   "source": [
    "## 문제\n",
    "철수는 화학 시험을 망치고, 애꿎은 화학 선생님에게 복수를하기로 한다.\n",
    "\n",
    "철수는 집에서 만든 자동 로봇팔을 선생님의 책상에 숨겨, 선생님이 수업을 시작하려 들어온 순간 숨겨놓은 로봇팔을 이용해 선생님을 혼내주려고한다. 철수는 선생님이 늘 애용하는 물컵에 시간이 되면 로봇팔이 소금을 잔뜩 집어넣도록 프로그램을 짜려고한다.\n",
    "\n",
    "철수는 현재시각과 선생님이 언제 컵을 사용할지 시간을 알고있지만, 수 계산에 정말 약해서 로봇팔에 입력해야할 시간 계산을 못한다. 철수가 로봇팔에 알맞은 시간을 입력할수 있도록 도와주자.\n",
    "\n",
    "## 입력\n",
    "첫째 줄에는 현재 시각이 hh:mm:ss로 주어진다. 시간의 경우 0≤h≤23 이며, 분과 초는 각각 0≤m≤59, 0≤s≤59 이다.\n",
    "\n",
    "두 번째 줄에는 소금 투하의 시간이 hh:mm:ss로 주어진다.\n",
    "\n",
    "## 출력\n",
    "로봇팔이 소금을 투하할때까지 필요한 시간을 hh:mm:ss로 출력한다. 이 시간은 1초보다 크거나 같고, 24시간보다 작거나 같다.\n"
   ]
  },
  {
   "cell_type": "code",
   "execution_count": 9,
   "metadata": {},
   "outputs": [
    {
     "name": "stdout",
     "output_type": "stream",
     "text": [
      "02:01:26\n"
     ]
    }
   ],
   "source": [
    "h, m, s = map(int, input().split(':'))\n",
    "now = h * 3600 + m * 60 + s\n",
    "h, m, s = map(int, input().split(':'))\n",
    "salt = h * 3600 + m * 60 + s\n",
    "\n",
    "need = salt - now\n",
    "if need <= 0:\n",
    "    need += 24 * 3600\n",
    "\n",
    "h = str(need // 3600).zfill(2)\n",
    "m = str(need % 3600 // 60).zfill(2)\n",
    "s = str(need % 60).zfill(2)\n",
    "\n",
    "print(h, m, s, sep=':')"
   ]
  }
 ],
 "metadata": {
  "kernelspec": {
   "display_name": "venv",
   "language": "python",
   "name": "venv"
  },
  "language_info": {
   "codemirror_mode": {
    "name": "ipython",
    "version": 3
   },
   "file_extension": ".py",
   "mimetype": "text/x-python",
   "name": "python",
   "nbconvert_exporter": "python",
   "pygments_lexer": "ipython3",
   "version": "3.11.2"
  }
 },
 "nbformat": 4,
 "nbformat_minor": 2
}
