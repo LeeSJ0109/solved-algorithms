{
 "cells": [
  {
   "cell_type": "markdown",
   "metadata": {},
   "source": [
    "## 문제\n",
    "아래 예제 출력과 같은 J박스를 출력하는 프로그램을 작성하시오.\n",
    "\n",
    "## 입력\n",
    "첫째 줄에 테스트 케이스의 개수가 주어진다. 각 테스트 케이스는 한 줄로 이루어져 있고, 박스의 크기가 주어진다. 박스의 크기는 10보다 작거나 같다.\n",
    "\n",
    "## 출력\n",
    "각 테스트 케이스에 대해서, 입력으로 주어지는 크기의 J박스를 출력한다. 박스와 박스 사이에는 빈 줄을 하나 출력한다.\n"
   ]
  },
  {
   "cell_type": "code",
   "execution_count": 20,
   "metadata": {},
   "outputs": [
    {
     "name": "stdout",
     "output_type": "stream",
     "text": [
      "#####\n",
      "#JJJ#\n",
      "#JJJ#\n",
      "#JJJ#\n",
      "##### \n",
      "\n",
      "####\n",
      "#JJ#\n",
      "#JJ#\n",
      "#### \n",
      "\n",
      "###\n",
      "#J#\n",
      "### \n",
      "\n"
     ]
    }
   ],
   "source": [
    "for _ in range(int(input())):\n",
    "    n = int(input())\n",
    "    if n < 3:\n",
    "        for i in range(n):\n",
    "            print('#' * n)\n",
    "        print()\n",
    "    else:\n",
    "        print('#' * n)\n",
    "        for i in range(n-2):\n",
    "            print('#' + 'J' * (n - 2) + '#')\n",
    "        print('#' * n, '\\n')"
   ]
  }
 ],
 "metadata": {
  "kernelspec": {
   "display_name": "venv",
   "language": "python",
   "name": "venv"
  },
  "language_info": {
   "codemirror_mode": {
    "name": "ipython",
    "version": 3
   },
   "file_extension": ".py",
   "mimetype": "text/x-python",
   "name": "python",
   "nbconvert_exporter": "python",
   "pygments_lexer": "ipython3",
   "version": "3.11.2"
  }
 },
 "nbformat": 4,
 "nbformat_minor": 2
}
