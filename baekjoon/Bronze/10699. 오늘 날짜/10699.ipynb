{
 "cells": [
  {
   "cell_type": "markdown",
   "metadata": {},
   "source": [
    "## 문제\n",
    "서울의 오늘 날짜를 출력하는 프로그램을 작성하시오.\n",
    "\n",
    "## 입력\n",
    "입력은 없다.\n",
    "\n",
    "## 출력\n",
    "서울의 오늘 날짜를 \"YYYY-MM-DD\" 형식으로 출력한다.\n"
   ]
  },
  {
   "cell_type": "code",
   "execution_count": 6,
   "metadata": {},
   "outputs": [
    {
     "name": "stdout",
     "output_type": "stream",
     "text": [
      "2023-11-15\n"
     ]
    }
   ],
   "source": [
    "from datetime import date\n",
    "\n",
    "print(str(date.today()))"
   ]
  }
 ],
 "metadata": {
  "kernelspec": {
   "display_name": "venv",
   "language": "python",
   "name": "venv"
  },
  "language_info": {
   "codemirror_mode": {
    "name": "ipython",
    "version": 3
   },
   "file_extension": ".py",
   "mimetype": "text/x-python",
   "name": "python",
   "nbconvert_exporter": "python",
   "pygments_lexer": "ipython3",
   "version": "3.11.2"
  }
 },
 "nbformat": 4,
 "nbformat_minor": 2
}
