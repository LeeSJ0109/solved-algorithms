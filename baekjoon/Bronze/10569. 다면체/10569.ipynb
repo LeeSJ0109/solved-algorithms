{
 "cells": [
  {
   "cell_type": "markdown",
   "id": "b5e72103",
   "metadata": {},
   "source": [
    "## 문제\n",
    "\n",
    "<img src=\"../../images/10569.png\">\n",
    "\n",
    "수학자가 구를 깎아서 볼록다면체를 만들었다. 이 수학자는 임의의 볼록다면체에 대해 (꼭짓점의 수) - (모서리의 수) + (면의 수) = 2가 성립한다는 것을 알고 있다. 그래서 구를 깎는 게 취미인 이 사람은 꼭짓점, 모서리와 면의 수를 기록할 때 꼭짓점과 모서리의 수만 세고 면의 수는 세지 않는다.\n",
    "\n",
    "## 입력\n",
    "첫 번째 줄에 1 이상 100 이하의 자연수 T가 주어진다.\n",
    "\n",
    "다음 T개의 줄에 4 이상 100 이하의 자연수 V와 E가 공백을 사이에 두고 주어진다. V와 E는 각각 꼭짓점의 개수와 모서리의 개수이다.\n",
    "\n",
    "## 출력\n",
    "각 V와 E에 대해 볼록다면체의 면의 수를 한 줄에 하나씩 출력한다."
   ]
  },
  {
   "cell_type": "code",
   "execution_count": 1,
   "id": "ee41382d",
   "metadata": {},
   "outputs": [
    {
     "name": "stdout",
     "output_type": "stream",
     "text": [
      "6\n",
      "4\n"
     ]
    }
   ],
   "source": [
    "T = int(input())\n",
    "    \n",
    "for _ in range(T):\n",
    "    V, E = map(int, input().split())\n",
    "    F = 2 - V + E\n",
    "    print(F)"
   ]
  }
 ],
 "metadata": {
  "kernelspec": {
   "display_name": "Python 3",
   "language": "python",
   "name": "python3"
  },
  "language_info": {
   "codemirror_mode": {
    "name": "ipython",
    "version": 3
   },
   "file_extension": ".py",
   "mimetype": "text/x-python",
   "name": "python",
   "nbconvert_exporter": "python",
   "pygments_lexer": "ipython3",
   "version": "3.12.8"
  }
 },
 "nbformat": 4,
 "nbformat_minor": 5
}
