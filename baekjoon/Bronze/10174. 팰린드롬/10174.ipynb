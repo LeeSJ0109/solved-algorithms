{
 "cells": [
  {
   "cell_type": "markdown",
   "metadata": {},
   "source": [
    "## 문제\n",
    "팰린드롬은 앞으로 읽으나 뒤로 읽으나 똑같은 단어나 숫자들을 말한다. 일반적으로 대소문자를 구분하지 않지만, **공백은 구분**한다.\n",
    "\n",
    "다음은 팰린드롬의 예시이다.\n",
    "\n",
    "- Anna\n",
    "- Harrah\n",
    "- Arora\n",
    "- Nat tan\n",
    "- 9998999\n",
    "- 123 321\n",
    "- `$$$&&$$$`\n",
    "\n",
    "모든 라인에 대해 팰린드롬인지 아닌지를 구분하는 프로그램을 작성하시오.\n",
    "\n",
    "## 입력\n",
    "첫째 줄에 테스트 케이스의 개수 n이 주어진다.\n",
    "\n",
    "각 테스트 케이스는 한 줄의 텍스트로 이루어져있으며, 최대 18글자로 이루어져 있다. 비어있는 줄은 없다.\n",
    "\n",
    "## 출력\n",
    "각 테스트 케이스에 대해 정답을 출력한다.\n",
    "\n",
    "팰린드롬일 경우 \"Yes\"를 출력하고, 그렇지 않을 경우 \"No\"를 출력한다.\n"
   ]
  },
  {
   "cell_type": "code",
   "execution_count": 1,
   "metadata": {},
   "outputs": [
    {
     "name": "stdout",
     "output_type": "stream",
     "text": [
      "Yes\n",
      "No\n",
      "Yes\n",
      "No\n",
      "No\n",
      "No\n"
     ]
    }
   ],
   "source": [
    "n = int(input())\n",
    "\n",
    "for _ in range(n):\n",
    "    text = input().lower()\n",
    "    if text == text[::-1]:\n",
    "        print(\"Yes\")\n",
    "    else:\n",
    "        print(\"No\")"
   ]
  }
 ],
 "metadata": {
  "kernelspec": {
   "display_name": "venv",
   "language": "python",
   "name": "venv"
  },
  "language_info": {
   "codemirror_mode": {
    "name": "ipython",
    "version": 3
   },
   "file_extension": ".py",
   "mimetype": "text/x-python",
   "name": "python",
   "nbconvert_exporter": "python",
   "pygments_lexer": "ipython3",
   "version": "3.11.2"
  }
 },
 "nbformat": 4,
 "nbformat_minor": 2
}
