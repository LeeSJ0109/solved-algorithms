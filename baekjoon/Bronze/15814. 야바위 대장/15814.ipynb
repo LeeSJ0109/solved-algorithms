{
 "cells": [
  {
   "cell_type": "markdown",
   "metadata": {},
   "source": [
    "## 문제\n",
    "10년 동안 도박판에서 야바위를 한 영훈은 이제 보지 않고도 구슬이 있는 컵을 맞추는 지경에 이르렀다.\n",
    "\n",
    "이런 영훈을 골탕 먹이기 위해 문자열로 야바위를 하려고 한다.\n",
    "\n",
    "T번 동안 문자열 S의 A번째 위치에 있는 문자와 B번째 위치에 있는 문자를 바꾼 결과를 출력하는 프로그램을 작성하시오.\n",
    "\n",
    "## 입력\n",
    "첫 번째 줄에 문자열 S가 주어지고 두 번째 줄에 T가 주어진다. 문자열 S의 길이는 100보다 작거나 같은 자연수이며, 알파벳 대소문자와 하이픈(-)으로만 이루어져 있다. T는 50보다 작거나 같은 자연수이다.\n",
    "\n",
    "그 다음 T개의 줄에 걸쳐 A와 B가 주어진다.\n",
    "\n",
    "A와 B는 문자열의 길이보다 작은 음이 아닌 정수이며, 문자열의 맨 처음 글자는 0번째 글자이다.\n",
    "\n",
    "## 출력\n",
    "바뀐 문자열의 결과를 출력한다.\n"
   ]
  },
  {
   "cell_type": "code",
   "execution_count": 3,
   "metadata": {},
   "outputs": [
    {
     "name": "stdout",
     "output_type": "stream",
     "text": [
      "Yn-ogmaanugood\n"
     ]
    }
   ],
   "source": [
    "string = input()\n",
    "dic = {i: string[i] for i in range(len(string))}\n",
    "\n",
    "N = int(input())\n",
    "for _ in range(N):\n",
    "    A, B = map(int, input().split())\n",
    "    dic[A], dic[B] = dic[B], dic[A]\n",
    "    \n",
    "print(*dic.values(), sep='')"
   ]
  }
 ],
 "metadata": {
  "kernelspec": {
   "display_name": "venv",
   "language": "python",
   "name": "venv"
  },
  "language_info": {
   "codemirror_mode": {
    "name": "ipython",
    "version": 3
   },
   "file_extension": ".py",
   "mimetype": "text/x-python",
   "name": "python",
   "nbconvert_exporter": "python",
   "pygments_lexer": "ipython3",
   "version": "3.11.2"
  }
 },
 "nbformat": 4,
 "nbformat_minor": 2
}
