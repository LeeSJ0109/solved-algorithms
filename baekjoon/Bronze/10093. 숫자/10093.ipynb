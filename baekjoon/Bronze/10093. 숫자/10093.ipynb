{
 "cells": [
  {
   "cell_type": "markdown",
   "metadata": {},
   "source": [
    "## 문제\n",
    "두 양의 정수가 주어졌을 때, 두 수 사이에 있는 정수를 모두 출력하는 프로그램을 작성하시오.\n",
    "\n",
    "## 입력\n",
    "두 정수 A와 B가 주어진다.\n",
    "\n",
    "## 출력\n",
    "첫째 줄에 두 수 사이에 있는 수의 개수를 출력한다.\n",
    "\n",
    "둘째 줄에는 두 수 사이에 있는 수를 오름차순으로 출력한다.\n"
   ]
  },
  {
   "cell_type": "code",
   "execution_count": 10,
   "metadata": {},
   "outputs": [
    {
     "name": "stdout",
     "output_type": "stream",
     "text": [
      "5\n",
      "9 10 11 12 13\n"
     ]
    }
   ],
   "source": [
    "A, B = map(int, input().split())\n",
    "A, B = min(A, B), max(A, B)\n",
    "\n",
    "if A == B:\n",
    "    print(0)\n",
    "else:\n",
    "    print(B - A - 1)\n",
    "print(*[i for i in range(A + 1, B)])"
   ]
  }
 ],
 "metadata": {
  "kernelspec": {
   "display_name": "venv",
   "language": "python",
   "name": "venv"
  },
  "language_info": {
   "codemirror_mode": {
    "name": "ipython",
    "version": 3
   },
   "file_extension": ".py",
   "mimetype": "text/x-python",
   "name": "python",
   "nbconvert_exporter": "python",
   "pygments_lexer": "ipython3",
   "version": "3.11.2"
  }
 },
 "nbformat": 4,
 "nbformat_minor": 2
}
