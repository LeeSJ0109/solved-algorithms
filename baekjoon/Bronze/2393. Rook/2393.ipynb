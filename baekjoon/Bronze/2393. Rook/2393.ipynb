{
 "cells": [
  {
   "cell_type": "markdown",
   "metadata": {},
   "source": [
    "## 문제\n",
    "You have just learned how to output text to the screen and your teacher has challenged you to create an ASCII art of a chess piece. You have decided to make your favorite piece, the rook.\n",
    "\n",
    "## 출력\n",
    "The rook art, exactly as shown below, with no extra blank spaces. In particular, a line must not end with a blank space."
   ]
  },
  {
   "cell_type": "code",
   "execution_count": 1,
   "metadata": {},
   "outputs": [
    {
     "name": "stdout",
     "output_type": "stream",
     "text": [
      "  ___  ___  ___\n",
      "  | |__| |__| |\n",
      "  |           |\n",
      "   \\_________/\n",
      "    \\_______/\n",
      "     |     |\n",
      "     |     |\n",
      "     |     |\n",
      "     |     |\n",
      "     |_____|\n",
      "  __/       \\__\n",
      " /             \\\n",
      "/_______________\\\n"
     ]
    }
   ],
   "source": [
    "rook = '''  ___  ___  ___\n",
    "  | |__| |__| |\n",
    "  |           |\n",
    "   \\_________/\n",
    "    \\_______/\n",
    "     |     |\n",
    "     |     |\n",
    "     |     |\n",
    "     |     |\n",
    "     |_____|\n",
    "  __/       \\__\n",
    " /             \\\\\n",
    "/_______________\\\\'''\n",
    "\n",
    "print(rook)"
   ]
  }
 ],
 "metadata": {
  "kernelspec": {
   "display_name": "Python 3",
   "language": "python",
   "name": "python3"
  },
  "language_info": {
   "codemirror_mode": {
    "name": "ipython",
    "version": 3
   },
   "file_extension": ".py",
   "mimetype": "text/x-python",
   "name": "python",
   "nbconvert_exporter": "python",
   "pygments_lexer": "ipython3",
   "version": "3.10.6"
  }
 },
 "nbformat": 4,
 "nbformat_minor": 2
}
