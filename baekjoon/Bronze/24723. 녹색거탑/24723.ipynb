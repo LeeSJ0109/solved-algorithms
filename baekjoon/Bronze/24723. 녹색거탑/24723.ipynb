{
 "cells": [
  {
   "cell_type": "markdown",
   "metadata": {},
   "source": [
    "## 문제\n",
    "2022년 봄 어느 날.\n",
    "\n",
    "전 세계에 \n",
    "**코<span style=\"color:red\">딩괴물**</span>이 나타났다.\n",
    "\n",
    "그리고 코딩괴물과 함께 갑작스레 등장한 '**<span style=\"color:lime\">그것</span>**'...\n",
    "\n",
    "바로 \n",
    "**<span style=\"color:lime\">녹색거탑**</span>이다.\n",
    "\n",
    "녹색거탑의 정상에서는 매년 **NAVER**가 개최하는 개발자 컨퍼런스 **DEVIEW**가 열린다. 이 DEVIEW에 참여하면, 코딩에 깊은 깨달음을 얻어 코딩괴물이 될 수 있다고 전해진다. 그리고 코딩괴물은 녹색거탑의 정상에서 내려온다. 예전부터 전해 내려오는 **D2** 비전서에 의하면, 코딩괴물이 녹색거탑의 정상에서 내려오는 경우의 수를 파악한 사람은, 개발자 컨퍼런스 DEVIEW에 참여할 수 있다 한다. 그리고 DEVIEW에 참여해 본인도 코딩괴물이 될 수 있다!\n",
    "\n",
    "<center>\n",
    "<img src=\"../../images/24723.png\" width=60%>\n",
    "</center>\n",
    "\n",
    "녹색거탑은 위 그림과 같이 규칙적으로 쌓여있다.\n",
    "\n",
    "- 그림의 시야에 보이지 않는 블록은 없다.\n",
    "- 그림의 시야에 보이는 블록의 윗면만 이용해 녹색거탑을 내려올 수 있다.\n",
    "- 녹색거탑이 \n",
    "$N$층이면, 총 \n",
    "$N$개의 블록을 이용한 최단 경로로만 내려온다.\n",
    "- 녹색거탑을 내려올 때는 정상에서 시작해 노란색 바닥까지, 항상 인접한 아래층의 블록으로만 내려온다.\n",
    "\n",
    "**<span style=\"color:lime\">녹색거탑**</span>을 정복하고 **DEVIEW**에 참여하자.\n",
    "\n",
    "## 입력\n",
    "녹색거탑의 높이를 나타내는 정수 \n",
    "$N$이 주어진다. (\n",
    "$1 \\leq N \\leq 5$)\n",
    "\n",
    "## 출력\n",
    "녹색거탑의 정상에서 바닥으로 내려오는 경우의 수를 출력한다.\n"
   ]
  },
  {
   "cell_type": "code",
   "execution_count": 1,
   "metadata": {},
   "outputs": [
    {
     "name": "stdout",
     "output_type": "stream",
     "text": [
      "4\n"
     ]
    }
   ],
   "source": [
    "N = int(input())\n",
    "\n",
    "print(2**N)"
   ]
  }
 ],
 "metadata": {
  "kernelspec": {
   "display_name": "venv",
   "language": "python",
   "name": "venv"
  },
  "language_info": {
   "codemirror_mode": {
    "name": "ipython",
    "version": 3
   },
   "file_extension": ".py",
   "mimetype": "text/x-python",
   "name": "python",
   "nbconvert_exporter": "python",
   "pygments_lexer": "ipython3",
   "version": "3.11.2"
  }
 },
 "nbformat": 4,
 "nbformat_minor": 2
}
