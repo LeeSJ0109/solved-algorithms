{
 "cells": [
  {
   "cell_type": "markdown",
   "metadata": {},
   "source": [
    "## 문제\n",
    "올 골드 럭비 클럽의 회원들은 성인부 또는 청소년부로 분류된다.\n",
    "\n",
    "나이가 17세보다 많거나, 몸무게가 80kg 이상이면 성인부이다. 그 밖에는 모두 청소년부이다. 클럽 회원들을 올바르게 분류하라.\n",
    "\n",
    "## 입력\n",
    "각 줄은 이름과 두 자연수로 이루어진다. 두 자연수는 순서대로 나이와 몸무게를 나타낸다. 입력의 마지막 줄은 # 0 0 이다. 이 입력은 처리하지 않는다.\n",
    "\n",
    "이름은 알파벳 대/소문자로만 이루어져 있고, 길이는 10을 넘지 않는다.\n",
    "\n",
    "## 출력\n",
    "입력 받은 각 회원에 대해 이름과 분류를 출력한다. 성인부 회원이면 'Senior', 청소년부 회원이면 'Junior'를 출력한다."
   ]
  },
  {
   "cell_type": "code",
   "execution_count": 2,
   "metadata": {},
   "outputs": [
    {
     "name": "stdout",
     "output_type": "stream",
     "text": [
      "Joe Junior\n",
      "Bill Senior\n",
      "Billy Junior\n",
      "Sam Senior\n"
     ]
    }
   ],
   "source": [
    "while True:\n",
    "    name, age, weight = input().split()\n",
    "    age, weight = int(age), int(weight)\n",
    "    if name == \"#\":\n",
    "        break\n",
    "    if age > 17 or weight >= 80:\n",
    "        print(name, \"Senior\")\n",
    "    else:\n",
    "        print(name, \"Junior\")"
   ]
  }
 ],
 "metadata": {
  "kernelspec": {
   "display_name": "venv",
   "language": "python",
   "name": "venv"
  },
  "language_info": {
   "codemirror_mode": {
    "name": "ipython",
    "version": 3
   },
   "file_extension": ".py",
   "mimetype": "text/x-python",
   "name": "python",
   "nbconvert_exporter": "python",
   "pygments_lexer": "ipython3",
   "version": "3.11.2"
  }
 },
 "nbformat": 4,
 "nbformat_minor": 2
}
