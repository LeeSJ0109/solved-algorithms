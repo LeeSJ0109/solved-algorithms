{
 "cells": [
  {
   "cell_type": "markdown",
   "metadata": {},
   "source": [
    "## 문제\n",
    "세연이네 학교 운동장은 아래와 같다.\n",
    "\n",
    "<center>\n",
    "<img src='../../images/16486.png'>\n",
    "</center>\n",
    "\n",
    "위의 그림에서 영역 A와 B는 반원이며, 영역 C는 직사각형이다. 영역 C의 가로의 길이를 $d_1$, 영역 A의 반지름의 길이 $d_2$의 값이 주어지면 운동장의 한 바퀴 둘레를 알아내는 프로그램을 작성하시오. (단, 이 문제에서는 π (원주율)의 값을 3.141592라고 한다.)\n",
    "\n",
    "## 입력\n",
    "첫째 줄에 $d_1$의 값이 주어진다. 둘째 줄에는 $d_2$의 값이 주어진다. ($d_1$, $d_2$의 값은 100,000 이하의 양의 정수)\n",
    "\n",
    "## 출력\n",
    "첫째 줄에 문제에서 요구하는 정답을 출력한다. 절대/상대 오차는 $10^{-6}$ 까지 허용한다.\n"
   ]
  },
  {
   "cell_type": "code",
   "execution_count": 2,
   "metadata": {},
   "outputs": [
    {
     "name": "stdout",
     "output_type": "stream",
     "text": [
      "76.265472\n"
     ]
    }
   ],
   "source": [
    "pi = 3.141592\n",
    "\n",
    "d1, d2 = int(input()), int(input())\n",
    "print(2 * (d1 + pi * d2))"
   ]
  }
 ],
 "metadata": {
  "kernelspec": {
   "display_name": "venv",
   "language": "python",
   "name": "venv"
  },
  "language_info": {
   "codemirror_mode": {
    "name": "ipython",
    "version": 3
   },
   "file_extension": ".py",
   "mimetype": "text/x-python",
   "name": "python",
   "nbconvert_exporter": "python",
   "pygments_lexer": "ipython3",
   "version": "3.11.2"
  }
 },
 "nbformat": 4,
 "nbformat_minor": 2
}
