{
 "cells": [
  {
   "cell_type": "markdown",
   "metadata": {},
   "source": [
    "## 문제\n",
    "당신은 길을 가다가 이상한 쪽지를 발견했다. 그 쪽지에는 암호가 적혀 있었는데, 똑똑한 당신은 암호가 뒤집으면 해독된다는 것을 발견했다.\n",
    "\n",
    "이 암호를 해독하는 프로그램을 작성하시오.\n",
    "\n",
    "## 입력\n",
    "한 줄에 하나의 암호가 주어진다. 암호의 길이는 500을 넘지 않는다.\n",
    "\n",
    "마지막 줄에는 \"END\"가 주어진다. (END는 해독하지 않는다.)\n",
    "\n",
    "## 출력\n",
    "각 암호가 해독된 것을 한 줄에 하나씩 출력한다.\n"
   ]
  },
  {
   "cell_type": "code",
   "execution_count": 1,
   "metadata": {},
   "outputs": [
    {
     "name": "stdout",
     "output_type": "stream",
     "text": [
      "What a good code!\n",
      "obfustication\n",
      "We intend to begin on the first of February unrestricted submarine warfare\n",
      "Concealed within his fortress, the lord of Mordor sees all\n"
     ]
    }
   ],
   "source": [
    "while True:\n",
    "    seq = input()\n",
    "    if seq == 'END':\n",
    "        break\n",
    "    print(seq[::-1])"
   ]
  }
 ],
 "metadata": {
  "kernelspec": {
   "display_name": "venv",
   "language": "python",
   "name": "venv"
  },
  "language_info": {
   "codemirror_mode": {
    "name": "ipython",
    "version": 3
   },
   "file_extension": ".py",
   "mimetype": "text/x-python",
   "name": "python",
   "nbconvert_exporter": "python",
   "pygments_lexer": "ipython3",
   "version": "3.11.2"
  }
 },
 "nbformat": 4,
 "nbformat_minor": 2
}
