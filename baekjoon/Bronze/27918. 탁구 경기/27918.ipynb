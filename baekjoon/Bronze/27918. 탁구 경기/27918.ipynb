{
 "cells": [
  {
   "cell_type": "markdown",
   "metadata": {},
   "source": [
    "## 문제\n",
    "달구와 포닉스는 탁구 치는 것을 좋아한다. 윤이는 오늘도 탁구를 치는 달구와 포닉스를 보고, 누가 경기에서 승리할지 예측해 보기로 했다.\n",
    "\n",
    "달구와 포닉스가 탁구 경기를 진행하는 규칙은 다음과 같다. 처음에 달구와 포닉스는 점수 \n",
    "$0$점을 가지고 시작한다. 경기는 총 \n",
    "$N$회의 라운드로 구성되며 각 라운드에서 이긴 사람이 \n",
    "$1$점을 얻는다. \n",
    "$N$회의 라운드가 모두 끝나거나, 경기 진행 도중 누군가가 \n",
    "$2$점 앞서게 되면 경기가 종료되며 이후의 라운드는 진행하지 않는다.\n",
    "\n",
    "윤이는 앞으로 \n",
    "$N$회의 라운드에서 누가 이길지를 예측했다. 윤이의 예측이 맞아떨어진다면 경기가 몇 대 몇으로 끝나는지 구하시오.\n",
    "\n",
    "## 입력\n",
    "첫 번째 줄에 경기의 수 \n",
    "$N$이 주어진다. (\n",
    "$1\\le N\\le 100\\ 000$)\n",
    "\n",
    "두 번째 줄부터 \n",
    "$N$개의 줄에 윤이가 예측한 각 라운드의 승자가 문자 하나로 주어진다. 달구가 이길 것이라면 D, 포닉스가 이길 것이라면 P가 주어진다.\n",
    "\n",
    "## 출력\n",
    "경기가 종료된 뒤 달구와 포닉스의 점수를 각각 \n",
    "$X$와 \n",
    "$Y$라고 할 때, X:Y 형식으로 출력한다."
   ]
  },
  {
   "cell_type": "code",
   "execution_count": 4,
   "metadata": {},
   "outputs": [
    {
     "name": "stdout",
     "output_type": "stream",
     "text": [
      "3:5\n"
     ]
    }
   ],
   "source": [
    "N = int(input())\n",
    "X, Y = 0, 0\n",
    "\n",
    "for _ in range(N):\n",
    "    w = input()\n",
    "\n",
    "    if abs(X - Y) < 2:\n",
    "        if w == 'D':\n",
    "            X += 1\n",
    "        else:\n",
    "            Y += 1\n",
    "            \n",
    "print(X, ':', Y, sep='')"
   ]
  }
 ],
 "metadata": {
  "kernelspec": {
   "display_name": "venv",
   "language": "python",
   "name": "python3"
  },
  "language_info": {
   "codemirror_mode": {
    "name": "ipython",
    "version": 3
   },
   "file_extension": ".py",
   "mimetype": "text/x-python",
   "name": "python",
   "nbconvert_exporter": "python",
   "pygments_lexer": "ipython3",
   "version": "3.11.2"
  }
 },
 "nbformat": 4,
 "nbformat_minor": 2
}
