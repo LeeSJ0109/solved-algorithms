{
 "cells": [
  {
   "cell_type": "markdown",
   "metadata": {},
   "source": [
    "## 문제\n",
    "세 양의 정수 \n",
    "$a$, \n",
    "$b$, \n",
    "$c$가 주어질 때, 다음 조건을 만족하는 정수 쌍 \n",
    "$(x, y, z)$의 개수를 구하시오.\n",
    "\n",
    "- $1 \\le x \\le a$ \n",
    "- $1 \\le y \\le b$ \n",
    "- $1 \\le z \\le c$ \n",
    "- $(x\\,\\bmod\\,y) = (y\\,\\bmod\\,z) = (z\\,\\bmod\\,x)$ \n",
    " \n",
    "$(A\\,\\bmod\\,B)$는 \n",
    "$A$를 \n",
    "$B$로 나눈 나머지를 의미한다.\n",
    "\n",
    "## 입력\n",
    "첫째 줄에 테스트 케이스의 수 \n",
    "$T$가 주어진다. \n",
    "$(1 \\le T \\le 100)$ \n",
    "\n",
    "다음 \n",
    "$T$개의 각 줄에는 세 정수 \n",
    "$a$, \n",
    "$b$, \n",
    "$c$가 공백으로 구분되어 주어진다. \n",
    "$(1 \\le a, b, c \\le 60)$ \n",
    "\n",
    "## 출력\n",
    "한 줄에 하나씩 정답을 출력한다.\n"
   ]
  },
  {
   "cell_type": "code",
   "execution_count": 2,
   "metadata": {},
   "outputs": [
    {
     "name": "stdout",
     "output_type": "stream",
     "text": [
      "1\n",
      "2\n"
     ]
    }
   ],
   "source": [
    "T = int(input())\n",
    "\n",
    "for _ in range(T):\n",
    "    a, b, c = map(int, input().split())\n",
    "    cnt = 0\n",
    "    \n",
    "    for x in range(1, a + 1):\n",
    "        for y in range(1, b + 1):\n",
    "            for z in range(1, c + 1):\n",
    "                if x % y == y % z == z % x:\n",
    "                    cnt += 1\n",
    "                    \n",
    "    print(cnt)"
   ]
  }
 ],
 "metadata": {
  "kernelspec": {
   "display_name": "venv",
   "language": "python",
   "name": "venv"
  },
  "language_info": {
   "codemirror_mode": {
    "name": "ipython",
    "version": 3
   },
   "file_extension": ".py",
   "mimetype": "text/x-python",
   "name": "python",
   "nbconvert_exporter": "python",
   "pygments_lexer": "ipython3",
   "version": "3.11.2"
  }
 },
 "nbformat": 4,
 "nbformat_minor": 2
}
