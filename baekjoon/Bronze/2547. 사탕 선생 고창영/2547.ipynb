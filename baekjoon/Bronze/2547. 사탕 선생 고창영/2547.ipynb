{
 "cells": [
  {
   "cell_type": "markdown",
   "metadata": {},
   "source": [
    "## 문제\n",
    "사탕 박사 고창영은 사탕 공장을 그만 두고 초등학교 선생님으로 취직했다.\n",
    "\n",
    "오늘은 창영이네 반 학생들과 소풍을 가는 날이다. N명의 학생은 모두 가방에 사탕을 가득 담아왔다.\n",
    "\n",
    "그런데, 사탕을 많이 가져온 학생들이 사탕을 적게 가져온 학생들을 놀리기 시작했다.\n",
    "\n",
    "창영이는 \"얘들아~ 그러면 안되지ㅜㅜ 사탕을 모두 여기에 가져와보렴. 선생님이 공평하게 나눠줄게\"\n",
    "\n",
    "창영이는 모든 학생들이 같은 사탕을 가지게 하려고 한다.\n",
    "\n",
    "이것이 가능한 일일까?\n",
    "\n",
    "## 입력\n",
    "첫째 줄에 테스트 케이스의 개수 T가 주어진다. 각 테스트 케이스는 빈 줄로 구분되어 있고, 다음과 같이 구성되어 있다.\n",
    "\n",
    "테스트 케이스의 첫째 줄에 학생의 수 N이 주어진다. 다음 N개의 줄에는 각 학생들이 가져온 사탕의 수가 주어진다.\n",
    "\n",
    "N은 100,000보다 작거나 같은 자연수이고, 사탕의 개수는 0보다 크거나 같은 정수이다. 학생들이 가져온 사탕 개수는 1018보다 작거나 같다. (학생들이 가져온 사탕 개수의 합은 1018을 넘어갈 수 있다)\n",
    "\n",
    "## 출력\n",
    "각 테스트 케이스에 대해 모두에게 같은 사탕을 나눠줄 수 있으면 YES를, 없으면 NO를 출력한다.\n"
   ]
  },
  {
   "cell_type": "code",
   "execution_count": 4,
   "metadata": {},
   "outputs": [
    {
     "name": "stdout",
     "output_type": "stream",
     "text": [
      "YES\n",
      "NO\n"
     ]
    }
   ],
   "source": [
    "T = int(input())\n",
    "\n",
    "for _ in range(T):\n",
    "    i, candy = input(), 0\n",
    "    N = int(input())\n",
    "    for _ in range(N):\n",
    "        candy += int(input())\n",
    "    if candy % N:\n",
    "        print('NO')\n",
    "    else:\n",
    "        print('YES')"
   ]
  }
 ],
 "metadata": {
  "kernelspec": {
   "display_name": "venv",
   "language": "python",
   "name": "python3"
  },
  "language_info": {
   "codemirror_mode": {
    "name": "ipython",
    "version": 3
   },
   "file_extension": ".py",
   "mimetype": "text/x-python",
   "name": "python",
   "nbconvert_exporter": "python",
   "pygments_lexer": "ipython3",
   "version": "3.11.2"
  }
 },
 "nbformat": 4,
 "nbformat_minor": 2
}
