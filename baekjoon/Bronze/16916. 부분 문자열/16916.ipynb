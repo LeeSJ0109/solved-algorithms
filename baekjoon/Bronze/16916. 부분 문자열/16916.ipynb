{
 "cells": [
  {
   "cell_type": "markdown",
   "metadata": {},
   "source": [
    "## 문제\n",
    "문자열 S의 부분 문자열이란, 문자열의 연속된 일부를 의미한다.\n",
    "\n",
    "예를 들어, \"aek\", \"joo\", \"ekj\"는 \"baekjoon\"의 부분 문자열이고, \"bak\", \"p\", \"oone\"는 부분 문자열이 아니다.\n",
    "\n",
    "문자열 S와 P가 주어졌을 때, P가 S의 부분 문자열인지 아닌지 알아보자.\n",
    "\n",
    "## 입력\n",
    "첫째 줄에 문자열 S, 둘째 줄에 문자열 P가 주어진다. 두 문자열은 빈 문자열이 아니며, 길이는 100만을 넘지 않는다. 또, 알파벳 소문자로만 이루어져 있다.\n",
    "\n",
    "## 출력\n",
    "P가 S의 부분 문자열이면 1, 아니면 0을 출력한다.\n"
   ]
  },
  {
   "cell_type": "code",
   "execution_count": 3,
   "metadata": {},
   "outputs": [
    {
     "name": "stdout",
     "output_type": "stream",
     "text": [
      "1\n"
     ]
    }
   ],
   "source": [
    "S, P = input(), input()\n",
    "\n",
    "if P in S:\n",
    "    print(1)\n",
    "else:\n",
    "    print(0)"
   ]
  }
 ],
 "metadata": {
  "kernelspec": {
   "display_name": "venv",
   "language": "python",
   "name": "venv"
  },
  "language_info": {
   "codemirror_mode": {
    "name": "ipython",
    "version": 3
   },
   "file_extension": ".py",
   "mimetype": "text/x-python",
   "name": "python",
   "nbconvert_exporter": "python",
   "pygments_lexer": "ipython3",
   "version": "3.11.2"
  }
 },
 "nbformat": 4,
 "nbformat_minor": 2
}
