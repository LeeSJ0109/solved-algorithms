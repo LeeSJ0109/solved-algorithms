{
 "cells": [
  {
   "cell_type": "markdown",
   "metadata": {},
   "source": [
    "## 문제\n",
    "연세대학교의 영문명은 YONSEI, 슬로건은 Leading the Way to the Future이다.\n",
    "\n",
    "이를 출력하는 프로그램을 작성해보도록 하자.\n",
    "\n",
    "## 입력\n",
    "첫째 줄에 N이 주어진다. (N = 0 또는 1)\n",
    "\n",
    "## 출력\n",
    "- N = 0일 경우: 연세대학교의 영문명을 출력한다.\n",
    "- N = 1일 경우: 연세대학교의 슬로건을 출력한다.\n",
    "\n",
    "대소문자 구별에 주의하도록 하자.\n"
   ]
  },
  {
   "cell_type": "code",
   "execution_count": 2,
   "metadata": {},
   "outputs": [
    {
     "name": "stdout",
     "output_type": "stream",
     "text": [
      "Leading the Way to the Future\n"
     ]
    }
   ],
   "source": [
    "eng = \"YONSEI\"\n",
    "slo = \"Leading the Way to the Future\"\n",
    "\n",
    "N = int(input())\n",
    "\n",
    "if N == 0:\n",
    "    print(eng)\n",
    "elif N == 1:\n",
    "    print(slo)"
   ]
  }
 ],
 "metadata": {
  "kernelspec": {
   "display_name": "venv",
   "language": "python",
   "name": "venv"
  },
  "language_info": {
   "codemirror_mode": {
    "name": "ipython",
    "version": 3
   },
   "file_extension": ".py",
   "mimetype": "text/x-python",
   "name": "python",
   "nbconvert_exporter": "python",
   "pygments_lexer": "ipython3",
   "version": "3.11.2"
  }
 },
 "nbformat": 4,
 "nbformat_minor": 2
}
