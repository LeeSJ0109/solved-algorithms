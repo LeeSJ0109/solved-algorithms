{
 "cells": [
  {
   "cell_type": "markdown",
   "id": "be2b29d9",
   "metadata": {},
   "source": [
    "## 문제\n",
    "레퓨닛(repunit)은 각 자리 숫자가 모두 \n",
    "$1$인 양의 정수를 말한다. 특히, 양의 정수 \n",
    "$K$에 대하여 \n",
    "$K$자리 레퓨닛은 레퓨닛 중에서 \n",
    "$K$자리 양의 정수인 것을 말한다. 예를 들어, \n",
    "$111$은 \n",
    "$3$자리 레퓨닛이고, \n",
    "$11111$은 \n",
    "$5$자리 레퓨닛이지만 \n",
    "$10$은 레퓨닛이 아니다.\n",
    "\n",
    "양의 정수 \n",
    "$X$와 \n",
    "$Y$가 입력으로 주어질 때, \n",
    "$X$자리 레퓨닛과 \n",
    "$Y$자리 레퓨닛의 합을 구해보자!\n",
    "\n",
    "## 입력\n",
    "첫째 줄에 정수 \n",
    "$X$와 \n",
    "$Y$가 공백으로 구분되어 주어진다. \n",
    "$(1 \\leq X, Y \\leq 9)$ \n",
    "\n",
    "## 출력\n",
    "첫째 줄에 \n",
    "$X$자리 레퓨닛과 \n",
    "$Y$자리 레퓨닛의 합을 출력한다."
   ]
  },
  {
   "cell_type": "code",
   "execution_count": 1,
   "id": "50c8cb46",
   "metadata": {},
   "outputs": [
    {
     "name": "stdout",
     "output_type": "stream",
     "text": [
      "2\n"
     ]
    }
   ],
   "source": [
    "repunit = [0, 1, 11, 111, 1111, 11111, 111111, 1111111, 11111111, 111111111]\n",
    "\n",
    "X, Y = map(int, input().split())\n",
    "\n",
    "print(repunit[X] + repunit[Y])"
   ]
  }
 ],
 "metadata": {
  "kernelspec": {
   "display_name": "Python 3",
   "language": "python",
   "name": "python3"
  },
  "language_info": {
   "codemirror_mode": {
    "name": "ipython",
    "version": 3
   },
   "file_extension": ".py",
   "mimetype": "text/x-python",
   "name": "python",
   "nbconvert_exporter": "python",
   "pygments_lexer": "ipython3",
   "version": "3.12.8"
  }
 },
 "nbformat": 4,
 "nbformat_minor": 5
}
