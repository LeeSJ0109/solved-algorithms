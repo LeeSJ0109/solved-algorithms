{
 "cells": [
  {
   "cell_type": "markdown",
   "metadata": {},
   "source": [
    "## 문제\n",
    "1부터 N까지의 수로 이루어진 순열이 있다. 이때, 사전순으로 다음에 오는 순열을 구하는 프로그램을 작성하시오.\n",
    "\n",
    "사전 순으로 가장 앞서는 순열은 오름차순으로 이루어진 순열이고, 가장 마지막에 오는 순열은 내림차순으로 이루어진 순열이다.\n",
    "\n",
    "N = 3인 경우에 사전순으로 순열을 나열하면 다음과 같다.\n",
    "\n",
    "- 1, 2, 3\n",
    "- 1, 3, 2\n",
    "- 2, 1, 3\n",
    "- 2, 3, 1\n",
    "- 3, 1, 2\n",
    "- 3, 2, 1\n",
    "\n",
    "## 입력\n",
    "첫째 줄에 N(1 ≤ N ≤ 10,000)이 주어진다. 둘째 줄에 순열이 주어진다.\n",
    "\n",
    "## 출력\n",
    "첫째 줄에 입력으로 주어진 순열의 다음에 오는 순열을 출력한다. 만약, 사전순으로 마지막에 오는 순열인 경우에는 -1을 출력한다."
   ]
  },
  {
   "cell_type": "code",
   "execution_count": 16,
   "metadata": {},
   "outputs": [],
   "source": [
    "def next_permutation(permutation):\n",
    "    N = len(permutation)\n",
    "    \n",
    "    for i in range(N - 1, -1, -1):\n",
    "        if permutation[i-1] < permutation[i]:\n",
    "            break\n",
    "    \n",
    "    if i == 0:\n",
    "        return [-1]\n",
    "    \n",
    "    for j in range(N - 1, -1, -1):\n",
    "        if permutation[i-1] < permutation[j]:\n",
    "            break\n",
    "        \n",
    "    permutation[i-1], permutation[j] = permutation[j], permutation[i-1]\n",
    "    permutation[i:] = sorted(permutation[i:])\n",
    "    \n",
    "    return permutation"
   ]
  },
  {
   "cell_type": "code",
   "execution_count": 17,
   "metadata": {},
   "outputs": [
    {
     "name": "stdout",
     "output_type": "stream",
     "text": [
      "1 4 2 3\n"
     ]
    }
   ],
   "source": [
    "N = int(input())\n",
    "permutation = list(map(int, input().split()))\n",
    "\n",
    "print(*next_permutation(permutation))"
   ]
  }
 ],
 "metadata": {
  "kernelspec": {
   "display_name": "venv",
   "language": "python",
   "name": "venv"
  },
  "language_info": {
   "codemirror_mode": {
    "name": "ipython",
    "version": 3
   },
   "file_extension": ".py",
   "mimetype": "text/x-python",
   "name": "python",
   "nbconvert_exporter": "python",
   "pygments_lexer": "ipython3",
   "version": "3.11.2"
  }
 },
 "nbformat": 4,
 "nbformat_minor": 2
}
