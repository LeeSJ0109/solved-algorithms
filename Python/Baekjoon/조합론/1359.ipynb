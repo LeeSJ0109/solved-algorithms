{
 "cells": [
  {
   "cell_type": "markdown",
   "metadata": {},
   "source": [
    "## 문제\n",
    "어제, 지민이는 몰래 리조트에 갔다가 입구에 걸려있는 복권 광고를 하나 보았다.\n",
    "\n",
    "“1부터 N까지의 수 중에 서로 다른 M개의 수를 골라보세요. 저희도 1부터 N까지의 수 중에 서로 다른 M개의 수를 고를건데, 적어도 K개의 수가 같으면 당첨입니다.!”\n",
    "\n",
    "지민이는 돌아오면서 자신이 복권에 당첨될 확률이 궁금해졌다.\n",
    "\n",
    "지민이가 복권에 당첨될 확률을 구하는 프로그램을 작성하시오.\n",
    "\n",
    "## 입력\n",
    "첫째 줄에 세 정수 N, M, K가 주어진다.\n",
    "\n",
    "## 출력\n",
    "첫째 줄에 지민이가 복권에 당첨될 확률을 출력한다. 절대/상대 오차는 10-9까지 허용한다.\n",
    "\n",
    "## 제한\n",
    "- 2 ≤ N ≤ 8\n",
    "- 1 ≤ M ≤ N-1\n",
    "- 1 ≤ K ≤ M"
   ]
  },
  {
   "cell_type": "code",
   "execution_count": 3,
   "metadata": {},
   "outputs": [
    {
     "name": "stdout",
     "output_type": "stream",
     "text": [
      "0.7571428571428571\n"
     ]
    }
   ],
   "source": [
    "from itertools import combinations\n",
    "\n",
    "N, M, K = map(int, input().split())\n",
    "win = 0\n",
    "\n",
    "combination = [*combinations([i for i in range(N)], M)]\n",
    "\n",
    "for c in combination:\n",
    "    cnt = 0\n",
    "    for i in range(M):\n",
    "        if c[i] < M:\n",
    "            cnt += 1\n",
    "    if cnt >= K:\n",
    "        win += 1\n",
    "        \n",
    "print(win / len(combination))"
   ]
  }
 ],
 "metadata": {
  "kernelspec": {
   "display_name": "venv",
   "language": "python",
   "name": "venv"
  },
  "language_info": {
   "codemirror_mode": {
    "name": "ipython",
    "version": 3
   },
   "file_extension": ".py",
   "mimetype": "text/x-python",
   "name": "python",
   "nbconvert_exporter": "python",
   "pygments_lexer": "ipython3",
   "version": "3.11.2"
  }
 },
 "nbformat": 4,
 "nbformat_minor": 2
}
