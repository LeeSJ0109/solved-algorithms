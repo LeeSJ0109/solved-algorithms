{
 "cells": [
  {
   "cell_type": "markdown",
   "metadata": {},
   "source": [
    "## 문제\n",
    "베라는 상의 N 벌과 하의 N 벌이 있다. i 번째 상의와 i 번째 하의는 모두 색상 i를 가진다. N 개의 색상은 모두 서로 다르다.\n",
    "\n",
    "상의와 하의가 서로 다른 색상인 조합은 총 몇 가지일까?\n",
    "\n",
    "## 입력\n",
    "입력은 아래와 같이 주어진다.\n",
    "\n",
    "    N\n",
    "\n",
    "## 출력\n",
    "상의와 하의가 서로 다른 색상인 조합의 가짓수를 출력한다.\n",
    "\n",
    "## 제한\n",
    "- 1 ≤ N ≤ 2017\n",
    "- N은 정수이다."
   ]
  },
  {
   "cell_type": "code",
   "execution_count": 3,
   "metadata": {},
   "outputs": [
    {
     "name": "stdout",
     "output_type": "stream",
     "text": [
      "20\n"
     ]
    }
   ],
   "source": [
    "N = int(input())\n",
    "\n",
    "print(N * (N-1))"
   ]
  }
 ],
 "metadata": {
  "kernelspec": {
   "display_name": "venv",
   "language": "python",
   "name": "venv"
  },
  "language_info": {
   "codemirror_mode": {
    "name": "ipython",
    "version": 3
   },
   "file_extension": ".py",
   "mimetype": "text/x-python",
   "name": "python",
   "nbconvert_exporter": "python",
   "pygments_lexer": "ipython3",
   "version": "3.11.2"
  }
 },
 "nbformat": 4,
 "nbformat_minor": 2
}
