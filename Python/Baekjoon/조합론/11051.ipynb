{
 "cells": [
  {
   "cell_type": "markdown",
   "metadata": {},
   "source": [
    "## 문제\n",
    "자연수 \n",
    "$N$과 정수 \n",
    "$K$가 주어졌을 때 이항 계수 \n",
    "$\\binom{N}{K}$를 10,007로 나눈 나머지를 구하는 프로그램을 작성하시오.\n",
    "\n",
    "## 입력\n",
    "첫째 줄에 \n",
    "$N$과 \n",
    "$K$가 주어진다. (1 ≤ \n",
    "$N$ ≤ 1,000, 0 ≤ \n",
    "$K$ ≤ \n",
    "$N$)\n",
    "\n",
    "## 출력\n",
    "$\\binom{N}{K}$를 10,007로 나눈 나머지를 출력한다."
   ]
  },
  {
   "cell_type": "code",
   "execution_count": 3,
   "metadata": {},
   "outputs": [
    {
     "name": "stdout",
     "output_type": "stream",
     "text": [
      "10\n"
     ]
    }
   ],
   "source": [
    "from math import factorial\n",
    "\n",
    "N, K = map(int, input().split())\n",
    "\n",
    "print((factorial(N) // factorial(N - K) // factorial(K)) % 10007)"
   ]
  }
 ],
 "metadata": {
  "kernelspec": {
   "display_name": "venv",
   "language": "python",
   "name": "venv"
  },
  "language_info": {
   "codemirror_mode": {
    "name": "ipython",
    "version": 3
   },
   "file_extension": ".py",
   "mimetype": "text/x-python",
   "name": "python",
   "nbconvert_exporter": "python",
   "pygments_lexer": "ipython3",
   "version": "3.11.2"
  }
 },
 "nbformat": 4,
 "nbformat_minor": 2
}
