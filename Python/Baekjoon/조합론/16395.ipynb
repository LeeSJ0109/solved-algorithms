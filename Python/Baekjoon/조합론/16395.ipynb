{
 "cells": [
  {
   "cell_type": "markdown",
   "metadata": {},
   "source": [
    "## 문제\n",
    "파스칼의 삼각형은 이항계수를 삼각형 형태로 배열한 것인데, 블레즈 파스칼(1623-1662)을 따라 이름 붙여졌다.\n",
    "\n",
    "단순한 형태로, 파스칼의 삼각형은 다음과 같은 방법으로 만들 수 있다.\n",
    "\n",
    "1. N번째 행에는 N개의 수가 있다.\n",
    "2.첫 번째 행은 1이다.\n",
    "3. 두 번째 행부터, 각 행의 양 끝의 값은 1이고, 나머지 수의 값은 바로 위 행의 인접한 두 수의 합이다.\n",
    "\n",
    "예를 들어, n=3이면 3번째 행의 2번째 수는 위 행의 인접한 두 수 (1과 1)을 더해서 만든다. \n",
    "\n",
    "n=6일 때, 파스칼 삼각형의 6번째 행의 10은 5번째 행의 인접한 두 수(4와 6)을 더해서 구한다. \n",
    "\n",
    "<center>\n",
    "<img src=\"../Image/16395-1.png\">\n",
    "</center>\n",
    "\n",
    "같은 방식으로 n=11일 때, 다음과 같은 파스칼의 삼각형을 만들 수 있다.\n",
    "\n",
    "<center>\n",
    "<img src=\"../Image/16395-2.png\">\n",
    "</center>\n",
    "\n",
    "정수 n과 k가 주어졌을 때 파스칼의 삼각형에 있는 n번째 행에서 k번째 수를 출력하는 프로그램을 작성하시오.  이때, 이 수는 이항계수 C(n-1,k-1)임에 주의하시오.\n",
    "\n",
    "## 입력\n",
    "첫째 줄에 정수 n과 k가 빈칸을 사이에 두고 차례로 주어진다. 이 때, 1 ≤ k ≤ n ≤ 30을 만족한다.\n",
    "\n",
    "## 출력\n",
    "첫째 줄에 n번째 행에 있는 k번째 수를 출력한다."
   ]
  },
  {
   "cell_type": "code",
   "execution_count": 3,
   "metadata": {},
   "outputs": [
    {
     "name": "stdout",
     "output_type": "stream",
     "text": [
      "45\n"
     ]
    }
   ],
   "source": [
    "from math import factorial\n",
    "\n",
    "n, k = map(int, input().split())\n",
    "\n",
    "print(factorial(n - 1) // factorial(n - 1 - (k - 1)) // factorial(k - 1))"
   ]
  }
 ],
 "metadata": {
  "kernelspec": {
   "display_name": "venv",
   "language": "python",
   "name": "venv"
  },
  "language_info": {
   "codemirror_mode": {
    "name": "ipython",
    "version": 3
   },
   "file_extension": ".py",
   "mimetype": "text/x-python",
   "name": "python",
   "nbconvert_exporter": "python",
   "pygments_lexer": "ipython3",
   "version": "3.11.2"
  }
 },
 "nbformat": 4,
 "nbformat_minor": 2
}
